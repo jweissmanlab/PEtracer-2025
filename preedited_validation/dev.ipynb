{
 "cells": [
  {
   "cell_type": "code",
   "execution_count": 1,
   "metadata": {},
   "outputs": [
    {
     "name": "stderr",
     "output_type": "stream",
     "text": [
      "/home/wcolgan/miniconda3/envs/img-env/lib/python3.11/site-packages/pandas/core/arrays/masked.py:60: UserWarning: Pandas requires version '1.3.6' or newer of 'bottleneck' (version '1.3.5' currently installed).\n",
      "  from pandas.core import (\n"
     ]
    }
   ],
   "source": [
    "import sys\n",
    "import numpy as np\n",
    "import pandas as pd\n",
    "import seaborn as sns\n",
    "import matplotlib.pyplot as plt\n",
    "import matplotlib.ticker as ticker\n",
    "import matplotlib.lines as mlines\n",
    "import matplotlib.colors as mcolors\n",
    "import matplotlib.colorbar as mcolorbar\n",
    "import matplotlib.patches as mpatches\n",
    "from pathlib import Path\n",
    "import geopandas as gpd\n",
    "import ast\n",
    "\n",
    "# Configure\n",
    "__file__ = \"/lab/solexa_weissman/PEtracing_shared/PETracer_Paper/preedited_validation/dev.ipynb\"\n",
    "results_path = Path(__file__).parent / \"results\"\n",
    "data_path = Path(__file__).parent / \"data\"\n",
    "plots_path = Path(__file__).parent / \"plots\"\n",
    "base_path = Path(__file__).parent.parent\n",
    "ref_path = base_path / \"reference\"\n",
    "sys.path.append(str(base_path))\n",
    "plt.style.use(base_path / 'plot.mplstyle')\n",
    "\n",
    "from src.config import colors,discrete_cmap,min_spot_intensity,sequential_cmap,site_names,edit_names\n",
    "from src.utils import save_plot"
   ]
  }
 ],
 "metadata": {
  "kernelspec": {
   "display_name": "img-env",
   "language": "python",
   "name": "img-env"
  },
  "language_info": {
   "codemirror_mode": {
    "name": "ipython",
    "version": 3
   },
   "file_extension": ".py",
   "mimetype": "text/x-python",
   "name": "python",
   "nbconvert_exporter": "python",
   "pygments_lexer": "ipython3",
   "version": "3.11.4"
  }
 },
 "nbformat": 4,
 "nbformat_minor": 2
}
