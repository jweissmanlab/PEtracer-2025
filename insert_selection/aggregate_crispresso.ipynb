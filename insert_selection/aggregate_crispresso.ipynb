{
 "cells": [
  {
   "cell_type": "code",
   "execution_count": 6,
   "id": "84023068",
   "metadata": {
    "vscode": {
     "languageId": "r"
    }
   },
   "outputs": [],
   "source": [
    ".libPaths(c(.libPaths(), '/nfs/apps/lib/R/4.2-focal/site-library.2023q4'))\n",
    "library(Biostrings)\n",
    "library(plyr)\n",
    "library(dplyr)\n",
    "library(ggplot2)\n",
    "library(tidyr)\n",
    "library(ggpubr)\n",
    "library(metap)\n",
    "library(ggrepel)\n",
    "library(stringr)\n",
    "library(RColorBrewer)\n",
    "library(VennDiagram)\n",
    "library(diceR)\n",
    "library(Rcpp)"
   ]
  },
  {
   "cell_type": "code",
   "execution_count": 5,
   "id": "0b5f2f67-bd14-45e5-99ce-e1b40bdc9e32",
   "metadata": {
    "vscode": {
     "languageId": "r"
    }
   },
   "outputs": [],
   "source": [
    "# unzip allele table\n",
    "allele_tables <- list.files(path = \"data\", pattern = 'Alleles_frequency_table.zip', recursive = TRUE\n",
    "                            , full.names = TRUE)\n",
    "for (i in allele_tables) {\n",
    "    system(paste0(\"unzip \", i, \" -d \", dirname(i)))\n",
    "}"
   ]
  },
  {
   "cell_type": "code",
   "execution_count": 6,
   "id": "ac4a4d1b-a050-403d-bda6-00796dcc99dc",
   "metadata": {
    "tags": [],
    "vscode": {
     "languageId": "r"
    }
   },
   "outputs": [
    {
     "name": "stderr",
     "output_type": "stream",
     "text": [
      "\u001b[1m\u001b[22m`summarise()` has grouped output by 'sample', 'Aligned_Sequence', 'n_deleted',\n",
      "'n_inserted'. You can override using the `.groups` argument.\n"
     ]
    }
   ],
   "source": [
    "# merge allele tables\n",
    "allele_tables <- list.files(pattern = 'Alleles_frequency_table.txt', recursive = TRUE)\n",
    "allele_table_all <- data.frame(matrix(nrow = 0, ncol = 0))\n",
    "for (i in allele_tables) {\n",
    "    tmp <- read.delim(i, stringsAsFactors = FALSE)\n",
    "    tmp$sample <- gsub(\".*/CRISPResso_on_pegRNAlib_\", \"\", dirname(i))\n",
    "    allele_table_all <- rbind(allele_table_all, tmp)\n",
    "}\n",
    "\n",
    "# trim reads - trim more/only consider a certain window around editing site?\n",
    "allele_table_all$Aligned_Sequence <- substring(allele_table_all$Aligned_Sequence, 5)\n",
    "\n",
    "# merge and combine reads after trimming\n",
    "allele_table_summary <- allele_table_all %>% group_by(sample, Aligned_Sequence, n_deleted, n_inserted, n_mutated) %>% \n",
    "    summarize(Reads = sum(X.Reads))\n",
    "allele_table_summary <- allele_table_summary[order(allele_table_summary$Reads, decreasing = TRUE),]"
   ]
  },
  {
   "cell_type": "code",
   "execution_count": 8,
   "id": "c64dc5cb-0e67-4b05-a1e2-af38365904c0",
   "metadata": {
    "tags": [],
    "vscode": {
     "languageId": "r"
    }
   },
   "outputs": [],
   "source": [
    "allele_table_summary$Aligned_Sequence_20bpwindow <- gsub(\"-\", \"\", ifelse(grepl(\"plasmid_HEK3\", allele_table_summary$sample), \n",
    "                                            substring(allele_table_summary$Aligned_Sequence, 49)\n",
    "                                         , ifelse(grepl(\"plasmid_EMX1\", allele_table_summary$sample), \n",
    "                                         substring(allele_table_summary$Aligned_Sequence, 27),\n",
    "                                        ifelse(grepl(\"plasmid_RNF2\", allele_table_summary$sample), \n",
    "                                         substring(allele_table_summary$Aligned_Sequence, 29),\n",
    "                                        ifelse(grepl(\"gDNA_HEK3\", allele_table_summary$sample), \n",
    "                                         substring(allele_table_summary$Aligned_Sequence, 168),\n",
    "                                        ifelse(grepl(\"gDNA_EMX1\", allele_table_summary$sample), \n",
    "                                         substring(allele_table_summary$Aligned_Sequence, 159),\n",
    "                                        ifelse(grepl(\"gDNA_RNF2\", allele_table_summary$sample), \n",
    "                                         substring(allele_table_summary$Aligned_Sequence, 30),\n",
    "                                         NA)))))))\n",
    "allele_table_summary$Aligned_Sequence_20bpwindow <- substring(allele_table_summary$Aligned_Sequence_20bpwindow, 1, 25)"
   ]
  },
  {
   "cell_type": "code",
   "execution_count": 9,
   "id": "ec968bdf-c4b4-42dd-a0dc-0d525d22d83a",
   "metadata": {
    "tags": [],
    "vscode": {
     "languageId": "r"
    }
   },
   "outputs": [
    {
     "name": "stderr",
     "output_type": "stream",
     "text": [
      "\u001b[1m\u001b[22m`summarise()` has grouped output by 'sample', 'Aligned_Sequence_20bpwindow',\n",
      "'n_deleted', 'n_inserted'. You can override using the `.groups` argument.\n"
     ]
    }
   ],
   "source": [
    "allele_table_summary_20bp_window <- allele_table_summary %>% \n",
    "    group_by(sample, Aligned_Sequence_20bpwindow, n_deleted, n_inserted, n_mutated) %>% \n",
    "    summarize(Reads = sum(Reads))\n",
    "allele_table_summary_20bp_window <- allele_table_summary_20bp_window[\n",
    "    order(allele_table_summary_20bp_window$Reads, decreasing = TRUE),]"
   ]
  },
  {
   "cell_type": "code",
   "execution_count": 10,
   "id": "896290cd-29c0-47b3-ba59-10238805d7af",
   "metadata": {
    "tags": [],
    "vscode": {
     "languageId": "r"
    }
   },
   "outputs": [],
   "source": [
    "# annotate either as 5bp insertion or unedited\n",
    "allele_table_summary_20bp_window$annotation <- ifelse(allele_table_summary_20bp_window$n_inserted == 0 & \n",
    "                                          allele_table_summary_20bp_window$n_deleted == 0 & \n",
    "                                          allele_table_summary_20bp_window$n_mutated < 2, \"unedited\",\n",
    "                                          ifelse((grepl(\"plasmid_HEK3\", allele_table_summary_20bp_window$sample) & \n",
    "                                                  grepl(\"TCTGCCATCA[ACGT]{5}CGTGCTCAGT\", \n",
    "                                                        allele_table_summary_20bp_window$Aligned_Sequence_20bpwindow)) |\n",
    "                                                 (grepl(\"plasmid_EMX1\", allele_table_summary_20bp_window$sample) & \n",
    "                                                  grepl(\"GTGATGGGAG[ACGT]{5}TTCTTCTGCT\", \n",
    "                                                        allele_table_summary_20bp_window$Aligned_Sequence_20bpwindow)) | \n",
    "                                                 (grepl(\"plasmid_RNF2\", allele_table_summary_20bp_window$sample) & \n",
    "                                                  grepl(\"AACACCTCAG[ACGT]{5}GTAATGACTA\", \n",
    "                                                        allele_table_summary_20bp_window$Aligned_Sequence_20bpwindow)) | \n",
    "                                                 (grepl(\"gDNA_EMX1\", allele_table_summary_20bp_window$sample) & \n",
    "                                                  grepl(\"AGCAGAAGAA[ACGT]{5}CTCCCATCAC\", \n",
    "                                                        allele_table_summary_20bp_window$Aligned_Sequence_20bpwindow)) |\n",
    "                                                 (grepl(\"gDNA_HEK3\", allele_table_summary_20bp_window$sample) & \n",
    "                                                  grepl(\"ACTGAGCACG[ACGT]{5}TGATGGCAGA\", \n",
    "                                                        allele_table_summary_20bp_window$Aligned_Sequence_20bpwindow)) | \n",
    "                                                 (grepl(\"gDNA_RNF2\", allele_table_summary_20bp_window$sample) & \n",
    "                                                  grepl(\"TAGTCATTAC[ACGT]{5}CTGAGGTGTT\", \n",
    "                                                        allele_table_summary_20bp_window$Aligned_Sequence_20bpwindow))\n",
    "                                                 , \"5bp_insertion\",\"other\"))\n",
    "\n",
    "# extract 5 bp insertion sequence\n",
    "allele_table_summary_20bp_window$insertion <- ifelse(allele_table_summary_20bp_window$annotation == \"5bp_insertion\" & \n",
    "                                         grepl(\"plasmid_HEK3\", allele_table_summary_20bp_window$sample), \n",
    "                                         substring(allele_table_summary_20bp_window$Aligned_Sequence_20bpwindow, 11, 15)\n",
    "                                         , ifelse(allele_table_summary_20bp_window$annotation == \"5bp_insertion\" & \n",
    "                                         grepl(\"plasmid_EMX1\", allele_table_summary_20bp_window$sample), \n",
    "                                         substring(allele_table_summary_20bp_window$Aligned_Sequence_20bpwindow, 11, 15),\n",
    "                                        ifelse(allele_table_summary_20bp_window$annotation == \"5bp_insertion\" & \n",
    "                                         grepl(\"plasmid_RNF2\", allele_table_summary_20bp_window$sample), \n",
    "                                         substring(allele_table_summary_20bp_window$Aligned_Sequence_20bpwindow, 11, 15),\n",
    "                                        ifelse(allele_table_summary_20bp_window$annotation == \"5bp_insertion\" & \n",
    "                                         grepl(\"gDNA_HEK3\", allele_table_summary_20bp_window$sample), \n",
    "                                         substring(allele_table_summary_20bp_window$Aligned_Sequence_20bpwindow, 11, 15),\n",
    "                                        ifelse(allele_table_summary_20bp_window$annotation == \"5bp_insertion\" & \n",
    "                                         grepl(\"gDNA_EMX1\", allele_table_summary_20bp_window$sample), \n",
    "                                         substring(allele_table_summary_20bp_window$Aligned_Sequence_20bpwindow, 11, 15),\n",
    "                                        ifelse(allele_table_summary_20bp_window$annotation == \"5bp_insertion\" & \n",
    "                                         grepl(\"gDNA_RNF2\", allele_table_summary_20bp_window$sample), \n",
    "                                         substring(allele_table_summary_20bp_window$Aligned_Sequence_20bpwindow, 11, 15),\n",
    "                                         NA))))))\n",
    "\n",
    "# reverse complement plasmid insertion sequences\n",
    "allele_table_summary_20bp_window$insertion[!is.na(allele_table_summary_20bp_window$insertion) & \n",
    "                               grepl(\"plasmid\", allele_table_summary_20bp_window$sample)] <- unname(sapply(\n",
    "    allele_table_summary_20bp_window$insertion[!is.na(allele_table_summary_20bp_window$insertion) & \n",
    "                                   grepl(\"plasmid\", allele_table_summary_20bp_window$sample)]\n",
    "    , FUN = function(x) as.character(reverseComplement(DNAString(x)))))\n",
    "    \n",
    "write.table(allele_table_summary_20bp_window, \"data/allele_table_summary_q30_20bpwindow.txt\", row.names = FALSE\n",
    "            , sep = \"\\t\", quote = FALSE)"
   ]
  },
  {
   "cell_type": "code",
   "execution_count": 1,
   "id": "7f6c5e27-8992-4abf-aa0d-4e3807623122",
   "metadata": {
    "tags": [],
    "vscode": {
     "languageId": "r"
    }
   },
   "outputs": [],
   "source": [
    "allele_table_summary_20bp_window <- read.delim(\"data/allele_table_summary_q30_20bpwindow.txt\")"
   ]
  },
  {
   "cell_type": "code",
   "execution_count": 9,
   "id": "19092f26-0825-4b32-a829-997e2e8492fc",
   "metadata": {
    "tags": [],
    "vscode": {
     "languageId": "r"
    }
   },
   "outputs": [
    {
     "data": {
      "text/html": [
       "<table class=\"dataframe\">\n",
       "<caption>A data.frame: 6 × 8</caption>\n",
       "<thead>\n",
       "\t<tr><th></th><th scope=col>sample</th><th scope=col>Aligned_Sequence_20bpwindow</th><th scope=col>n_deleted</th><th scope=col>n_inserted</th><th scope=col>n_mutated</th><th scope=col>Reads</th><th scope=col>annotation</th><th scope=col>insertion</th></tr>\n",
       "\t<tr><th></th><th scope=col>&lt;chr&gt;</th><th scope=col>&lt;chr&gt;</th><th scope=col>&lt;int&gt;</th><th scope=col>&lt;int&gt;</th><th scope=col>&lt;int&gt;</th><th scope=col>&lt;int&gt;</th><th scope=col>&lt;chr&gt;</th><th scope=col>&lt;chr&gt;</th></tr>\n",
       "</thead>\n",
       "<tbody>\n",
       "\t<tr><th scope=row>1</th><td>gDNA_RNF2_REP3</td><td>TAGTCATTACCTGAGGTGTTCGTTG</td><td>0</td><td>0</td><td>0</td><td>957376</td><td>unedited</td><td>NA</td></tr>\n",
       "\t<tr><th scope=row>2</th><td>gDNA_RNF2_REP1</td><td>TAGTCATTACCTGAGGTGTTCGTTG</td><td>0</td><td>0</td><td>0</td><td>866101</td><td>unedited</td><td>NA</td></tr>\n",
       "\t<tr><th scope=row>3</th><td>gDNA_RNF2_REP2</td><td>TAGTCATTACCTGAGGTGTTCGTTG</td><td>0</td><td>0</td><td>0</td><td>843393</td><td>unedited</td><td>NA</td></tr>\n",
       "\t<tr><th scope=row>4</th><td>gDNA_HEK3_REP3</td><td>ACTGAGCACGTGATGGCAGAGGAAA</td><td>0</td><td>0</td><td>0</td><td>122385</td><td>unedited</td><td>NA</td></tr>\n",
       "\t<tr><th scope=row>5</th><td>gDNA_EMX1_REP2</td><td>AGCAGAAGAAGAAGGGCTCCCATCA</td><td>0</td><td>0</td><td>0</td><td> 93476</td><td>unedited</td><td>NA</td></tr>\n",
       "\t<tr><th scope=row>6</th><td>gDNA_HEK3_REP2</td><td>ACTGAGCACGTGATGGCAGAGGAAA</td><td>0</td><td>0</td><td>0</td><td> 92782</td><td>unedited</td><td>NA</td></tr>\n",
       "</tbody>\n",
       "</table>\n"
      ],
      "text/latex": [
       "A data.frame: 6 × 8\n",
       "\\begin{tabular}{r|llllllll}\n",
       "  & sample & Aligned\\_Sequence\\_20bpwindow & n\\_deleted & n\\_inserted & n\\_mutated & Reads & annotation & insertion\\\\\n",
       "  & <chr> & <chr> & <int> & <int> & <int> & <int> & <chr> & <chr>\\\\\n",
       "\\hline\n",
       "\t1 & gDNA\\_RNF2\\_REP3 & TAGTCATTACCTGAGGTGTTCGTTG & 0 & 0 & 0 & 957376 & unedited & NA\\\\\n",
       "\t2 & gDNA\\_RNF2\\_REP1 & TAGTCATTACCTGAGGTGTTCGTTG & 0 & 0 & 0 & 866101 & unedited & NA\\\\\n",
       "\t3 & gDNA\\_RNF2\\_REP2 & TAGTCATTACCTGAGGTGTTCGTTG & 0 & 0 & 0 & 843393 & unedited & NA\\\\\n",
       "\t4 & gDNA\\_HEK3\\_REP3 & ACTGAGCACGTGATGGCAGAGGAAA & 0 & 0 & 0 & 122385 & unedited & NA\\\\\n",
       "\t5 & gDNA\\_EMX1\\_REP2 & AGCAGAAGAAGAAGGGCTCCCATCA & 0 & 0 & 0 &  93476 & unedited & NA\\\\\n",
       "\t6 & gDNA\\_HEK3\\_REP2 & ACTGAGCACGTGATGGCAGAGGAAA & 0 & 0 & 0 &  92782 & unedited & NA\\\\\n",
       "\\end{tabular}\n"
      ],
      "text/markdown": [
       "\n",
       "A data.frame: 6 × 8\n",
       "\n",
       "| <!--/--> | sample &lt;chr&gt; | Aligned_Sequence_20bpwindow &lt;chr&gt; | n_deleted &lt;int&gt; | n_inserted &lt;int&gt; | n_mutated &lt;int&gt; | Reads &lt;int&gt; | annotation &lt;chr&gt; | insertion &lt;chr&gt; |\n",
       "|---|---|---|---|---|---|---|---|---|\n",
       "| 1 | gDNA_RNF2_REP3 | TAGTCATTACCTGAGGTGTTCGTTG | 0 | 0 | 0 | 957376 | unedited | NA |\n",
       "| 2 | gDNA_RNF2_REP1 | TAGTCATTACCTGAGGTGTTCGTTG | 0 | 0 | 0 | 866101 | unedited | NA |\n",
       "| 3 | gDNA_RNF2_REP2 | TAGTCATTACCTGAGGTGTTCGTTG | 0 | 0 | 0 | 843393 | unedited | NA |\n",
       "| 4 | gDNA_HEK3_REP3 | ACTGAGCACGTGATGGCAGAGGAAA | 0 | 0 | 0 | 122385 | unedited | NA |\n",
       "| 5 | gDNA_EMX1_REP2 | AGCAGAAGAAGAAGGGCTCCCATCA | 0 | 0 | 0 |  93476 | unedited | NA |\n",
       "| 6 | gDNA_HEK3_REP2 | ACTGAGCACGTGATGGCAGAGGAAA | 0 | 0 | 0 |  92782 | unedited | NA |\n",
       "\n"
      ],
      "text/plain": [
       "  sample         Aligned_Sequence_20bpwindow n_deleted n_inserted n_mutated\n",
       "1 gDNA_RNF2_REP3 TAGTCATTACCTGAGGTGTTCGTTG   0         0          0        \n",
       "2 gDNA_RNF2_REP1 TAGTCATTACCTGAGGTGTTCGTTG   0         0          0        \n",
       "3 gDNA_RNF2_REP2 TAGTCATTACCTGAGGTGTTCGTTG   0         0          0        \n",
       "4 gDNA_HEK3_REP3 ACTGAGCACGTGATGGCAGAGGAAA   0         0          0        \n",
       "5 gDNA_EMX1_REP2 AGCAGAAGAAGAAGGGCTCCCATCA   0         0          0        \n",
       "6 gDNA_HEK3_REP2 ACTGAGCACGTGATGGCAGAGGAAA   0         0          0        \n",
       "  Reads  annotation insertion\n",
       "1 957376 unedited   NA       \n",
       "2 866101 unedited   NA       \n",
       "3 843393 unedited   NA       \n",
       "4 122385 unedited   NA       \n",
       "5  93476 unedited   NA       \n",
       "6  92782 unedited   NA       "
      ]
     },
     "metadata": {},
     "output_type": "display_data"
    }
   ],
   "source": [
    "head(allele_table_summary_20bp_window)"
   ]
  },
  {
   "cell_type": "code",
   "execution_count": 26,
   "id": "7bcbb5af-8b06-4009-8a20-717b526a7282",
   "metadata": {
    "tags": [],
    "vscode": {
     "languageId": "r"
    }
   },
   "outputs": [
    {
     "name": "stderr",
     "output_type": "stream",
     "text": [
      "\u001b[1m\u001b[22m`summarise()` has grouped output by 'sample'. You can override using the\n",
      "`.groups` argument.\n"
     ]
    },
    {
     "data": {
      "text/html": [
       "<table class=\"dataframe\">\n",
       "<caption>A grouped_df: 6 × 4</caption>\n",
       "<thead>\n",
       "\t<tr><th scope=col>sample</th><th scope=col>annotation</th><th scope=col>Reads</th><th scope=col>prop</th></tr>\n",
       "\t<tr><th scope=col>&lt;chr&gt;</th><th scope=col>&lt;chr&gt;</th><th scope=col>&lt;int&gt;</th><th scope=col>&lt;dbl&gt;</th></tr>\n",
       "</thead>\n",
       "<tbody>\n",
       "\t<tr><td>plasmid_RNF2_REP1</td><td>unedited     </td><td>     2</td><td>1.539077e-05</td></tr>\n",
       "\t<tr><td>plasmid_RNF2_REP2</td><td>5bp_insertion</td><td>121758</td><td>7.948947e-01</td></tr>\n",
       "\t<tr><td>plasmid_RNF2_REP2</td><td>other        </td><td> 31414</td><td>2.050857e-01</td></tr>\n",
       "\t<tr><td>plasmid_RNF2_REP2</td><td>unedited     </td><td>     3</td><td>1.958544e-05</td></tr>\n",
       "\t<tr><td>plasmid_RNF2_REP3</td><td>5bp_insertion</td><td>100353</td><td>7.936620e-01</td></tr>\n",
       "\t<tr><td>plasmid_RNF2_REP3</td><td>other        </td><td> 26090</td><td>2.063380e-01</td></tr>\n",
       "</tbody>\n",
       "</table>\n"
      ],
      "text/latex": [
       "A grouped\\_df: 6 × 4\n",
       "\\begin{tabular}{llll}\n",
       " sample & annotation & Reads & prop\\\\\n",
       " <chr> & <chr> & <int> & <dbl>\\\\\n",
       "\\hline\n",
       "\t plasmid\\_RNF2\\_REP1 & unedited      &      2 & 1.539077e-05\\\\\n",
       "\t plasmid\\_RNF2\\_REP2 & 5bp\\_insertion & 121758 & 7.948947e-01\\\\\n",
       "\t plasmid\\_RNF2\\_REP2 & other         &  31414 & 2.050857e-01\\\\\n",
       "\t plasmid\\_RNF2\\_REP2 & unedited      &      3 & 1.958544e-05\\\\\n",
       "\t plasmid\\_RNF2\\_REP3 & 5bp\\_insertion & 100353 & 7.936620e-01\\\\\n",
       "\t plasmid\\_RNF2\\_REP3 & other         &  26090 & 2.063380e-01\\\\\n",
       "\\end{tabular}\n"
      ],
      "text/markdown": [
       "\n",
       "A grouped_df: 6 × 4\n",
       "\n",
       "| sample &lt;chr&gt; | annotation &lt;chr&gt; | Reads &lt;int&gt; | prop &lt;dbl&gt; |\n",
       "|---|---|---|---|\n",
       "| plasmid_RNF2_REP1 | unedited      |      2 | 1.539077e-05 |\n",
       "| plasmid_RNF2_REP2 | 5bp_insertion | 121758 | 7.948947e-01 |\n",
       "| plasmid_RNF2_REP2 | other         |  31414 | 2.050857e-01 |\n",
       "| plasmid_RNF2_REP2 | unedited      |      3 | 1.958544e-05 |\n",
       "| plasmid_RNF2_REP3 | 5bp_insertion | 100353 | 7.936620e-01 |\n",
       "| plasmid_RNF2_REP3 | other         |  26090 | 2.063380e-01 |\n",
       "\n"
      ],
      "text/plain": [
       "  sample            annotation    Reads  prop        \n",
       "1 plasmid_RNF2_REP1 unedited           2 1.539077e-05\n",
       "2 plasmid_RNF2_REP2 5bp_insertion 121758 7.948947e-01\n",
       "3 plasmid_RNF2_REP2 other          31414 2.050857e-01\n",
       "4 plasmid_RNF2_REP2 unedited           3 1.958544e-05\n",
       "5 plasmid_RNF2_REP3 5bp_insertion 100353 7.936620e-01\n",
       "6 plasmid_RNF2_REP3 other          26090 2.063380e-01"
      ]
     },
     "metadata": {},
     "output_type": "display_data"
    },
    {
     "data": {
      "text/html": [
       "0.793661966261478"
      ],
      "text/latex": [
       "0.793661966261478"
      ],
      "text/markdown": [
       "0.793661966261478"
      ],
      "text/plain": [
       "[1] 0.793662"
      ]
     },
     "metadata": {},
     "output_type": "display_data"
    },
    {
     "data": {
      "text/html": [
       "0.876898772042946"
      ],
      "text/latex": [
       "0.876898772042946"
      ],
      "text/markdown": [
       "0.876898772042946"
      ],
      "text/plain": [
       "[1] 0.8768988"
      ]
     },
     "metadata": {},
     "output_type": "display_data"
    },
    {
     "data": {
      "text/html": [
       "0.934813371683571"
      ],
      "text/latex": [
       "0.934813371683571"
      ],
      "text/markdown": [
       "0.934813371683571"
      ],
      "text/plain": [
       "[1] 0.9348134"
      ]
     },
     "metadata": {},
     "output_type": "display_data"
    }
   ],
   "source": [
    "dat <- allele_table_summary_20bp_window %>% group_by(sample, annotation) %>% summarise(Reads = sum(Reads))\n",
    "dat <- dat %>% group_by(sample) %>% mutate(prop = Reads/sum(Reads))\n",
    "tail(dat)\n",
    "min(dat$prop[grepl(\"plasmid\", dat$sample) & dat$annotation == '5bp_insertion'])\n",
    "mean(dat$prop[grepl(\"plasmid\", dat$sample) & dat$annotation == '5bp_insertion'])\n",
    "max(dat$prop[grepl(\"plasmid\", dat$sample) & dat$annotation == '5bp_insertion'])"
   ]
  },
  {
   "cell_type": "code",
   "execution_count": 11,
   "id": "592637dd-2fe8-437c-b5e6-386536c9454d",
   "metadata": {
    "tags": [],
    "vscode": {
     "languageId": "r"
    }
   },
   "outputs": [],
   "source": [
    "allele_table_deduplicated <- allele_table_summary_20bp_window[\n",
    "    allele_table_summary_20bp_window$annotation == '5bp_insertion',]\n",
    "allele_table_deduplicated <- allele_table_deduplicated[!duplicated(paste(allele_table_deduplicated$sample\n",
    "                                                                         , allele_table_deduplicated$insertion)),]\n",
    "allele_table_plot <- spread(allele_table_deduplicated[,c(\"insertion\", 'sample', \"Reads\")]\n",
    "                            , key = sample, value = Reads, fill = 1)\n",
    "allele_table_plot$total <- rowSums(allele_table_plot[,2:length(colnames(allele_table_plot))])\n",
    "allele_table_plot <- allele_table_plot[order(allele_table_plot$total, decreasing = TRUE),]\n",
    "write.table(allele_table_plot, \"data/allele_matrix_deduplicated_q30_20bpwindow.txt\", row.names = FALSE\n",
    "            , sep = \"\\t\", quote = FALSE)"
   ]
  },
  {
   "cell_type": "code",
   "execution_count": 12,
   "id": "77d82e7d-f286-42ef-8935-7e1f20d16438",
   "metadata": {
    "tags": [],
    "vscode": {
     "languageId": "r"
    }
   },
   "outputs": [],
   "source": [
    "allele_table_norm <- data.frame(allele_table_plot[,1:19])\n",
    "rownames(allele_table_norm) <- allele_table_norm$insertion\n",
    "allele_table_norm <- allele_table_norm[,2:19]\n",
    "\n",
    "# depth normalize and log transform\n",
    "allele_table_norm <- sweep(allele_table_norm,2,colSums(allele_table_norm),`/`)\n",
    "allele_table_norm <- log2(allele_table_norm*1000000)\n",
    "allele_table_stats <- allele_table_norm\n",
    "\n",
    "# calculate fold change over mean of plasmid library\n",
    "allele_table_stats$EMX1_log2FC <- rowMeans(allele_table_norm[\n",
    "    ,grepl(\"gDNA_EMX1\", colnames(allele_table_norm))]) - rowMeans(\n",
    "    allele_table_norm[,grepl(\"plasmid_EMX1\", colnames(allele_table_norm))])\n",
    "allele_table_stats$RNF2_log2FC <- rowMeans(allele_table_norm[\n",
    "    ,grepl(\"gDNA_RNF2\", colnames(allele_table_norm))]) - rowMeans(\n",
    "    allele_table_norm[,grepl(\"plasmid_RNF2\", colnames(allele_table_norm))])\n",
    "allele_table_stats$HEK3_log2FC <- rowMeans(allele_table_norm[\n",
    "    ,grepl(\"gDNA_HEK3\", colnames(allele_table_norm))]) - rowMeans(\n",
    "    allele_table_norm[,grepl(\"plasmid_HEK3\", colnames(allele_table_norm))])\n",
    "\n",
    "# logFC per replicate\n",
    "allele_table_norm[,grepl(\"gDNA_EMX1\", colnames(allele_table_norm))] <- allele_table_norm[\n",
    "    ,grepl(\"gDNA_EMX1\", colnames(allele_table_norm))] - rowMeans(\n",
    "    allele_table_norm[,grepl(\"plasmid_EMX1\", colnames(allele_table_norm))])\n",
    "allele_table_norm[,grepl(\"gDNA_HEK3\", colnames(allele_table_norm))] <- allele_table_norm[\n",
    "    ,grepl(\"gDNA_HEK3\", colnames(allele_table_norm))] - rowMeans(\n",
    "    allele_table_norm[,grepl(\"plasmid_HEK3\", colnames(allele_table_norm))])\n",
    "allele_table_norm[,grepl(\"gDNA_RNF2\", colnames(allele_table_norm))] <- allele_table_norm[\n",
    "    ,grepl(\"gDNA_RNF2\", colnames(allele_table_norm))] - rowMeans(\n",
    "    allele_table_norm[,grepl(\"plasmid_RNF2\", colnames(allele_table_norm))])\n",
    "allele_table_norm <- allele_table_norm[,grepl(\"gDNA\", colnames(allele_table_norm))]\n",
    "\n",
    "# zscore\n",
    "allele_table_norm <- scale(allele_table_norm)\n",
    "\n",
    "# calculate p value from zscore\n",
    "allele_table_norm <- data.frame(2*pnorm(-abs(allele_table_norm)))\n",
    "\n",
    "# combine p values from replicates with Stouffer’s method\n",
    "allele_table_stats$RNF2_pval <- unname(unlist(sapply(1:nrow(allele_table_norm), function(i) \n",
    "    sumz(unlist(allele_table_norm[i,grepl(\"gDNA_RNF2\", colnames(allele_table_norm))]))['p'])))\n",
    "allele_table_stats$HEK3_pval <- unname(unlist(sapply(1:nrow(allele_table_norm), function(i) \n",
    "    sumz(unlist(allele_table_norm[i,grepl(\"gDNA_HEK3\", colnames(allele_table_norm))]))['p'])))\n",
    "allele_table_stats$EMX1_pval <- unname(unlist(sapply(1:nrow(allele_table_norm), function(i) \n",
    "    sumz(unlist(allele_table_norm[i,grepl(\"gDNA_EMX1\", colnames(allele_table_norm))]))['p'])))\n",
    "write.table(allele_table_stats, \"data/allele_matrix_normalized_stats_q30_20bpwindow.txt\", row.names = TRUE\n",
    "            , sep = \"\\t\", quote = FALSE)"
   ]
  },
  {
   "cell_type": "code",
   "execution_count": 28,
   "id": "f2688593-8656-4ed9-aa26-bf237fef8143",
   "metadata": {
    "tags": [],
    "vscode": {
     "languageId": "r"
    }
   },
   "outputs": [
    {
     "data": {
      "text/html": [
       "<table class=\"dataframe\">\n",
       "<caption>A data.frame: 6 × 24</caption>\n",
       "<thead>\n",
       "\t<tr><th></th><th scope=col>gDNA_EMX1_REP1</th><th scope=col>gDNA_EMX1_REP2</th><th scope=col>gDNA_EMX1_REP3</th><th scope=col>gDNA_HEK3_REP1</th><th scope=col>gDNA_HEK3_REP2</th><th scope=col>gDNA_HEK3_REP3</th><th scope=col>gDNA_RNF2_REP1</th><th scope=col>gDNA_RNF2_REP2</th><th scope=col>gDNA_RNF2_REP3</th><th scope=col>plasmid_EMX1_REP1</th><th scope=col>⋯</th><th scope=col>plasmid_RNF2_REP1</th><th scope=col>plasmid_RNF2_REP2</th><th scope=col>plasmid_RNF2_REP3</th><th scope=col>total</th><th scope=col>EMX1_log2FC</th><th scope=col>RNF2_log2FC</th><th scope=col>HEK3_log2FC</th><th scope=col>RNF2_pval</th><th scope=col>HEK3_pval</th><th scope=col>EMX1_pval</th></tr>\n",
       "\t<tr><th></th><th scope=col>&lt;dbl&gt;</th><th scope=col>&lt;dbl&gt;</th><th scope=col>&lt;dbl&gt;</th><th scope=col>&lt;dbl&gt;</th><th scope=col>&lt;dbl&gt;</th><th scope=col>&lt;dbl&gt;</th><th scope=col>&lt;dbl&gt;</th><th scope=col>&lt;dbl&gt;</th><th scope=col>&lt;dbl&gt;</th><th scope=col>&lt;dbl&gt;</th><th scope=col>⋯</th><th scope=col>&lt;dbl&gt;</th><th scope=col>&lt;dbl&gt;</th><th scope=col>&lt;dbl&gt;</th><th scope=col>&lt;dbl&gt;</th><th scope=col>&lt;dbl&gt;</th><th scope=col>&lt;dbl&gt;</th><th scope=col>&lt;dbl&gt;</th><th scope=col>&lt;dbl&gt;</th><th scope=col>&lt;dbl&gt;</th><th scope=col>&lt;dbl&gt;</th></tr>\n",
       "</thead>\n",
       "<tbody>\n",
       "\t<tr><th scope=row>GTCAG</th><td>16.984365</td><td>16.951205</td><td>16.959148</td><td>17.280262</td><td>17.270789</td><td>17.266018</td><td>10.23022</td><td>10.35191</td><td>10.12793</td><td>16.748306</td><td>⋯</td><td> 9.502832</td><td> 9.94645</td><td>10.01902</td><td>15.75119</td><td> 0.21478810</td><td> 0.4139206</td><td> 0.40840793</td><td>0.59433851</td><td>0.4732554</td><td>0.7776647005</td></tr>\n",
       "\t<tr><th scope=row>GCTGC</th><td> 9.990104</td><td>10.033502</td><td> 9.917822</td><td> 9.224799</td><td> 9.348660</td><td>10.062302</td><td>16.38929</td><td>16.40034</td><td>16.39287</td><td> 9.878143</td><td>⋯</td><td>16.063139</td><td>16.08719</td><td>16.06068</td><td>15.61366</td><td> 0.06499027</td><td> 0.3238235</td><td> 0.64738212</td><td>0.69795182</td><td>0.2507616</td><td>0.8828926205</td></tr>\n",
       "\t<tr><th scope=row>GGGGG</th><td> 8.624151</td><td> 8.610645</td><td> 8.957715</td><td>11.541910</td><td>11.566891</td><td>11.470561</td><td>12.59162</td><td>12.68495</td><td>12.63889</td><td>11.789756</td><td>⋯</td><td>13.117934</td><td>13.10565</td><td>13.15147</td><td>12.30073</td><td>-3.10187130</td><td>-0.4865340</td><td>-0.46664519</td><td>0.84925854</td><td>0.8919631</td><td>0.0013517462</td></tr>\n",
       "\t<tr><th scope=row>GCCCC</th><td> 9.307294</td><td> 9.502121</td><td> 9.130551</td><td> 9.283693</td><td> 9.289282</td><td> 9.253444</td><td>12.12349</td><td>12.09552</td><td>12.06461</td><td> 9.936091</td><td>⋯</td><td>11.113217</td><td>10.93438</td><td>10.87317</td><td>11.38546</td><td>-0.57381611</td><td> 1.1209530</td><td> 0.54390318</td><td>0.05702057</td><td>0.3188213</td><td>0.9877331681</td></tr>\n",
       "\t<tr><th scope=row>GTGGG</th><td> 7.933836</td><td> 7.894438</td><td> 7.424282</td><td>11.166532</td><td>11.118978</td><td>11.144097</td><td>11.37848</td><td>11.41477</td><td>11.41759</td><td>11.061148</td><td>⋯</td><td>12.035564</td><td>12.18422</td><td>12.24636</td><td>11.25089</td><td>-3.36086273</td><td>-0.7517691</td><td> 0.05253704</td><td>0.54634737</td><td>0.9012997</td><td>0.0003747302</td></tr>\n",
       "\t<tr><th scope=row>GCCCG</th><td>10.249191</td><td>10.263672</td><td>10.433743</td><td> 9.880151</td><td> 9.786781</td><td>10.226874</td><td>11.84364</td><td>11.67136</td><td>11.81920</td><td>10.002688</td><td>⋯</td><td>10.851442</td><td>10.76066</td><td>10.56651</td><td>11.21356</td><td> 0.22658080</td><td> 1.0518635</td><td> 0.38513821</td><td>0.07763736</td><td>0.5222967</td><td>0.7708793752</td></tr>\n",
       "</tbody>\n",
       "</table>\n"
      ],
      "text/latex": [
       "A data.frame: 6 × 24\n",
       "\\begin{tabular}{r|lllllllllllllllllllll}\n",
       "  & gDNA\\_EMX1\\_REP1 & gDNA\\_EMX1\\_REP2 & gDNA\\_EMX1\\_REP3 & gDNA\\_HEK3\\_REP1 & gDNA\\_HEK3\\_REP2 & gDNA\\_HEK3\\_REP3 & gDNA\\_RNF2\\_REP1 & gDNA\\_RNF2\\_REP2 & gDNA\\_RNF2\\_REP3 & plasmid\\_EMX1\\_REP1 & ⋯ & plasmid\\_RNF2\\_REP1 & plasmid\\_RNF2\\_REP2 & plasmid\\_RNF2\\_REP3 & total & EMX1\\_log2FC & RNF2\\_log2FC & HEK3\\_log2FC & RNF2\\_pval & HEK3\\_pval & EMX1\\_pval\\\\\n",
       "  & <dbl> & <dbl> & <dbl> & <dbl> & <dbl> & <dbl> & <dbl> & <dbl> & <dbl> & <dbl> & ⋯ & <dbl> & <dbl> & <dbl> & <dbl> & <dbl> & <dbl> & <dbl> & <dbl> & <dbl> & <dbl>\\\\\n",
       "\\hline\n",
       "\tGTCAG & 16.984365 & 16.951205 & 16.959148 & 17.280262 & 17.270789 & 17.266018 & 10.23022 & 10.35191 & 10.12793 & 16.748306 & ⋯ &  9.502832 &  9.94645 & 10.01902 & 15.75119 &  0.21478810 &  0.4139206 &  0.40840793 & 0.59433851 & 0.4732554 & 0.7776647005\\\\\n",
       "\tGCTGC &  9.990104 & 10.033502 &  9.917822 &  9.224799 &  9.348660 & 10.062302 & 16.38929 & 16.40034 & 16.39287 &  9.878143 & ⋯ & 16.063139 & 16.08719 & 16.06068 & 15.61366 &  0.06499027 &  0.3238235 &  0.64738212 & 0.69795182 & 0.2507616 & 0.8828926205\\\\\n",
       "\tGGGGG &  8.624151 &  8.610645 &  8.957715 & 11.541910 & 11.566891 & 11.470561 & 12.59162 & 12.68495 & 12.63889 & 11.789756 & ⋯ & 13.117934 & 13.10565 & 13.15147 & 12.30073 & -3.10187130 & -0.4865340 & -0.46664519 & 0.84925854 & 0.8919631 & 0.0013517462\\\\\n",
       "\tGCCCC &  9.307294 &  9.502121 &  9.130551 &  9.283693 &  9.289282 &  9.253444 & 12.12349 & 12.09552 & 12.06461 &  9.936091 & ⋯ & 11.113217 & 10.93438 & 10.87317 & 11.38546 & -0.57381611 &  1.1209530 &  0.54390318 & 0.05702057 & 0.3188213 & 0.9877331681\\\\\n",
       "\tGTGGG &  7.933836 &  7.894438 &  7.424282 & 11.166532 & 11.118978 & 11.144097 & 11.37848 & 11.41477 & 11.41759 & 11.061148 & ⋯ & 12.035564 & 12.18422 & 12.24636 & 11.25089 & -3.36086273 & -0.7517691 &  0.05253704 & 0.54634737 & 0.9012997 & 0.0003747302\\\\\n",
       "\tGCCCG & 10.249191 & 10.263672 & 10.433743 &  9.880151 &  9.786781 & 10.226874 & 11.84364 & 11.67136 & 11.81920 & 10.002688 & ⋯ & 10.851442 & 10.76066 & 10.56651 & 11.21356 &  0.22658080 &  1.0518635 &  0.38513821 & 0.07763736 & 0.5222967 & 0.7708793752\\\\\n",
       "\\end{tabular}\n"
      ],
      "text/markdown": [
       "\n",
       "A data.frame: 6 × 24\n",
       "\n",
       "| <!--/--> | gDNA_EMX1_REP1 &lt;dbl&gt; | gDNA_EMX1_REP2 &lt;dbl&gt; | gDNA_EMX1_REP3 &lt;dbl&gt; | gDNA_HEK3_REP1 &lt;dbl&gt; | gDNA_HEK3_REP2 &lt;dbl&gt; | gDNA_HEK3_REP3 &lt;dbl&gt; | gDNA_RNF2_REP1 &lt;dbl&gt; | gDNA_RNF2_REP2 &lt;dbl&gt; | gDNA_RNF2_REP3 &lt;dbl&gt; | plasmid_EMX1_REP1 &lt;dbl&gt; | ⋯ ⋯ | plasmid_RNF2_REP1 &lt;dbl&gt; | plasmid_RNF2_REP2 &lt;dbl&gt; | plasmid_RNF2_REP3 &lt;dbl&gt; | total &lt;dbl&gt; | EMX1_log2FC &lt;dbl&gt; | RNF2_log2FC &lt;dbl&gt; | HEK3_log2FC &lt;dbl&gt; | RNF2_pval &lt;dbl&gt; | HEK3_pval &lt;dbl&gt; | EMX1_pval &lt;dbl&gt; |\n",
       "|---|---|---|---|---|---|---|---|---|---|---|---|---|---|---|---|---|---|---|---|---|---|\n",
       "| GTCAG | 16.984365 | 16.951205 | 16.959148 | 17.280262 | 17.270789 | 17.266018 | 10.23022 | 10.35191 | 10.12793 | 16.748306 | ⋯ |  9.502832 |  9.94645 | 10.01902 | 15.75119 |  0.21478810 |  0.4139206 |  0.40840793 | 0.59433851 | 0.4732554 | 0.7776647005 |\n",
       "| GCTGC |  9.990104 | 10.033502 |  9.917822 |  9.224799 |  9.348660 | 10.062302 | 16.38929 | 16.40034 | 16.39287 |  9.878143 | ⋯ | 16.063139 | 16.08719 | 16.06068 | 15.61366 |  0.06499027 |  0.3238235 |  0.64738212 | 0.69795182 | 0.2507616 | 0.8828926205 |\n",
       "| GGGGG |  8.624151 |  8.610645 |  8.957715 | 11.541910 | 11.566891 | 11.470561 | 12.59162 | 12.68495 | 12.63889 | 11.789756 | ⋯ | 13.117934 | 13.10565 | 13.15147 | 12.30073 | -3.10187130 | -0.4865340 | -0.46664519 | 0.84925854 | 0.8919631 | 0.0013517462 |\n",
       "| GCCCC |  9.307294 |  9.502121 |  9.130551 |  9.283693 |  9.289282 |  9.253444 | 12.12349 | 12.09552 | 12.06461 |  9.936091 | ⋯ | 11.113217 | 10.93438 | 10.87317 | 11.38546 | -0.57381611 |  1.1209530 |  0.54390318 | 0.05702057 | 0.3188213 | 0.9877331681 |\n",
       "| GTGGG |  7.933836 |  7.894438 |  7.424282 | 11.166532 | 11.118978 | 11.144097 | 11.37848 | 11.41477 | 11.41759 | 11.061148 | ⋯ | 12.035564 | 12.18422 | 12.24636 | 11.25089 | -3.36086273 | -0.7517691 |  0.05253704 | 0.54634737 | 0.9012997 | 0.0003747302 |\n",
       "| GCCCG | 10.249191 | 10.263672 | 10.433743 |  9.880151 |  9.786781 | 10.226874 | 11.84364 | 11.67136 | 11.81920 | 10.002688 | ⋯ | 10.851442 | 10.76066 | 10.56651 | 11.21356 |  0.22658080 |  1.0518635 |  0.38513821 | 0.07763736 | 0.5222967 | 0.7708793752 |\n",
       "\n"
      ],
      "text/plain": [
       "      gDNA_EMX1_REP1 gDNA_EMX1_REP2 gDNA_EMX1_REP3 gDNA_HEK3_REP1\n",
       "GTCAG 16.984365      16.951205      16.959148      17.280262     \n",
       "GCTGC  9.990104      10.033502       9.917822       9.224799     \n",
       "GGGGG  8.624151       8.610645       8.957715      11.541910     \n",
       "GCCCC  9.307294       9.502121       9.130551       9.283693     \n",
       "GTGGG  7.933836       7.894438       7.424282      11.166532     \n",
       "GCCCG 10.249191      10.263672      10.433743       9.880151     \n",
       "      gDNA_HEK3_REP2 gDNA_HEK3_REP3 gDNA_RNF2_REP1 gDNA_RNF2_REP2\n",
       "GTCAG 17.270789      17.266018      10.23022       10.35191      \n",
       "GCTGC  9.348660      10.062302      16.38929       16.40034      \n",
       "GGGGG 11.566891      11.470561      12.59162       12.68495      \n",
       "GCCCC  9.289282       9.253444      12.12349       12.09552      \n",
       "GTGGG 11.118978      11.144097      11.37848       11.41477      \n",
       "GCCCG  9.786781      10.226874      11.84364       11.67136      \n",
       "      gDNA_RNF2_REP3 plasmid_EMX1_REP1 ⋯ plasmid_RNF2_REP1 plasmid_RNF2_REP2\n",
       "GTCAG 10.12793       16.748306         ⋯  9.502832          9.94645         \n",
       "GCTGC 16.39287        9.878143         ⋯ 16.063139         16.08719         \n",
       "GGGGG 12.63889       11.789756         ⋯ 13.117934         13.10565         \n",
       "GCCCC 12.06461        9.936091         ⋯ 11.113217         10.93438         \n",
       "GTGGG 11.41759       11.061148         ⋯ 12.035564         12.18422         \n",
       "GCCCG 11.81920       10.002688         ⋯ 10.851442         10.76066         \n",
       "      plasmid_RNF2_REP3 total    EMX1_log2FC RNF2_log2FC HEK3_log2FC RNF2_pval \n",
       "GTCAG 10.01902          15.75119  0.21478810  0.4139206   0.40840793 0.59433851\n",
       "GCTGC 16.06068          15.61366  0.06499027  0.3238235   0.64738212 0.69795182\n",
       "GGGGG 13.15147          12.30073 -3.10187130 -0.4865340  -0.46664519 0.84925854\n",
       "GCCCC 10.87317          11.38546 -0.57381611  1.1209530   0.54390318 0.05702057\n",
       "GTGGG 12.24636          11.25089 -3.36086273 -0.7517691   0.05253704 0.54634737\n",
       "GCCCG 10.56651          11.21356  0.22658080  1.0518635   0.38513821 0.07763736\n",
       "      HEK3_pval EMX1_pval   \n",
       "GTCAG 0.4732554 0.7776647005\n",
       "GCTGC 0.2507616 0.8828926205\n",
       "GGGGG 0.8919631 0.0013517462\n",
       "GCCCC 0.3188213 0.9877331681\n",
       "GTGGG 0.9012997 0.0003747302\n",
       "GCCCG 0.5222967 0.7708793752"
      ]
     },
     "metadata": {},
     "output_type": "display_data"
    }
   ],
   "source": [
    "allele_table_stats <- read.delim(\"data/allele_matrix_normalized_stats_q30_20bpwindow.txt\")\n",
    "head(allele_table_stats)"
   ]
  }
 ],
 "metadata": {
  "kernelspec": {
   "display_name": "R 4.2",
   "language": "R",
   "name": "ir42"
  },
  "language_info": {
   "codemirror_mode": "r",
   "file_extension": ".r",
   "mimetype": "text/x-r-source",
   "name": "R",
   "pygments_lexer": "r",
   "version": "4.2.3"
  }
 },
 "nbformat": 4,
 "nbformat_minor": 5
}
