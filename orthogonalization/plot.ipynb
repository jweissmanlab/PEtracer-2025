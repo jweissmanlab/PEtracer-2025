{
 "cells": [
  {
   "cell_type": "code",
   "execution_count": 4,
   "id": "56264ad2",
   "metadata": {
    "tags": []
   },
   "outputs": [],
   "source": [
    "library(dplyr)\n",
    "library(ggplot2)\n",
    "library(tidyr)\n",
    "library(ggbeeswarm)\n",
    "library(Hmisc)\n",
    "library(RColorBrewer)\n",
    "library(stringr)\n",
    "library(extrafont)\n",
    "library(tidyr)\n",
    "loadfonts(device = \"pdf\")\n",
    "library(ggpubr)\n",
    "library(Biostrings)\n",
    "library(jgplot2)\n",
    "if(any(grepl(\"package:plyr\", search()))) detach(\"package:plyr\")"
   ]
  },
  {
   "cell_type": "code",
   "execution_count": 5,
   "id": "15f510cb",
   "metadata": {
    "tags": []
   },
   "outputs": [],
   "source": [
    "theme_set(theme_classic() + \n",
    "          theme(#axis.line.x = element_line(size = 0.5),axis.line.y = element_line(size = 0.5),\n",
    "                axis.title.x = element_text(#hjust=-0.45, vjust = 7, \n",
    "                    size = rel(1)),\n",
    "                axis.title.y = element_text(size = rel(1))\n",
    "                , legend.position = \"none\",\n",
    "                strip.background = element_blank(), strip.placement = \"outside\"\n",
    "              ,strip.text.x = element_text(vjust = 2, size = rel(11/9))\n",
    "              , axis.ticks.y = element_line(color = \"black\") \n",
    "                , axis.ticks.x = element_blank(), panel.spacing.x = unit(0, \"null\")\n",
    "               ,plot.title = element_text(size = rel(1))\n",
    "         ,axis.text.x = element_text(colour = \"black\", size = rel(11/9))\n",
    "          ,axis.text.y = element_text(colour = \"black\", size = rel(11/9))\n",
    "               ,text = element_text(family=\"ArialMT\", size = 11)\n",
    "          ,plot.margin = margin(0, 0, 0, 0, \"in\"),\n",
    "              plot.background = element_rect(fill='transparent', color=NA),\n",
    "              panel.background = element_rect(fill='transparent', color=NA),\n",
    "              rect = element_rect(fill = \"transparent\")\n",
    "         ))"
   ]
  },
  {
   "cell_type": "code",
   "execution_count": 6,
   "id": "7bf6756f",
   "metadata": {
    "tags": []
   },
   "outputs": [
    {
     "name": "stderr",
     "output_type": "stream",
     "text": [
      "Warning message in ifelse(grepl(\".*_w\", summary_all$Batch), as.numeric(gsub(\".*_w\", :\n",
      "“NAs introduced by coercion”\n"
     ]
    }
   ],
   "source": [
    "summary_all <- read.delim(\"data/CRISPResso_summary.txt\")\n",
    "summary_all <- summary_all[, c(\"Batch\", \"Correct_edit\", \"Indels\", \"Reads_aligned_all_amplicons\")]\n",
    "summary_all <- gather(summary_all, key = \"Edit_Type\", value = \"Percent\", -Batch, -Reads_aligned_all_amplicons)\n",
    "summary_all$rep <- gsub(\"_.*\", \"\", summary_all$Batch)\n",
    "summary_all$celltype <-  gsub(\"_.*\", \"\", gsub(\"REP[1-3]_\", \"\", summary_all$Batch))\n",
    "summary_all$locus <-  gsub(\".*_\", \"\", gsub(\"_v\\\\d$\", \"\", gsub(\"_[A-Za-z0-9]*$\", \"\", summary_all$Batch)))\n",
    "summary_all$insert <- ifelse(grepl(\"GCTGC\", summary_all$Batch), \"GCTGC\",\n",
    "                            ifelse(grepl(\"GTCAG\", summary_all$Batch), \"GTCAG\", NA))\n",
    "summary_all$HR <- ifelse(grepl(\".*_w\",summary_all$Batch), as.numeric(gsub(\".*_w\", \"\", summary_all$Batch)),\n",
    "                         ifelse(!grepl(\".*_w\",summary_all$Batch) & summary_all$locus == \"EMX1\", 18,\n",
    "                                ifelse(!grepl(\".*_w\",summary_all$Batch) & summary_all$locus == \"HEK3\", 34,\n",
    "                                       ifelse(!grepl(\".*_w\",summary_all$Batch) & summary_all$locus == \"RNF2\", 14, NA\n",
    "                               ))))\n",
    "summary_all$color <- as.character(as.numeric(as.factor(paste0(summary_all$Edit_Type, summary_all$insert))))\n",
    "summary_all$color <- factor(summary_all$color, levels= c('1','3','2','4'))\n",
    "summary_all$Percent <- as.numeric(summary_all$Percent)\n",
    "summary_all$celltype <- factor(summary_all$celltype, levels = c('HEKcells', 'WtTS', 'WtTScells'\n",
    "    , 'OrthoTS1', 'OrthoTS1cells', 'OrthoTS2', 'OrthoTS2cells'))"
   ]
  },
  {
   "cell_type": "code",
   "execution_count": 9,
   "id": "dea2875a",
   "metadata": {
    "tags": []
   },
   "outputs": [],
   "source": [
    "plot_results_ortho <- function(summary_all, locus) {\n",
    "    ggplot(summary_all[summary_all$locus == locus & !grepl(\"endogenous\",summary_all$Batch) ,], \n",
    "       aes(x = as.character(HR),y = Percent, fill = color)) + \n",
    "        geom_bar(stat = \"summary\", fun = \"mean\",position = position_dodge(width = 0.9)\n",
    "        , color = \"black\", size=0.25, width = 0.8) + \n",
    "        stat_summary(fun.data = \"mean_sdl\", fun.args = list(mult = 1), geom = \"errorbar\"\n",
    "            , position = position_dodge(width = 0.9), width = 0.4, size = 0.25) + \n",
    "        geom_beeswarm(dodge.width = 0.9, size = 1, cex = 1) + \n",
    "        facet_grid(. ~ celltype, scales = \"free_x\", space='free'\n",
    "                   , labeller = as_labeller(c(WtTS = \"WT\", OrthoTS1 = \"Ortho v1\", OrthoTS2 = \"Ortho v2\"))) +\n",
    "        xlab(\"RT Lengths\") +\n",
    "        scale_fill_manual(values = c(brewer.pal(n = 3, name = \"Set1\")[1], \"lightgrey\",\n",
    "                          brewer.pal(n = 3, name = \"Set1\")[2], \"lightgrey\"), \n",
    "                          labels = c(\"Edits BC1\", \"Indels BC1\", \"Edits BC2\", \"Indels BC2\"), name = \"\"\n",
    "                          ) +\n",
    "        ylab(\"Total sequencing reads with\\nspecified edit or indels (%)\") + \n",
    "        ggtitle(paste0(locus, \" target site editing\")) +scale_x_discrete(expand=expansion(add=0.75)) +\n",
    "        scale_y_continuous(breaks=seq(0,70,by = 10), limits=c(0, 75), expand = c(0, 0)) + \n",
    "        theme(axis.text.x = element_text(angle = 90, vjust = 0.5, hjust=1))\n",
    "}"
   ]
  },
  {
   "cell_type": "code",
   "execution_count": 13,
   "id": "d213f282",
   "metadata": {
    "tags": []
   },
   "outputs": [
    {
     "data": {
      "text/html": [
       "<strong>png:</strong> 2"
      ],
      "text/latex": [
       "\\textbf{png:} 2"
      ],
      "text/markdown": [
       "**png:** 2"
      ],
      "text/plain": [
       "png \n",
       "  2 "
      ]
     },
     "metadata": {},
     "output_type": "display_data"
    }
   ],
   "source": [
    "pdf('plots/OrthoTS_EMX1_TargetSite.pdf', width = 2.65, height = 2.25, useDingbats = FALSE)\n",
    "plot_results_ortho(summary_all, \"EMX1\")\n",
    "dev.off()"
   ]
  },
  {
   "cell_type": "code",
   "execution_count": 15,
   "id": "532e5412-6310-4b6b-ad5e-d8259861c9d1",
   "metadata": {
    "tags": []
   },
   "outputs": [
    {
     "data": {
      "text/html": [
       "<strong>png:</strong> 2"
      ],
      "text/latex": [
       "\\textbf{png:} 2"
      ],
      "text/markdown": [
       "**png:** 2"
      ],
      "text/plain": [
       "png \n",
       "  2 "
      ]
     },
     "metadata": {},
     "output_type": "display_data"
    }
   ],
   "source": [
    "pdf('plots/OrthoTS_HEK3_TargetSite.pdf', width = 2.65, height = 2.25, useDingbats = FALSE)\n",
    "plot_results_ortho(summary_all, \"HEK3\")\n",
    "dev.off()"
   ]
  },
  {
   "cell_type": "code",
   "execution_count": 17,
   "id": "ce3b005c-01e1-47f6-ab19-5a5b71f4f085",
   "metadata": {
    "tags": []
   },
   "outputs": [
    {
     "data": {
      "text/html": [
       "<strong>png:</strong> 2"
      ],
      "text/latex": [
       "\\textbf{png:} 2"
      ],
      "text/markdown": [
       "**png:** 2"
      ],
      "text/plain": [
       "png \n",
       "  2 "
      ]
     },
     "metadata": {},
     "output_type": "display_data"
    }
   ],
   "source": [
    "pdf('plots/OrthoTS_RNF2_TargetSite.pdf', width = 2.65, height = 2.25, useDingbats = FALSE)\n",
    "plot_results_ortho(summary_all, \"RNF2\")\n",
    "dev.off()"
   ]
  },
  {
   "cell_type": "code",
   "execution_count": 18,
   "id": "e2e2ea07",
   "metadata": {
    "tags": []
   },
   "outputs": [],
   "source": [
    "plot_results_endogenous <- function(summary_all, locus) {\n",
    "    summary_all_plot <- summary_all[summary_all$locus == locus & grepl(\"endogenous\",summary_all$Batch) & \n",
    "                                    !grepl(\"HEKcells\", summary_all$celltype),]\n",
    "    summary_all_plot$celltype <- plyr::mapvalues(summary_all_plot$celltype\n",
    "                                                 , from = c('OrthoTS1cells', 'OrthoTS2cells', 'WtTScells')\n",
    "                                                , to = c(\"OrthoTS1\", \"OrthoTS2\", \"WtTS\"))\n",
    "    ggplot(summary_all_plot, \n",
    "           aes(x = as.character(HR),y = Percent, fill = color)) + \n",
    "        geom_bar(stat = \"summary\", fun = \"mean\",position = position_dodge(width = 0.9)\n",
    "        , color = \"black\", size=0.25, width = 0.8) + \n",
    "        stat_summary(fun.data = \"mean_sdl\", fun.args = list(mult = 1), geom = \"errorbar\"\n",
    "            , position = position_dodge(width = 0.9), width = 0.4, size = 0.25) + \n",
    "        geom_beeswarm(dodge.width = 0.9, size = 1, cex = 1) + \n",
    "        facet_grid(. ~ celltype, scales = \"free_x\", space = \"free\") +\n",
    "        xlab(\"RT Lengths\") +\n",
    "        scale_fill_manual(values = c(brewer.pal(n = 3, name = \"Set1\")[1], \"lightgrey\"\n",
    "                                     ,brewer.pal(n = 3, name = \"Set1\")[2], \"lightgrey\"), \n",
    "                          labels = c(\"Edits BC1\", \"Indels BC1\", \"Edits BC2\", \"Indels BC2\"), name = \"\") +\n",
    "        ylab(\"Total sequencing reads with\\nindicated barcode insertion (%)\") + \n",
    "        ggtitle(paste0(locus, \" Endogenous\"))+ \n",
    "        scale_x_discrete(expand=expansion(add=0.75)) +\n",
    "        scale_y_continuous(breaks=seq(0,70,by = 10), limits=c(0, 75), expand = c(0, 0))  + \n",
    "        theme(axis.text.x = element_text(angle = 90, vjust = 0.5, hjust=1))\n",
    "    }"
   ]
  },
  {
   "cell_type": "code",
   "execution_count": 21,
   "id": "969928b6",
   "metadata": {
    "tags": []
   },
   "outputs": [
    {
     "data": {
      "text/html": [
       "<strong>png:</strong> 2"
      ],
      "text/latex": [
       "\\textbf{png:} 2"
      ],
      "text/markdown": [
       "**png:** 2"
      ],
      "text/plain": [
       "png \n",
       "  2 "
      ]
     },
     "metadata": {},
     "output_type": "display_data"
    }
   ],
   "source": [
    "pdf('plots/OrthoTS_RNF2_Endogenous.pdf', width = 2.65, height = 2.25, useDingbats = FALSE)\n",
    "plot_results_endogenous(summary_all, \"RNF2\")\n",
    "dev.off()"
   ]
  },
  {
   "cell_type": "code",
   "execution_count": 23,
   "id": "cdba02cb-f15e-4dac-8c67-d8b25f6bcfc8",
   "metadata": {
    "tags": []
   },
   "outputs": [
    {
     "data": {
      "text/html": [
       "<strong>png:</strong> 2"
      ],
      "text/latex": [
       "\\textbf{png:} 2"
      ],
      "text/markdown": [
       "**png:** 2"
      ],
      "text/plain": [
       "png \n",
       "  2 "
      ]
     },
     "metadata": {},
     "output_type": "display_data"
    }
   ],
   "source": [
    "pdf('plots/OrthoTS_HEK3_Endogenous.pdf', width = 2.65, height = 2.25, useDingbats = FALSE)\n",
    "plot_results_endogenous(summary_all, \"HEK3\")\n",
    "dev.off()"
   ]
  },
  {
   "cell_type": "code",
   "execution_count": 25,
   "id": "73e6b93b-903c-4afc-bf6c-bc3680d5d829",
   "metadata": {
    "tags": []
   },
   "outputs": [
    {
     "data": {
      "text/html": [
       "<strong>png:</strong> 2"
      ],
      "text/latex": [
       "\\textbf{png:} 2"
      ],
      "text/markdown": [
       "**png:** 2"
      ],
      "text/plain": [
       "png \n",
       "  2 "
      ]
     },
     "metadata": {},
     "output_type": "display_data"
    }
   ],
   "source": [
    "pdf('plots/OrthoTS_EMX1_Endogenous.pdf', width = 2.65, height = 2.25, useDingbats = FALSE)\n",
    "plot_results_endogenous(summary_all, \"EMX1\")\n",
    "dev.off()"
   ]
  }
 ],
 "metadata": {
  "kernelspec": {
   "display_name": "R 4.2",
   "language": "R",
   "name": "ir42"
  },
  "language_info": {
   "codemirror_mode": "r",
   "file_extension": ".r",
   "mimetype": "text/x-r-source",
   "name": "R",
   "pygments_lexer": "r",
   "version": "4.2.0"
  }
 },
 "nbformat": 4,
 "nbformat_minor": 5
}
