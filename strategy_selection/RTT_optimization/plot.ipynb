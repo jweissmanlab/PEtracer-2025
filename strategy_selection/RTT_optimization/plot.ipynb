{
 "cells": [
  {
   "cell_type": "code",
   "execution_count": 2,
   "id": "a5ed3cde",
   "metadata": {
    "tags": []
   },
   "outputs": [],
   "source": [
    "library(dplyr)\n",
    "library(ggplot2)\n",
    "library(tidyr)\n",
    "library(ggbeeswarm)\n",
    "library(Hmisc)\n",
    "library(RColorBrewer)\n",
    "library(jgplot2)\n",
    "library(stringr)\n",
    "library(extrafont)\n",
    "loadfonts(device = \"pdf\")\n",
    "if(any(grepl(\"package:plyr\", search()))) detach(\"package:plyr\")"
   ]
  },
  {
   "cell_type": "code",
   "execution_count": 3,
   "id": "868c3d1c",
   "metadata": {
    "tags": []
   },
   "outputs": [],
   "source": [
    "theme_set(theme_classic() + \n",
    "          theme(#axis.line.x = element_line(size = 0.5),axis.line.y = element_line(size = 0.5),\n",
    "                axis.title.x = element_text(hjust=-0.3, vjust = 16, size = rel(11/14)),\n",
    "                axis.title.y = element_text(size = rel(11/14))\n",
    "                , legend.position = \"bottom\",\n",
    "                strip.background = element_blank(), strip.placement = \"outside\"\n",
    "              ,strip.text.x = element_text(vjust = 2)\n",
    "              , axis.ticks.y = element_line(color = \"black\") \n",
    "                , axis.ticks.x = element_blank(), panel.spacing.x = unit(0, \"null\")\n",
    "               ,plot.title = element_text(hjust = 0.5, size = rel((9/11)*(11/12)))\n",
    "         ,axis.text.x = element_text(colour = \"black\", size = rel(1))\n",
    "          ,axis.text.y = element_text(colour = \"black\", size = rel(1))\n",
    "               ,text = element_text(family=\"ArialMT\", size = 11)\n",
    "          ,plot.margin = margin(0.1, 0, -0.25, 0, \"in\"),\n",
    "              plot.background = element_rect(fill='transparent', color=NA),\n",
    "              panel.background = element_rect(fill='transparent', color=NA),\n",
    "              rect = element_rect(fill = \"transparent\")\n",
    "         ))"
   ]
  },
  {
   "cell_type": "code",
   "execution_count": 4,
   "id": "7186a13b-c6fa-4322-b612-8d0cc8adc561",
   "metadata": {
    "tags": []
   },
   "outputs": [],
   "source": [
    "colors <- c(brewer.pal(n = 3, name = \"Set1\")[c(1,2)])\n",
    "names(colors) <- c(\"1\", \"2\")\n",
    "colors[['3']] <- \"lightgrey\"\n",
    "colors[['4']] <- \"lightgrey\"\n",
    "colors <- colors[as.character(1:4)]"
   ]
  },
  {
   "cell_type": "code",
   "execution_count": 5,
   "id": "3de1e587",
   "metadata": {
    "tags": []
   },
   "outputs": [],
   "source": [
    "summary_all <- read.delim(\"data/CRISPResso_summary.txt\")\n",
    "summary_all <- gather(summary_all[,1:3], key = \"Edit_Type\", value = \"Percent\", -Batch)\n",
    "summary_all$rep <- gsub(\"_.*\", \"\", summary_all$Batch)\n",
    "summary_all$type <-  str_to_title(gsub(\"_.*\", \"\", sub(\"[A-Za-z0-9]*_[A-Za-z0-9]*_\", \"\", summary_all$Batch)))\n",
    "summary_all$locus <- toupper(gsub(\"_.*\", \"\", gsub(\"REP[1-3]_\", \"\", summary_all$Batch)))\n",
    "summary_all$insert <- gsub(\"_.*\", \"\", sub(\"[A-Za-z0-9]*_[A-Za-z0-9]*_[A-Za-z0-9]*_\", \"\", summary_all$Batch))\n",
    "summary_all$insert <- ifelse(summary_all$insert == 'GCTGC', \"BC1\", \n",
    "                             ifelse(summary_all$insert == 'GTCAG', \"BC2\", summary_all$insert))\n",
    "summary_all$HR <- gsub(\"rt\", \"\", gsub(\".*_\", \"\", summary_all$Batch))\n",
    "summary_all$HR <- factor(summary_all$HR, levels = sort(as.numeric(unique(summary_all$HR))))\n",
    "summary_all$color <- as.character(as.numeric(as.factor(paste0(summary_all$Edit_Type, summary_all$insert))))\n",
    "summary_all$color <- factor(summary_all$color, levels= c('1','3','2','4'))\n",
    "summary_all$locus <- factor(summary_all$locus, levels = c(\"RNF2\", \"HEK3\", \"EMX1\", \"RUNX1\", \"AAVS1\", \"FANCF\"))\n",
    "summary_all <- summary_all[order(summary_all$locus, summary_all$type, summary_all$HR),]"
   ]
  },
  {
   "cell_type": "code",
   "execution_count": 6,
   "id": "231db798",
   "metadata": {
    "tags": []
   },
   "outputs": [],
   "source": [
    "plot_results_by_type_one_locus <- function(summary_all, locus) {\n",
    "    ggplot(summary_all[summary_all$locus == locus,], aes(x = HR,y = Percent, fill = color)) + \n",
    "    geom_bar(stat = \"summary\", fun = \"mean\",position = position_dodge(width = 0.9)\n",
    "             , color = \"black\", size=0.25, width = 0.8) + \n",
    "    stat_summary(fun.data = \"mean_sdl\", fun.args = list(mult = 1), geom = \"errorbar\"\n",
    "                 , position = position_dodge(width = 0.9), width = 0.4, size = 0.25) + \n",
    "    geom_beeswarm(dodge.width = 0.9, size = 1, cex = 1, show.legend = FALSE) + \n",
    "    facet_grid(cols = vars(type), scales = \"free\", space='free'#, switch=\"x\"\n",
    "              ) +\n",
    "    xlab(\"RT Length\") +\n",
    "    scale_fill_manual(values = colors, \n",
    "                      labels = c(\"+GCTGC insertion\", \"+GTCAG insertion\",\"Indels\",  \"Indels\"), name = \"\", \n",
    "                      breaks=c(\"1\",\"2\", \"3\", \"5\")\n",
    "                      ) +\n",
    "    ylab(\"Total sequencing reads with\\nspecified edit or indels (%)\") + \n",
    "    ggtitle(locus) + \n",
    "    scale_x_discrete(expand=expansion(add=0.75)) +\n",
    "    scale_y_continuous(breaks=seq(0,80,by = 10), limits=c(0, 80), expand = c(0, 0))\n",
    "}"
   ]
  },
  {
   "cell_type": "code",
   "execution_count": 7,
   "id": "6363dde6",
   "metadata": {
    "tags": []
   },
   "outputs": [
    {
     "name": "stderr",
     "output_type": "stream",
     "text": [
      "Warning message:\n",
      "“\u001b[1m\u001b[22mUsing `size` aesthetic for lines was deprecated in ggplot2 3.4.0.\n",
      "\u001b[36mℹ\u001b[39m Please use `linewidth` instead.”\n"
     ]
    },
    {
     "data": {
      "image/png": "[encoded data removed]",
      "text/plain": [
       "plot without title"
      ]
     },
     "metadata": {
      "image/png": {
       "height": 420,
       "width": 420
      }
     },
     "output_type": "display_data"
    }
   ],
   "source": [
    "#pdf('plots/RT_optimization_Efficiency_RNF2.pdf', width = 2.65, height = 2.25, useDingbats = FALSE,bg = \"transparent\")\n",
    "plot_results_by_type_one_locus(summary_all, \"RNF2\")  + \n",
    "    theme(legend.position = \"none\",plot.margin = margin(-0.25, 0, -0.2, 0, \"in\")\n",
    "          , text = element_text(size = (11/.pt) * (11/3)), plot.title = element_text(vjust = -8)\n",
    "          ,axis.title.x = element_text(hjust=-0.45, vjust = 6.5, size = rel(11/14))\n",
    "          , strip.text.x = element_text(vjust = -4))\n",
    "#dev.off()"
   ]
  },
  {
   "cell_type": "code",
   "execution_count": 17,
   "id": "66e56f73-7bd3-490e-ad92-d32e3aaa9eb9",
   "metadata": {
    "tags": []
   },
   "outputs": [
    {
     "data": {
      "text/html": [
       "56.2505088936812"
      ],
      "text/latex": [
       "56.2505088936812"
      ],
      "text/markdown": [
       "56.2505088936812"
      ],
      "text/plain": [
       "[1] 56.25051"
      ]
     },
     "metadata": {},
     "output_type": "display_data"
    },
    {
     "data": {
      "text/html": [
       "1.56747881425556"
      ],
      "text/latex": [
       "1.56747881425556"
      ],
      "text/markdown": [
       "1.56747881425556"
      ],
      "text/plain": [
       "[1] 1.567479"
      ]
     },
     "metadata": {},
     "output_type": "display_data"
    }
   ],
   "source": [
    "mean(summary_all$Percent[summary_all$locus == \"RNF2\" & summary_all$HR == 14 & \n",
    "                         summary_all$Edit_Type == 'Correct_edit'])\n",
    "mean(summary_all$Percent[summary_all$locus == \"RNF2\" & summary_all$HR == 14 & \n",
    "                         summary_all$Edit_Type == 'Correct_edit']) / 35.8859771386422"
   ]
  },
  {
   "cell_type": "code",
   "execution_count": 18,
   "id": "2792b1d0",
   "metadata": {
    "tags": []
   },
   "outputs": [
    {
     "data": {
      "text/html": [
       "<strong>png:</strong> 2"
      ],
      "text/latex": [
       "\\textbf{png:} 2"
      ],
      "text/markdown": [
       "**png:** 2"
      ],
      "text/plain": [
       "png \n",
       "  2 "
      ]
     },
     "metadata": {},
     "output_type": "display_data"
    }
   ],
   "source": [
    "pdf('plots/RT_optimization_Efficiency_HEK3.pdf', width = 2.65, height = 2.25, useDingbats = FALSE,bg = \"transparent\")\n",
    "plot_results_by_type_one_locus(summary_all[summary_all$type == \"Type1\",], \"HEK3\")  + \n",
    "    theme(legend.position = \"none\",plot.margin = margin(-0.25, 0, -0.2, 0, \"in\")\n",
    "          , text = element_text(size = (11/.pt) * (11/3)), plot.title = element_text(vjust = -8)\n",
    "          ,axis.title.x = element_text(hjust=-0.45, vjust = 6.5, size = rel(11/14))\n",
    "          , strip.text.x = element_text(vjust = -4))\n",
    "dev.off()"
   ]
  },
  {
   "cell_type": "code",
   "execution_count": 24,
   "id": "f577711c-5f99-4aae-a868-358e665fde1e",
   "metadata": {
    "tags": []
   },
   "outputs": [
    {
     "data": {
      "text/html": [
       "60.2559247485204"
      ],
      "text/latex": [
       "60.2559247485204"
      ],
      "text/markdown": [
       "60.2559247485204"
      ],
      "text/plain": [
       "[1] 60.25592"
      ]
     },
     "metadata": {},
     "output_type": "display_data"
    },
    {
     "data": {
      "text/html": [
       "3.65082595124887"
      ],
      "text/latex": [
       "3.65082595124887"
      ],
      "text/markdown": [
       "3.65082595124887"
      ],
      "text/plain": [
       "[1] 3.650826"
      ]
     },
     "metadata": {},
     "output_type": "display_data"
    }
   ],
   "source": [
    "mean(summary_all$Percent[summary_all$locus == \"HEK3\" & summary_all$HR == 34 & \n",
    "                         summary_all$type == \"Type1\" &\n",
    "                         summary_all$Edit_Type == 'Correct_edit'])\n",
    "\n",
    "mean(summary_all$Percent[summary_all$locus == \"HEK3\" & summary_all$HR == 34 & \n",
    "                         summary_all$type == \"Type1\" &\n",
    "                         summary_all$Edit_Type == 'Correct_edit']) /16.5047377095334"
   ]
  },
  {
   "cell_type": "code",
   "execution_count": 23,
   "id": "3586c406",
   "metadata": {
    "tags": []
   },
   "outputs": [
    {
     "data": {
      "text/html": [
       "<strong>png:</strong> 2"
      ],
      "text/latex": [
       "\\textbf{png:} 2"
      ],
      "text/markdown": [
       "**png:** 2"
      ],
      "text/plain": [
       "png \n",
       "  2 "
      ]
     },
     "metadata": {},
     "output_type": "display_data"
    }
   ],
   "source": [
    "pdf('plots/RT_optimization_Efficiency_EMX1.pdf', width = 2.65, height = 2.25, useDingbats = FALSE\n",
    "    ,bg = \"transparent\")\n",
    "plot_results_by_type_one_locus(summary_all, \"EMX1\")  + \n",
    "    theme(legend.position = \"none\",plot.margin = margin(-0.25, 0, -0.2, 0, \"in\")\n",
    "          , text = element_text(size = (11/.pt) * (11/3)), plot.title = element_text(vjust = -8)\n",
    "          ,axis.title.x = element_text(hjust=-0.45, vjust = 6.5, size = rel(11/14))\n",
    "          , strip.text.x = element_text(vjust = -4))\n",
    "dev.off()"
   ]
  },
  {
   "cell_type": "code",
   "execution_count": 27,
   "id": "48df7048-ba64-4f49-8bbf-b75f4f71ca6d",
   "metadata": {
    "tags": []
   },
   "outputs": [
    {
     "data": {
      "text/html": [
       "65.678060687289"
      ],
      "text/latex": [
       "65.678060687289"
      ],
      "text/markdown": [
       "65.678060687289"
      ],
      "text/plain": [
       "[1] 65.67806"
      ]
     },
     "metadata": {},
     "output_type": "display_data"
    },
    {
     "data": {
      "text/html": [
       "3.59412752144012"
      ],
      "text/latex": [
       "3.59412752144012"
      ],
      "text/markdown": [
       "3.59412752144012"
      ],
      "text/plain": [
       "[1] 3.594128"
      ]
     },
     "metadata": {},
     "output_type": "display_data"
    }
   ],
   "source": [
    "mean(summary_all$Percent[summary_all$locus == \"EMX1\" & summary_all$HR == 18 & \n",
    "                         summary_all$Edit_Type == 'Correct_edit'])\n",
    "mean(summary_all$Percent[summary_all$locus == \"EMX1\" & summary_all$HR == 18 & \n",
    "                         summary_all$Edit_Type == 'Correct_edit']) / 18.2737146346362"
   ]
  }
 ],
 "metadata": {
  "kernelspec": {
   "display_name": "R 4.2",
   "language": "R",
   "name": "ir42"
  },
  "language_info": {
   "codemirror_mode": "r",
   "file_extension": ".r",
   "mimetype": "text/x-r-source",
   "name": "R",
   "pygments_lexer": "r",
   "version": "4.2.0"
  }
 },
 "nbformat": 4,
 "nbformat_minor": 5
}
