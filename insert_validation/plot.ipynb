{
 "cells": [
  {
   "cell_type": "code",
   "execution_count": 23,
   "id": "593d8454",
   "metadata": {
    "tags": []
   },
   "outputs": [],
   "source": [
    "library(dplyr)\n",
    "library(ggplot2)\n",
    "library(Biostrings)\n",
    "library(tidyr)\n",
    "library(ggbeeswarm)\n",
    "library(Hmisc)\n",
    "library(RColorBrewer)\n",
    "library(ggpubr)\n",
    "library(stringr)"
   ]
  },
  {
   "cell_type": "code",
   "execution_count": 6,
   "id": "183fbedb-20f8-4117-86cc-d1e4562ab76c",
   "metadata": {
    "tags": []
   },
   "outputs": [],
   "source": [
    "theme_set(theme_classic() + \n",
    "          theme(#axis.line.x = element_line(size = 0.5),axis.line.y = element_line(size = 0.5),\n",
    "                axis.title.x = element_text(#hjust=-0.45, vjust = 7, \n",
    "                    size = rel(1)),\n",
    "                axis.title.y = element_text(size = rel(1))\n",
    "                , legend.position = \"none\",\n",
    "                strip.background = element_blank(), strip.placement = \"outside\"\n",
    "              ,strip.text.x = element_text(vjust = 2, size = rel(8/6))\n",
    "              , axis.ticks.y = element_line(color = \"black\") \n",
    "                , axis.ticks.x = element_blank(), panel.spacing.x = unit(0, \"null\")\n",
    "               ,plot.title = element_text(size = rel(1))\n",
    "         ,axis.text.x = element_text(colour = \"black\", size = 8)\n",
    "          ,axis.text.y = element_text(colour = \"black\", size = 8)\n",
    "               ,text = element_text(family=\"ArialMT\", size = 8)\n",
    "          ,plot.margin = margin(0, 0, 0, 0, \"in\"),\n",
    "              plot.background = element_rect(fill='transparent', color=NA),\n",
    "              panel.background = element_rect(fill='transparent', color=NA),\n",
    "              rect = element_rect(fill = \"transparent\")\n",
    "         ))"
   ]
  },
  {
   "cell_type": "code",
   "execution_count": 4,
   "id": "bc4c3f07",
   "metadata": {
    "tags": []
   },
   "outputs": [],
   "source": [
    "crispresso_data <- read.delim(\"data/CRISPResso_summary.txt\")\n",
    "pegRNA_inserts <- read.delim(\"data/pegRNA_top96.txt\")\n",
    "pegRNA_inserts$gDNA_insert <- unname(sapply(\n",
    "    pegRNA_inserts$plasmid_insert, FUN = function(x) as.character(reverseComplement(DNAString(x)))))\n",
    "crispresso_data$Sample <- gsub(\"REP\\\\d_\", \"\", crispresso_data$Batch)\n",
    "crispresso_data$Locus <- gsub(\"_.*\", \"\", crispresso_data$Sample)\n",
    "crispresso_data$n <- as.numeric(gsub(\".*_peg\", \"\", crispresso_data$Sample))\n",
    "crispresso_data <- merge(crispresso_data, pegRNA_inserts, all.x = TRUE)\n",
    "crispresso_data <- crispresso_data[order(crispresso_data$Locus, crispresso_data$n),]\n",
    "crispresso_data <- crispresso_data[,c(2:8, 11,12)]\n",
    "write.table(crispresso_data, \"data/CRISPResso_summary_all_withInsertSeq.txt\", quote = FALSE, sep = '\\t', row.names = TRUE)"
   ]
  },
  {
   "cell_type": "code",
   "execution_count": 8,
   "id": "39e43dc2-5653-444a-a2e8-ec01cc4f1a61",
   "metadata": {
    "tags": []
   },
   "outputs": [],
   "source": [
    "crispresso_data <- crispresso_data[!grepl(\"HEK3_peg15\", crispresso_data$Batch) & \n",
    "                                   !grepl(\"HEK3_peg34\", crispresso_data$Batch),]\n",
    "crispresso_data$Sample <- gsub(\"REP\\\\d_\", \"\", crispresso_data$Batch)\n",
    "crispresso_data <- crispresso_data %>% group_by(Sample) %>% mutate(Correct_edit_mean = mean(Correct_edit),\n",
    "                                                                     Indels_mean = mean(Indels),\n",
    "                                                                      Correct_edit_sd = sd(Correct_edit),\n",
    "                                                                     Indels_sd = sd(Indels))\n",
    "crispresso_data$locus <- gsub(\"_.*\", \"\", gsub(\"^REP\\\\d_\", \"\", crispresso_data$Batch))"
   ]
  },
  {
   "cell_type": "code",
   "execution_count": 38,
   "id": "38f243db-215e-4bc1-8f28-7ee689f10459",
   "metadata": {
    "tags": []
   },
   "outputs": [],
   "source": [
    "dist_cutoff <- 5\n",
    "insert_set_list <- list()\n",
    "for (locus in c(\"RNF2\", \"HEK3\", \"EMX1\")) {\n",
    "    crispresso_data_plot <- crispresso_data[grepl(locus, crispresso_data$Batch),]\n",
    "    crispresso_data_plot <- crispresso_data_plot[!duplicated(crispresso_data_plot$Sample),]\n",
    "    crispresso_data_dist <- data.frame(matrix(nrow = nrow(crispresso_data_plot)\n",
    "                                                   , ncol = nrow(crispresso_data_plot)))\n",
    "    rownames(crispresso_data_dist) <- crispresso_data_plot$gDNA_insert\n",
    "    colnames(crispresso_data_dist) <- crispresso_data_plot$gDNA_insert\n",
    "    for (i in 1:nrow(crispresso_data_plot)) {\n",
    "        for (j in 1:nrow(crispresso_data_plot)){\n",
    "            crispresso_data_dist[i,j] <- abs(crispresso_data_plot$Correct_edit_mean[i] - \n",
    "                                             crispresso_data_plot$Correct_edit_mean[j])\n",
    "        }\n",
    "    }\n",
    "\n",
    "    insert_sets <- data.frame(matrix(nrow = nrow(crispresso_data_plot)\n",
    "                                                   , ncol = 7))\n",
    "    colnames(insert_sets) <- c(\"locus\",\"seed\",\"set_size\", \"set\",\"mean_efficiency\", \"min_efficiency\"\n",
    "                                    , \"max_efficiency\")\n",
    "    for (i in 1:ncol(crispresso_data_dist)) {\n",
    "        insert_sets[i,1] <- locus\n",
    "        insert_sets[i,2] <- colnames(crispresso_data_dist)[i]\n",
    "        barcode_set <- sort(rownames(crispresso_data_dist)[crispresso_data_dist[,i] < dist_cutoff])\n",
    "        insert_sets[i,3] <- length(barcode_set)\n",
    "        insert_sets[i,4] <- paste(barcode_set, collapse = \";\")\n",
    "        insert_sets[i,5] <- mean(crispresso_data_plot$Correct_edit_mean[crispresso_data_plot$gDNA_insert %in%\n",
    "                                                                            barcode_set])\n",
    "        insert_sets[i,6] <- min(crispresso_data_plot$Correct_edit_mean[crispresso_data_plot$gDNA_insert %in%\n",
    "                                                                            barcode_set])\n",
    "        insert_sets[i,7] <- max(crispresso_data_plot$Correct_edit_mean[crispresso_data_plot$gDNA_insert %in%\n",
    "                                                                            barcode_set])\n",
    "    }\n",
    "    insert_sets <- insert_sets[order(insert_sets$set_size, decreasing = TRUE),]\n",
    "    insert_sets$max_diff <- insert_sets$max_efficiency - insert_sets$min_efficiency\n",
    "    insert_set_list[[locus]] <- unlist(str_split(insert_sets$set[order(insert_sets$set_size, decreasing = TRUE)][1]\n",
    "                                                 , \";\"))\n",
    "}"
   ]
  },
  {
   "cell_type": "code",
   "execution_count": 50,
   "id": "b86921da-3bb1-4c95-8554-7ecbba66c75e",
   "metadata": {
    "tags": []
   },
   "outputs": [],
   "source": [
    "insertion_set <- rbind(data.frame(locus = \"EMX1_10percent\", gDNA_insert = insert_set_list[[\"EMX1\"]])\n",
    "                        , data.frame(locus = \"HEK3_10percent\", gDNA_insert = insert_set_list[[\"HEK3\"]])\n",
    "                        , data.frame(locus = \"RNF2_10percent\", gDNA_insert = insert_set_list[[\"RNF2\"]]))"
   ]
  },
  {
   "cell_type": "code",
   "execution_count": 51,
   "id": "f87f2445-b9ea-490a-8ea6-5a84894c2963",
   "metadata": {
    "tags": []
   },
   "outputs": [],
   "source": [
    "write.table(insertion_set, \"data/insertion_sets_gDNA_frame.txt\", quote = FALSE, sep = '\\t', row.names = TRUE)"
   ]
  },
  {
   "cell_type": "code",
   "execution_count": 53,
   "id": "5cab55c8-2df4-48f6-af01-d6f8f4fd6a3a",
   "metadata": {
    "tags": []
   },
   "outputs": [],
   "source": [
    "MFBC_order <- read.delim(\"data/MERFISH_BC_order.txt\")"
   ]
  },
  {
   "cell_type": "code",
   "execution_count": 54,
   "id": "97d6d788-7090-4006-8068-13339cf55657",
   "metadata": {
    "tags": []
   },
   "outputs": [],
   "source": [
    "all_insert <- crispresso_data[,c('locus', 'gDNA_insert')]\n",
    "all_insert <- all_insert[!duplicated(all_insert),]\n",
    "all_insert$within_10_percent <- ifelse(all_insert$locus == \"EMX1\"\n",
    "                                       , all_insert$gDNA_insert %in% insertion_set$gDNA_insert[\n",
    "                                           insertion_set$locus == \"EMX1_10percent\"],\n",
    "                                       ifelse(all_insert$locus == \"HEK3\"\n",
    "                                              , all_insert$gDNA_insert %in% insertion_set$gDNA_insert[\n",
    "                                           insertion_set$locus == \"HEK3_10percent\"],\n",
    "                                              ifelse(all_insert$locus == \"RNF2\"\n",
    "                                              , all_insert$gDNA_insert %in% insertion_set$gDNA_insert[\n",
    "                                           insertion_set$locus == \"RNF2_10percent\"]\n",
    "                                                     , NA)))\n",
    "all_insert$final_20 <- ifelse(all_insert$locus == \"EMX1\"\n",
    "                                       , all_insert$gDNA_insert %in% unique(MFBC_order$insertion[\n",
    "                                           MFBC_order$site == \"EMX1\"]),\n",
    "                                       ifelse(all_insert$locus == \"HEK3\"\n",
    "                                              , all_insert$gDNA_insert %in% unique(MFBC_order$insertion[\n",
    "                                           MFBC_order$site == \"HEK3\"]),\n",
    "                                              ifelse(all_insert$locus == \"RNF2\"\n",
    "                                              , all_insert$gDNA_insert %in% unique(MFBC_order$insertion[\n",
    "                                           MFBC_order$site == \"RNF2\"]), NA)))\n",
    "write.table(all_insert, file = \"data/top96_insertion_key.txt\", sep = \"\\t\", quote = FALSE, row.names = FALSE)"
   ]
  },
  {
   "cell_type": "code",
   "execution_count": 63,
   "id": "44abf2f6-e5f9-42ec-ba78-71d50c9d7dbc",
   "metadata": {
    "tags": []
   },
   "outputs": [],
   "source": [
    "plot_top96 <- function(locus) {\n",
    "    crispresso_data_plot <- crispresso_data[crispresso_data$locus == locus,]\n",
    "    crispresso_data_plot$gDNA_insert <- factor(crispresso_data_plot$gDNA_insert\n",
    "                                               , levels = unique(crispresso_data_plot$gDNA_insert[\n",
    "                                                   order(crispresso_data_plot$Correct_edit_mean, decreasing = TRUE)]))\n",
    "    crispresso_data_plot <- crispresso_data_plot[order(crispresso_data_plot$gDNA_insert),]\n",
    "    crispresso_data_plot$set <- crispresso_data_plot$gDNA_insert %in% insertion_set$gDNA_insert[\n",
    "         insertion_set$locus == paste0(locus, \"_10percent\")]\n",
    "    ggplot(crispresso_data_plot,  aes(x = gDNA_insert,y = Correct_edit, fill = set)) + \n",
    "            geom_bar(stat = \"summary\", fun = \"mean\",position = position_dodge(width = 0.9)\n",
    "            , color = \"black\", size=0.25, width = 0.8) + \n",
    "        scale_fill_manual(values = c(\"lightgrey\", \"darkgrey\")) +\n",
    "            stat_summary(fun.data = \"mean_sdl\", fun.args = list(mult = 1)\n",
    "                         , geom = \"errorbar\"\n",
    "                , position = position_dodge(width = 0.9), width = 0.4, linewidth = 0.25) + \n",
    "            geom_point(size = 0.5, position = position_dodge(width = 0.1)) + \n",
    "            ylab(\"Total sequencing reads with\\nspecified edit (%)\") + xlab(\"Insertion sequence\") +\n",
    "            ggtitle(paste0(locus, \" top \", length(unique(crispresso_data_plot$gDNA_insert)),\" insertions\")) +\n",
    "            scale_y_continuous(breaks=seq(0,80,by = 10), limits=c(0, 80), expand = c(0, 0)) + \n",
    "            theme(axis.text.x = element_text(angle = 90, vjust = 0.5, hjust=1\n",
    "                                             , color = ifelse(unique(crispresso_data_plot$gDNA_insert) %in% \n",
    "                                                              MFBC_order$insertion[MFBC_order$site == locus]\n",
    "                                                              , \"red\", \"black\")))\n",
    "}"
   ]
  },
  {
   "cell_type": "code",
   "execution_count": 72,
   "id": "f191fadd-44eb-48bc-b725-4b85a608809f",
   "metadata": {
    "tags": []
   },
   "outputs": [
    {
     "name": "stderr",
     "output_type": "stream",
     "text": [
      "Warning message:\n",
      "“\u001b[1m\u001b[22mVectorized input to `element_text()` is not officially supported.\n",
      "\u001b[36mℹ\u001b[39m Results may be unexpected or may change in future versions of ggplot2.”\n"
     ]
    },
    {
     "data": {
      "text/html": [
       "<strong>png:</strong> 2"
      ],
      "text/latex": [
       "\\textbf{png:} 2"
      ],
      "text/markdown": [
       "**png:** 2"
      ],
      "text/plain": [
       "png \n",
       "  2 "
      ]
     },
     "metadata": {},
     "output_type": "display_data"
    }
   ],
   "source": [
    "locus  <- \"EMX1\"\n",
    "pdf('plots/EMX1_top96.pdf', width = 8.3, height = 2, useDingbats = FALSE)\n",
    "plot_top96(locus)\n",
    "dev.off()"
   ]
  },
  {
   "cell_type": "code",
   "execution_count": 71,
   "id": "e36c60e4-d2d4-4f9d-8397-1edc1e982f28",
   "metadata": {
    "tags": []
   },
   "outputs": [
    {
     "name": "stderr",
     "output_type": "stream",
     "text": [
      "Warning message:\n",
      "“\u001b[1m\u001b[22mVectorized input to `element_text()` is not officially supported.\n",
      "\u001b[36mℹ\u001b[39m Results may be unexpected or may change in future versions of ggplot2.”\n"
     ]
    },
    {
     "data": {
      "text/html": [
       "<strong>png:</strong> 2"
      ],
      "text/latex": [
       "\\textbf{png:} 2"
      ],
      "text/markdown": [
       "**png:** 2"
      ],
      "text/plain": [
       "png \n",
       "  2 "
      ]
     },
     "metadata": {},
     "output_type": "display_data"
    }
   ],
   "source": [
    "locus  <- \"HEK3\"\n",
    "pdf('plots/HEK3_top96.pdf', width = 8.3, height = 2, useDingbats = FALSE)\n",
    "plot_top96(locus)\n",
    "dev.off()"
   ]
  },
  {
   "cell_type": "code",
   "execution_count": 70,
   "id": "9ea2796c-7a39-469c-a19d-95ff574f433f",
   "metadata": {
    "tags": []
   },
   "outputs": [
    {
     "name": "stderr",
     "output_type": "stream",
     "text": [
      "Warning message:\n",
      "“\u001b[1m\u001b[22mVectorized input to `element_text()` is not officially supported.\n",
      "\u001b[36mℹ\u001b[39m Results may be unexpected or may change in future versions of ggplot2.”\n"
     ]
    },
    {
     "data": {
      "text/html": [
       "<strong>png:</strong> 2"
      ],
      "text/latex": [
       "\\textbf{png:} 2"
      ],
      "text/markdown": [
       "**png:** 2"
      ],
      "text/plain": [
       "png \n",
       "  2 "
      ]
     },
     "metadata": {},
     "output_type": "display_data"
    }
   ],
   "source": [
    "locus  <- \"RNF2\"\n",
    "pdf('plots/RNF2_top96.pdf', width = 8.3, height = 2, useDingbats = FALSE)\n",
    "plot_top96(locus)\n",
    "dev.off()"
   ]
  }
 ],
 "metadata": {
  "kernelspec": {
   "display_name": "R 4.2",
   "language": "R",
   "name": "ir42"
  },
  "language_info": {
   "codemirror_mode": "r",
   "file_extension": ".r",
   "mimetype": "text/x-r-source",
   "name": "R",
   "pygments_lexer": "r",
   "version": "4.2.3"
  }
 },
 "nbformat": 4,
 "nbformat_minor": 5
}
