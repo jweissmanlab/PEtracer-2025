{
 "cells": [
  {
   "cell_type": "code",
   "execution_count": 3,
   "id": "b7e12212",
   "metadata": {},
   "outputs": [
    {
     "name": "stdout",
     "output_type": "stream",
     "text": [
      "1473769\n"
     ]
    }
   ],
   "source": [
    "import os, sys\n",
    "import numpy as np\n",
    "import pandas as pd\n",
    "import matplotlib.pyplot as plt\n",
    "#import torch\n",
    "from importlib import reload\n",
    "print(os.getpid())\n",
    "sys.path.append(r\"/lab/weissman_imaging/puzheng/Softwares\")"
   ]
  },
  {
   "cell_type": "code",
   "execution_count": 40,
   "id": "01d8e7bf",
   "metadata": {},
   "outputs": [],
   "source": [
    "library_master_folder = r'/lab/solexa_weissman/puzheng/MERFISH_Probes'\n",
    "\n",
    "library_folder = os.path.join(library_master_folder, '4T1_MERFISH', 'MF4_4T1Primary16bit_DNAbit')\n"
   ]
  },
  {
   "cell_type": "markdown",
   "id": "a7813bec",
   "metadata": {},
   "source": [
    "## load covering design"
   ]
  },
  {
   "cell_type": "code",
   "execution_count": null,
   "id": "9f2902f3",
   "metadata": {},
   "outputs": [],
   "source": []
  },
  {
   "cell_type": "code",
   "execution_count": 25,
   "id": "9d66f6f8",
   "metadata": {},
   "outputs": [],
   "source": [
    "# Convert the gene codes to binary codes\n",
    "import MERFISH_probe_design.codebook_design.codebook_design_stochastic as cds\n",
    "gene_binary_codes = np.array([cds.on_bits_to_binary_code(c, code_length) for c in gene_codes])"
   ]
  },
  {
   "cell_type": "markdown",
   "id": "1f49b451",
   "metadata": {},
   "source": [
    "# load readouts"
   ]
  },
  {
   "cell_type": "code",
   "execution_count": 18,
   "id": "9e6f626c",
   "metadata": {},
   "outputs": [
    {
     "name": "stdout",
     "output_type": "stream",
     "text": [
      "Loading readouts from file: /lab/solexa_weissman/puzheng/References/Readouts/updated_Stvs.fasta\n"
     ]
    },
    {
     "name": "stderr",
     "output_type": "stream",
     "text": [
      "/tmp/ipykernel_1473769/3249465992.py:10: SettingWithCopyWarning: \n",
      "A value is trying to be set on a copy of a slice from a DataFrame.\n",
      "Try using .loc[row_indexer,col_indexer] = value instead\n",
      "\n",
      "See the caveats in the documentation: https://pandas.pydata.org/pandas-docs/stable/user_guide/indexing.html#returning-a-view-versus-a-copy\n",
      "  readouts.loc[:,'Name'] = np.array([_n.split(' ')[0] for _n in readouts['Name']])\n"
     ]
    }
   ],
   "source": [
    "from ChromAn.src.library_tools.primers import load_fasta_to_DataFrame\n",
    "\n",
    "readout_folder = r'/lab/solexa_weissman/puzheng/References/Readouts'\n",
    "readout_filename = os.path.join(readout_folder, 'updated_Stvs.fasta')\n",
    "print(f\"Loading readouts from file: {readout_filename}\")\n",
    "readouts_all = load_fasta_to_DataFrame(readout_filename)\n",
    "# select\n",
    "start_bit = 22\n",
    "readouts = readouts_all[start_bit:start_bit+num_bits]\n",
    "readouts.loc[:,'Name'] = np.array([_n.split(' ')[0] for _n in readouts['Name']])\n",
    "#print(readouts)\n",
    "readouts_names = list(readouts['Name'])"
   ]
  },
  {
   "cell_type": "markdown",
   "id": "99e5ab72",
   "metadata": {},
   "source": [
    "## Save readout file"
   ]
  },
  {
   "cell_type": "code",
   "execution_count": 23,
   "id": "94b27de3",
   "metadata": {},
   "outputs": [
    {
     "name": "stdout",
     "output_type": "stream",
     "text": [
      "Saving readouts to file: /lab/solexa_weissman/puzheng/MERFISH_Probes/4T1_MERFISH/MF4_4T1Primary16bit_DNAbit/readouts.csv\n"
     ]
    }
   ],
   "source": [
    "# save readouts\n",
    "readout_savefile = os.path.join(library_folder, 'readouts.csv')\n",
    "print(f\"Saving readouts to file: {readout_savefile}\")\n",
    "readouts.to_csv(readout_savefile, index=None)"
   ]
  },
  {
   "cell_type": "markdown",
   "id": "8c5b8619",
   "metadata": {},
   "source": [
    "## Load v1 codebook and change readouts"
   ]
  },
  {
   "cell_type": "code",
   "execution_count": 26,
   "id": "4d49b69e",
   "metadata": {},
   "outputs": [],
   "source": [
    "import MERFISH_probe_design.IO.file_io as fio"
   ]
  },
  {
   "cell_type": "code",
   "execution_count": 41,
   "id": "1d6b5a0b",
   "metadata": {},
   "outputs": [],
   "source": [
    "v1_codebook_filename = os.path.join(library_master_folder, '4T1_MERFISH', 'MF4_4T1Primary16bit','codebook.csv')\n",
    "codebook_infos = fio.load_merlin_codebook(v1_codebook_filename)\n",
    "\n",
    "\n",
    "# The output codebook filename\n",
    "codebook_file = os.path.join(library_folder, 'codebook.csv')\n",
    "# replace readouts_names\n",
    "fio.write_merlin_codebook(codebook_file, codebook_infos[0], codebook_infos[1], readouts_names, codebook_infos[3]['name'].values, \n",
    "                     codebook_infos[3]['id'].values, codebook_infos[3]['barcode_str'].values,)"
   ]
  },
  {
   "cell_type": "markdown",
   "id": "79cb0ea9",
   "metadata": {},
   "source": [
    "## Manually check codebook now!"
   ]
  }
 ],
 "metadata": {
  "kernelspec": {
   "display_name": "postanalysis",
   "language": "python",
   "name": "postanalysis"
  },
  "language_info": {
   "codemirror_mode": {
    "name": "ipython",
    "version": 3
   },
   "file_extension": ".py",
   "mimetype": "text/x-python",
   "name": "python",
   "nbconvert_exporter": "python",
   "pygments_lexer": "ipython3",
   "version": "3.10.12"
  }
 },
 "nbformat": 4,
 "nbformat_minor": 5
}
