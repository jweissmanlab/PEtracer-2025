{
 "cells": [
  {
   "cell_type": "code",
   "execution_count": 1,
   "id": "130196dc",
   "metadata": {},
   "outputs": [
    {
     "name": "stdout",
     "output_type": "stream",
     "text": [
      "1624214\n"
     ]
    }
   ],
   "source": [
    "import os,sys\n",
    "from importlib import reload\n",
    "import numpy as np\n",
    "import pandas as pd\n",
    "#import torch\n",
    "print(os.getpid())\n",
    "sys.path.append(r'/lab/weissman_imaging/puzheng/Softwares/') # parent folder of ChromAn"
   ]
  },
  {
   "cell_type": "code",
   "execution_count": 2,
   "id": "a0e2a48a",
   "metadata": {},
   "outputs": [],
   "source": [
    "import re\n",
    "import MERFISH_probe_design.IO.file_io as fio\n",
    "import MERFISH_probe_design.probe_design.OTTable_dict as ot\n",
    "\n",
    "from Bio.Seq import reverse_complement\n",
    "\n",
    "# common parameters:\n",
    "table_keylen = 17"
   ]
  },
  {
   "cell_type": "code",
   "execution_count": 3,
   "id": "42b07ebf",
   "metadata": {},
   "outputs": [
    {
     "name": "stdout",
     "output_type": "stream",
     "text": [
      "['Mus_musculus.GRCm39.ncrna.fa', 'rtRNA_15.table', '.DS_Store', 'Mus_musculus.GRCm39.cdna.all.fa', 'transcriptome_17.table', 'Mus_musculus.GRCm39.109.gff3']\n"
     ]
    }
   ],
   "source": [
    "reference_folder = r'/lab/solexa_weissman/puzheng/References/'\n",
    "#reference_folder = r'\\\\wi-bigdata.wi.mit.edu\\solexa_weissman\\puzheng\\References'\n",
    "print(os.listdir(os.path.join(reference_folder, 'GRCm39', 'Transcriptome')))\n",
    "\n",
    "mRNA_fasta_file = os.path.join(reference_folder, 'GRCm39', 'Transcriptome', \n",
    "                                      r'Mus_musculus.GRCm39.cdna.all.fa')\n",
    "ncRNA_fasta_file = os.path.join(reference_folder, 'GRCm39', 'Transcriptome',\n",
    "                                      r'Mus_musculus.GRCm39.ncrna.fa')\n",
    "gff3_file = os.path.join(reference_folder, 'GRCm39', 'Transcriptome',\n",
    "                                      r'Mus_musculus.GRCm39.109.gff3')\n"
   ]
  },
  {
   "cell_type": "code",
   "execution_count": 6,
   "id": "4cc04bd6",
   "metadata": {
    "scrolled": true
   },
   "outputs": [],
   "source": [
    "\n",
    "import pickle\n",
    "overwrite_ottable = False\n",
    "\n",
    "mRNA = fio.load_fasta_into_df(mRNA_fasta_file)\n",
    "ncRNAs =  fio.load_fasta_into_df(ncRNA_fasta_file)"
   ]
  },
  {
   "cell_type": "code",
   "execution_count": null,
   "id": "1ea81fff",
   "metadata": {},
   "outputs": [],
   "source": [
    "# Load the transcriptome as a pandas data frame\n",
    "transcriptome_ottable_savefile = os.path.join(reference_folder, 'GRCm39', 'Transcriptome', \n",
    "                                              f'transcriptome_{table_keylen}.table')\n",
    "if os.path.isfile(transcriptome_ottable_savefile):\n",
    "    ottable_transcriptome = pickle.load(open(transcriptome_ottable_savefile, 'rb'))\n",
    "else:\n",
    "    transcriptome = pd.concat([mRNA, ncRNAs])\n",
    "    transcriptome['FPKM'] = 1\n",
    "    # OTTable for the transcriptome.\n",
    "    if 'ottable_transcriptome' not in locals() or overwrite_ottable:\n",
    "        ottable_transcriptome = ot.get_OTTable_for_transcriptome(transcriptome, table_keylen)\n",
    "        # save pickle\n",
    "        print(transcriptome_ottable_savefile)\n",
    "        ottable_transcriptome.save_pkl(transcriptome_ottable_savefile)\n",
    "    else:\n",
    "        print(\"ottable_transcriptome already exist, skip.\")"
   ]
  },
  {
   "cell_type": "code",
   "execution_count": 10,
   "id": "386d8de3",
   "metadata": {},
   "outputs": [],
   "source": [
    "# rRNA and tRNA reference:\n",
    "rtRNA_ottable_savefile = os.path.join(reference_folder, 'GRCm39', 'Transcriptome', \n",
    "                                              f'rtRNA_{15}.table')\n",
    "if os.path.isfile(rtRNA_ottable_savefile):\n",
    "    ottable_rtRNAs = pickle.load(open(rtRNA_ottable_savefile, 'rb'))\n",
    "else:\n",
    "    # OTTable for rRNA/tRNAs\n",
    "    if 'ottable_rtRNAs' not in locals() or overwrite_ottable:\n",
    "        ncRNAs =  fio.load_fasta_into_df(ncRNA_fasta_file)\n",
    "        ottable_rtRNAs = ot.get_OTTable_for_rtRNAs(ncRNAs, 15)\n",
    "    print(rtRNA_ottable_savefile)\n",
    "    ottable_rtRNAs.save_pkl(rtRNA_ottable_savefile)"
   ]
  },
  {
   "cell_type": "code",
   "execution_count": 23,
   "id": "fc0da89a",
   "metadata": {},
   "outputs": [
    {
     "name": "stdout",
     "output_type": "stream",
     "text": [
      "Construct a OTTable using 2171/2171 transcripts with FPKM > 0.\n",
      "/lab/solexa_weissman/puzheng/MERFISH_Probes/PE_TS/NewTargetSites/IntBC_MERFISH_v2/PE_target_site_17.table\n",
      "Wrote the OTTable to /lab/solexa_weissman/puzheng/MERFISH_Probes/PE_TS/NewTargetSites/IntBC_MERFISH_v2/PE_target_site_17.table.\n"
     ]
    }
   ],
   "source": [
    "# generate a internal table for the targetsites:\n",
    "target_site_ottable_savefile = os.path.join(library_folder, f'PE_target_site_{table_keylen}.table')\n",
    "\n",
    "\n",
    "\n",
    "if os.path.isfile(target_site_ottable_savefile):\n",
    "    ottable_target_site = pickle.load(open(target_site_ottable_savefile, 'rb'))\n",
    "else:\n",
    "    # loadtarget_sites:\n",
    "    target_site_filename = os.path.join(library_folder, 'PETS_orthoSeq_targets.xlsx')\n",
    "    target_df = pd.read_excel(target_site_filename)\n",
    "    target_site = pd.DataFrame({'id':target_df['name'], \n",
    "                                'description':target_df['name'],\n",
    "                                'sequence':target_df['seq'],\n",
    "                               })\n",
    "    target_site['FPKM'] = 1\n",
    "    # OTTable for the target_site.\n",
    "    if 'ottable_target_site' not in locals() or overwrite_ottable:\n",
    "        ottable_target_site = ot.get_OTTable_for_transcriptome(target_site, table_keylen)\n",
    "        # save pickle\n",
    "        print(target_site_ottable_savefile)\n",
    "        ottable_target_site.save_pkl(target_site_ottable_savefile)\n",
    "    else:\n",
    "        print(\"ottable_target_site already exist, skip.\")"
   ]
  },
  {
   "cell_type": "code",
   "execution_count": 21,
   "id": "6dc1bd2a",
   "metadata": {},
   "outputs": [
    {
     "data": {
      "text/html": [
       "<div>\n",
       "<style scoped>\n",
       "    .dataframe tbody tr th:only-of-type {\n",
       "        vertical-align: middle;\n",
       "    }\n",
       "\n",
       "    .dataframe tbody tr th {\n",
       "        vertical-align: top;\n",
       "    }\n",
       "\n",
       "    .dataframe thead th {\n",
       "        text-align: right;\n",
       "    }\n",
       "</style>\n",
       "<table border=\"1\" class=\"dataframe\">\n",
       "  <thead>\n",
       "    <tr style=\"text-align: right;\">\n",
       "      <th></th>\n",
       "      <th>id</th>\n",
       "      <th>description</th>\n",
       "      <th>sequence</th>\n",
       "      <th>FPKM</th>\n",
       "    </tr>\n",
       "  </thead>\n",
       "  <tbody>\n",
       "    <tr>\n",
       "      <th>0</th>\n",
       "      <td>intID1</td>\n",
       "      <td>intID1</td>\n",
       "      <td>TGTATTTGTGAGGGCCCAACCACGACGTAAGGTGAATTGTTGCTGC...</td>\n",
       "      <td>1</td>\n",
       "    </tr>\n",
       "    <tr>\n",
       "      <th>1</th>\n",
       "      <td>intID2</td>\n",
       "      <td>intID2</td>\n",
       "      <td>GGATCTTACAGGACTACTCAAGTGGTGGTTTACGTTCCGTCTCACC...</td>\n",
       "      <td>1</td>\n",
       "    </tr>\n",
       "    <tr>\n",
       "      <th>2</th>\n",
       "      <td>intID3</td>\n",
       "      <td>intID3</td>\n",
       "      <td>TGGGAGTGAGCTTACCATCGAACAAATCCTTAGAGGCTGATGCTGG...</td>\n",
       "      <td>1</td>\n",
       "    </tr>\n",
       "    <tr>\n",
       "      <th>3</th>\n",
       "      <td>intID4</td>\n",
       "      <td>intID4</td>\n",
       "      <td>ATGTGCGGTAGCGCCCACTATTAGAGGCAGGCTAATCCCCTATGGA...</td>\n",
       "      <td>1</td>\n",
       "    </tr>\n",
       "    <tr>\n",
       "      <th>4</th>\n",
       "      <td>intID5</td>\n",
       "      <td>intID5</td>\n",
       "      <td>AATAATGCGTCTCCTGTAGGTTAAAGCAGGGCACCATCGTTGCTTA...</td>\n",
       "      <td>1</td>\n",
       "    </tr>\n",
       "    <tr>\n",
       "      <th>...</th>\n",
       "      <td>...</td>\n",
       "      <td>...</td>\n",
       "      <td>...</td>\n",
       "      <td>...</td>\n",
       "    </tr>\n",
       "    <tr>\n",
       "      <th>2166</th>\n",
       "      <td>intID2167</td>\n",
       "      <td>intID2167</td>\n",
       "      <td>AGTCAATCTAGACCATCCATTGCGTCAAGCGGCGTCTGTCTAATTC...</td>\n",
       "      <td>1</td>\n",
       "    </tr>\n",
       "    <tr>\n",
       "      <th>2167</th>\n",
       "      <td>intID2168</td>\n",
       "      <td>intID2168</td>\n",
       "      <td>CCCGGCCCAAATAAAATTTAGCCATGCGGCTTTCACCAAAACTCTG...</td>\n",
       "      <td>1</td>\n",
       "    </tr>\n",
       "    <tr>\n",
       "      <th>2168</th>\n",
       "      <td>intID2169</td>\n",
       "      <td>intID2169</td>\n",
       "      <td>CCTTTGTTAGCGCGACCAAAGGAGGTGATTTTCGGCACGCACACAC...</td>\n",
       "      <td>1</td>\n",
       "    </tr>\n",
       "    <tr>\n",
       "      <th>2169</th>\n",
       "      <td>intID2170</td>\n",
       "      <td>intID2170</td>\n",
       "      <td>ACACGTCCCCGGTATGATTCCTTGGGTAACTTTGATGCTGGACCGT...</td>\n",
       "      <td>1</td>\n",
       "    </tr>\n",
       "    <tr>\n",
       "      <th>2170</th>\n",
       "      <td>intID2171</td>\n",
       "      <td>intID2171</td>\n",
       "      <td>AATTCCTCTTACTCCTTGCACCAGATACTTCATTCGGGTCATCTCA...</td>\n",
       "      <td>1</td>\n",
       "    </tr>\n",
       "  </tbody>\n",
       "</table>\n",
       "<p>2171 rows × 4 columns</p>\n",
       "</div>"
      ],
      "text/plain": [
       "             id description  \\\n",
       "0        intID1      intID1   \n",
       "1        intID2      intID2   \n",
       "2        intID3      intID3   \n",
       "3        intID4      intID4   \n",
       "4        intID5      intID5   \n",
       "...         ...         ...   \n",
       "2166  intID2167   intID2167   \n",
       "2167  intID2168   intID2168   \n",
       "2168  intID2169   intID2169   \n",
       "2169  intID2170   intID2170   \n",
       "2170  intID2171   intID2171   \n",
       "\n",
       "                                               sequence  FPKM  \n",
       "0     TGTATTTGTGAGGGCCCAACCACGACGTAAGGTGAATTGTTGCTGC...     1  \n",
       "1     GGATCTTACAGGACTACTCAAGTGGTGGTTTACGTTCCGTCTCACC...     1  \n",
       "2     TGGGAGTGAGCTTACCATCGAACAAATCCTTAGAGGCTGATGCTGG...     1  \n",
       "3     ATGTGCGGTAGCGCCCACTATTAGAGGCAGGCTAATCCCCTATGGA...     1  \n",
       "4     AATAATGCGTCTCCTGTAGGTTAAAGCAGGGCACCATCGTTGCTTA...     1  \n",
       "...                                                 ...   ...  \n",
       "2166  AGTCAATCTAGACCATCCATTGCGTCAAGCGGCGTCTGTCTAATTC...     1  \n",
       "2167  CCCGGCCCAAATAAAATTTAGCCATGCGGCTTTCACCAAAACTCTG...     1  \n",
       "2168  CCTTTGTTAGCGCGACCAAAGGAGGTGATTTTCGGCACGCACACAC...     1  \n",
       "2169  ACACGTCCCCGGTATGATTCCTTGGGTAACTTTGATGCTGGACCGT...     1  \n",
       "2170  AATTCCTCTTACTCCTTGCACCAGATACTTCATTCGGGTCATCTCA...     1  \n",
       "\n",
       "[2171 rows x 4 columns]"
      ]
     },
     "execution_count": 21,
     "metadata": {},
     "output_type": "execute_result"
    }
   ],
   "source": [
    "target_site"
   ]
  },
  {
   "cell_type": "code",
   "execution_count": 11,
   "id": "eb60b9f7",
   "metadata": {},
   "outputs": [
    {
     "name": "stdout",
     "output_type": "stream",
     "text": [
      "/lab/solexa_weissman/puzheng/MERFISH_Probes/PE_TS/NewTargetSites\n",
      "/lab/solexa_weissman/puzheng/MERFISH_Probes/PE_TS/NewTargetSites/IntBC_MERFISH_v2\n"
     ]
    }
   ],
   "source": [
    "pool_folder = r'/lab/solexa_weissman/puzheng/MERFISH_Probes/PE_TS/NewTargetSites'\n",
    "print(pool_folder)\n",
    "library_folder = os.path.join(pool_folder, 'IntBC_MERFISH_v2')\n",
    "print(library_folder)"
   ]
  },
  {
   "cell_type": "code",
   "execution_count": 12,
   "id": "bb6c4999",
   "metadata": {},
   "outputs": [
    {
     "data": {
      "text/plain": [
       "['blank_merfish_barcodes.npy',\n",
       " 'full_codebook.csv',\n",
       " '2024_2_7_probe_30ntNO.xlsx',\n",
       " '2024_2_7_merged_probes.xlsx',\n",
       " '~$2024_2_7_twist_merged_probes.xlsx',\n",
       " 'PETS_orthoSeq_targets.xlsx',\n",
       " '2024_2_6_full_codebook.csv',\n",
       " '2024_2_7_skipped_probes.xlsx',\n",
       " '2024_2_7_probe_30ntIntBC.xlsx',\n",
       " 'final_probe_transcriptome_counts.png',\n",
       " '2024_2_7_primers.xlsx',\n",
       " '2024_2_7_twist_merged_probes.xlsx',\n",
       " 'sel_merfish_barcodes.npy']"
      ]
     },
     "execution_count": 12,
     "metadata": {},
     "output_type": "execute_result"
    }
   ],
   "source": [
    "os.listdir(library_folder)"
   ]
  },
  {
   "cell_type": "code",
   "execution_count": 13,
   "id": "9fae75a4",
   "metadata": {},
   "outputs": [],
   "source": [
    "# make sure probes'rc doesn't hit transcriptome\n",
    "probe_basenames = [\n",
    " '2024_2_7_probe_30ntIntBC.xlsx',\n",
    "]\n",
    "probe_dfs = []\n",
    "for _basename in probe_basenames:\n",
    "    _filename = os.path.join(library_folder, _basename)\n",
    "    probe_dfs.append(pd.read_excel(_filename))"
   ]
  },
  {
   "cell_type": "code",
   "execution_count": null,
   "id": "94bff039",
   "metadata": {},
   "outputs": [],
   "source": []
  },
  {
   "cell_type": "code",
   "execution_count": 14,
   "id": "65200b0d",
   "metadata": {},
   "outputs": [],
   "source": [
    "from ChromAn.src.library_tools.assemble_probe import shuffle_readout"
   ]
  },
  {
   "cell_type": "code",
   "execution_count": 29,
   "id": "b6bd8602",
   "metadata": {},
   "outputs": [
    {
     "data": {
      "application/vnd.jupyter.widget-view+json": {
       "model_id": "eb0801c7cdb64b77b5e06fbd779afc91",
       "version_major": 2,
       "version_minor": 0
      },
      "text/plain": [
       "0it [00:00, ?it/s]"
      ]
     },
     "metadata": {},
     "output_type": "display_data"
    }
   ],
   "source": [
    "from copy import copy\n",
    "from tqdm.notebook import tqdm\n",
    "\n",
    "linker = 't'\n",
    "new_count_th = 14\n",
    "rt_count_th = 0\n",
    "target_count_th = 20\n",
    "\n",
    "readout_inds = [2,3,4] # first two are fwd_primer, target_rc\n",
    "\n",
    "skipped_probes = []\n",
    "final_probe_df = pd.DataFrame(columns=['Name','Sequence','Transcriptome','r_t_RNA','target_site'])\n",
    "\n",
    "for _basename, _probe_df in zip(probe_basenames, probe_dfs):\n",
    "    _lib_name = _basename.split(os.extsep)[0].split('_')[-1]\n",
    "    for _i, _row in tqdm(_probe_df.iterrows()):\n",
    "        _seq = _row['Sequence']\n",
    "        _counts = ottable_transcriptome.calculate_count(reverse_complement(_seq.upper()), table_keylen)\n",
    "        _rt_count = ottable_rtRNAs.total_count(reverse_complement(_seq.upper()), 15)\n",
    "        _target_count = ottable_target_site.total_count(reverse_complement(_seq.upper()), table_keylen)\n",
    "        \n",
    "        # now try shuffle readout sequences\n",
    "        _curr_total = np.sum(_counts)\n",
    "        _curr_seq = copy(_seq)\n",
    "        _curr_rt_count = _rt_count\n",
    "        _curr_target_count = _target_count\n",
    "        # shuffle if not passing threshold\n",
    "        if _curr_total >= new_count_th or _curr_rt_count > rt_count_th or _curr_target_count > target_count_th:\n",
    "            for _i_shuffle in range(100):\n",
    "                _sf_seq = shuffle_readout(_seq, readout_inds=readout_inds, linker=linker) \n",
    "                _new_counts = ottable_transcriptome.calculate_count(reverse_complement(_sf_seq.upper()), \n",
    "                                                                    table_keylen)\n",
    "                _new_rt_count = ottable_rtRNAs.total_count(reverse_complement(_sf_seq.upper()), 15)\n",
    "                _new_target_site_count = ottable_target_site.total_count(reverse_complement(_sf_seq.upper()), table_keylen)\n",
    "                if np.sum(_new_counts) < _curr_total and _new_rt_count <= _curr_rt_count:\n",
    "                    _curr_total = np.sum(_new_counts)\n",
    "                    _curr_seq = copy(_sf_seq)\n",
    "                    _curr_rt_count = copy(_new_rt_count)\n",
    "                    _curr_target_count = copy(_new_target_site_count)\n",
    "                    #print(_i_shuffle, _new_rt_count)\n",
    "                    if _curr_total == 0 and _curr_rt_count <= rt_count_th and _curr_target_count <= target_count_th:\n",
    "                        break\n",
    "            # if still not pass threshold, skip:\n",
    "            if _curr_total >= new_count_th or _curr_rt_count > rt_count_th:\n",
    "                _row['Library'] = _lib_name\n",
    "                _row['Transcriptome'] = _curr_total\n",
    "                _row['r_t_RNA'] = _curr_rt_count\n",
    "                _row['target_site'] = _target_count\n",
    "                skipped_probes.append(_row)\n",
    "                continue\n",
    "            #print(_curr_rt_count)\n",
    "        # save this\n",
    "        _line = pd.Series(\n",
    "            {'Name':f\"Library_{_lib_name}_fwd_\"+_row['Name'], \n",
    "             'Sequence':_curr_seq, \n",
    "             'Transcriptome':_curr_total,\n",
    "             'r_t_RNA':_curr_rt_count,\n",
    "             'target_site':_curr_target_count\n",
    "            },\n",
    "        )\n",
    "        final_probe_df.loc[len(final_probe_df)] = _line\n",
    "    #break\n",
    "    \n",
    "skipped_probes = pd.DataFrame(skipped_probes)"
   ]
  },
  {
   "cell_type": "code",
   "execution_count": 34,
   "id": "a6189a37",
   "metadata": {},
   "outputs": [
    {
     "data": {
      "text/html": [
       "<div>\n",
       "<style scoped>\n",
       "    .dataframe tbody tr th:only-of-type {\n",
       "        vertical-align: middle;\n",
       "    }\n",
       "\n",
       "    .dataframe tbody tr th {\n",
       "        vertical-align: top;\n",
       "    }\n",
       "\n",
       "    .dataframe thead th {\n",
       "        text-align: right;\n",
       "    }\n",
       "</style>\n",
       "<table border=\"1\" class=\"dataframe\">\n",
       "  <thead>\n",
       "    <tr style=\"text-align: right;\">\n",
       "      <th></th>\n",
       "      <th>Name</th>\n",
       "      <th>Sequence</th>\n",
       "      <th>Transcriptome</th>\n",
       "      <th>r_t_RNA</th>\n",
       "      <th>target_site</th>\n",
       "    </tr>\n",
       "  </thead>\n",
       "  <tbody>\n",
       "    <tr>\n",
       "      <th>0</th>\n",
       "      <td>Library_30ntIntBC_fwd_W1A03_primer_2_intID1_pr...</td>\n",
       "      <td>CCCGCAATGGCTGACAACCGtTTACGTCGTGGTTGGGCCCTCACAA...</td>\n",
       "      <td>0</td>\n",
       "      <td>0</td>\n",
       "      <td>14</td>\n",
       "    </tr>\n",
       "    <tr>\n",
       "      <th>1</th>\n",
       "      <td>Library_30ntIntBC_fwd_W1A03_primer_2_intID1_pr...</td>\n",
       "      <td>CCCGCAATGGCTGACAACCGtATTTACGACTGAACGCAGCAACAAT...</td>\n",
       "      <td>0</td>\n",
       "      <td>0</td>\n",
       "      <td>16</td>\n",
       "    </tr>\n",
       "    <tr>\n",
       "      <th>2</th>\n",
       "      <td>Library_30ntIntBC_fwd_W1A03_primer_2_intID1_pr...</td>\n",
       "      <td>CCCGCAATGGCTGACAACCGtGTGCGCCACAGATATAGGGCGAATC...</td>\n",
       "      <td>0</td>\n",
       "      <td>0</td>\n",
       "      <td>14</td>\n",
       "    </tr>\n",
       "    <tr>\n",
       "      <th>3</th>\n",
       "      <td>Library_30ntIntBC_fwd_W1A03_primer_2_intID1_pr...</td>\n",
       "      <td>CCCGCAATGGCTGACAACCGtTAATACGGAGGAATTACAGCTTCAA...</td>\n",
       "      <td>0</td>\n",
       "      <td>0</td>\n",
       "      <td>14</td>\n",
       "    </tr>\n",
       "    <tr>\n",
       "      <th>4</th>\n",
       "      <td>Library_30ntIntBC_fwd_W1A03_primer_2_intID1_pr...</td>\n",
       "      <td>CCCGCAATGGCTGACAACCGtAGACAGGGCGGCTACCTCAAGTAAC...</td>\n",
       "      <td>0</td>\n",
       "      <td>0</td>\n",
       "      <td>16</td>\n",
       "    </tr>\n",
       "    <tr>\n",
       "      <th>...</th>\n",
       "      <td>...</td>\n",
       "      <td>...</td>\n",
       "      <td>...</td>\n",
       "      <td>...</td>\n",
       "      <td>...</td>\n",
       "    </tr>\n",
       "    <tr>\n",
       "      <th>13013</th>\n",
       "      <td>Library_30ntIntBC_fwd_W1A03_primer_2_intID2171...</td>\n",
       "      <td>CCCGCAATGGCTGACAACCGtGCTCAGGACTCCGATGAGATGACCC...</td>\n",
       "      <td>1</td>\n",
       "      <td>0</td>\n",
       "      <td>14</td>\n",
       "    </tr>\n",
       "    <tr>\n",
       "      <th>13014</th>\n",
       "      <td>Library_30ntIntBC_fwd_W1A03_primer_2_intID2171...</td>\n",
       "      <td>CCCGCAATGGCTGACAACCGtGAGACTCCGCGTTGCACATCCAACG...</td>\n",
       "      <td>0</td>\n",
       "      <td>0</td>\n",
       "      <td>15</td>\n",
       "    </tr>\n",
       "    <tr>\n",
       "      <th>13015</th>\n",
       "      <td>Library_30ntIntBC_fwd_W1A03_primer_2_intID2171...</td>\n",
       "      <td>CCCGCAATGGCTGACAACCGtGAAGAGCATTAAAATGAGCATCGAC...</td>\n",
       "      <td>0</td>\n",
       "      <td>0</td>\n",
       "      <td>14</td>\n",
       "    </tr>\n",
       "    <tr>\n",
       "      <th>13016</th>\n",
       "      <td>Library_30ntIntBC_fwd_W1A03_primer_2_intID2171...</td>\n",
       "      <td>CCCGCAATGGCTGACAACCGtCGACGGAGAGTCTGAGGGTTAAGCA...</td>\n",
       "      <td>0</td>\n",
       "      <td>0</td>\n",
       "      <td>14</td>\n",
       "    </tr>\n",
       "    <tr>\n",
       "      <th>13017</th>\n",
       "      <td>Library_30ntIntBC_fwd_W1A03_primer_2_intID2171...</td>\n",
       "      <td>CCCGCAATGGCTGACAACCGtCAGAAAGTCCAAAGTCGGATGACTG...</td>\n",
       "      <td>0</td>\n",
       "      <td>0</td>\n",
       "      <td>14</td>\n",
       "    </tr>\n",
       "  </tbody>\n",
       "</table>\n",
       "<p>13018 rows × 5 columns</p>\n",
       "</div>"
      ],
      "text/plain": [
       "                                                    Name  \\\n",
       "0      Library_30ntIntBC_fwd_W1A03_primer_2_intID1_pr...   \n",
       "1      Library_30ntIntBC_fwd_W1A03_primer_2_intID1_pr...   \n",
       "2      Library_30ntIntBC_fwd_W1A03_primer_2_intID1_pr...   \n",
       "3      Library_30ntIntBC_fwd_W1A03_primer_2_intID1_pr...   \n",
       "4      Library_30ntIntBC_fwd_W1A03_primer_2_intID1_pr...   \n",
       "...                                                  ...   \n",
       "13013  Library_30ntIntBC_fwd_W1A03_primer_2_intID2171...   \n",
       "13014  Library_30ntIntBC_fwd_W1A03_primer_2_intID2171...   \n",
       "13015  Library_30ntIntBC_fwd_W1A03_primer_2_intID2171...   \n",
       "13016  Library_30ntIntBC_fwd_W1A03_primer_2_intID2171...   \n",
       "13017  Library_30ntIntBC_fwd_W1A03_primer_2_intID2171...   \n",
       "\n",
       "                                                Sequence Transcriptome  \\\n",
       "0      CCCGCAATGGCTGACAACCGtTTACGTCGTGGTTGGGCCCTCACAA...             0   \n",
       "1      CCCGCAATGGCTGACAACCGtATTTACGACTGAACGCAGCAACAAT...             0   \n",
       "2      CCCGCAATGGCTGACAACCGtGTGCGCCACAGATATAGGGCGAATC...             0   \n",
       "3      CCCGCAATGGCTGACAACCGtTAATACGGAGGAATTACAGCTTCAA...             0   \n",
       "4      CCCGCAATGGCTGACAACCGtAGACAGGGCGGCTACCTCAAGTAAC...             0   \n",
       "...                                                  ...           ...   \n",
       "13013  CCCGCAATGGCTGACAACCGtGCTCAGGACTCCGATGAGATGACCC...             1   \n",
       "13014  CCCGCAATGGCTGACAACCGtGAGACTCCGCGTTGCACATCCAACG...             0   \n",
       "13015  CCCGCAATGGCTGACAACCGtGAAGAGCATTAAAATGAGCATCGAC...             0   \n",
       "13016  CCCGCAATGGCTGACAACCGtCGACGGAGAGTCTGAGGGTTAAGCA...             0   \n",
       "13017  CCCGCAATGGCTGACAACCGtCAGAAAGTCCAAAGTCGGATGACTG...             0   \n",
       "\n",
       "      r_t_RNA target_site  \n",
       "0           0          14  \n",
       "1           0          16  \n",
       "2           0          14  \n",
       "3           0          14  \n",
       "4           0          16  \n",
       "...       ...         ...  \n",
       "13013       0          14  \n",
       "13014       0          15  \n",
       "13015       0          14  \n",
       "13016       0          14  \n",
       "13017       0          14  \n",
       "\n",
       "[13018 rows x 5 columns]"
      ]
     },
     "execution_count": 34,
     "metadata": {},
     "output_type": "execute_result"
    }
   ],
   "source": [
    "final_probe_df"
   ]
  },
  {
   "cell_type": "code",
   "execution_count": 37,
   "id": "ae30c2fa",
   "metadata": {},
   "outputs": [
    {
     "data": {
      "text/html": [
       "<div>\n",
       "<style scoped>\n",
       "    .dataframe tbody tr th:only-of-type {\n",
       "        vertical-align: middle;\n",
       "    }\n",
       "\n",
       "    .dataframe tbody tr th {\n",
       "        vertical-align: top;\n",
       "    }\n",
       "\n",
       "    .dataframe thead th {\n",
       "        text-align: right;\n",
       "    }\n",
       "</style>\n",
       "<table border=\"1\" class=\"dataframe\">\n",
       "  <thead>\n",
       "    <tr style=\"text-align: right;\">\n",
       "      <th></th>\n",
       "      <th>Name</th>\n",
       "      <th>Sequence</th>\n",
       "      <th>Library</th>\n",
       "      <th>Transcriptome</th>\n",
       "      <th>r_t_RNA</th>\n",
       "      <th>target_site</th>\n",
       "    </tr>\n",
       "  </thead>\n",
       "  <tbody>\n",
       "    <tr>\n",
       "      <th>1854</th>\n",
       "      <td>W1A03_primer_2_intID310_probe_0_loc_0_readout_...</td>\n",
       "      <td>CCCGCAATGGCTGACAACCGtGTACTCCCGCTGTTCCAAGTAATGA...</td>\n",
       "      <td>30ntIntBC</td>\n",
       "      <td>0</td>\n",
       "      <td>1</td>\n",
       "      <td>15</td>\n",
       "    </tr>\n",
       "    <tr>\n",
       "      <th>2349</th>\n",
       "      <td>W1A03_primer_2_intID392_probe_3_loc_90_readout...</td>\n",
       "      <td>CCCGCAATGGCTGACAACCGtAGGTGAGGCCAACTCACAGGGAGTG...</td>\n",
       "      <td>30ntIntBC</td>\n",
       "      <td>0</td>\n",
       "      <td>2</td>\n",
       "      <td>14</td>\n",
       "    </tr>\n",
       "    <tr>\n",
       "      <th>3808</th>\n",
       "      <td>W1A03_primer_2_intID635_probe_4_loc_120_readou...</td>\n",
       "      <td>CCCGCAATGGCTGACAACCGtACAGTGCCCTAAAGTACCGCCAAGG...</td>\n",
       "      <td>30ntIntBC</td>\n",
       "      <td>0</td>\n",
       "      <td>1</td>\n",
       "      <td>14</td>\n",
       "    </tr>\n",
       "    <tr>\n",
       "      <th>7335</th>\n",
       "      <td>W1A03_primer_2_intID1223_probe_3_loc_90_readou...</td>\n",
       "      <td>CCCGCAATGGCTGACAACCGtTATAAGCCACCAGTCTAGACCTCGT...</td>\n",
       "      <td>30ntIntBC</td>\n",
       "      <td>0</td>\n",
       "      <td>1</td>\n",
       "      <td>14</td>\n",
       "    </tr>\n",
       "    <tr>\n",
       "      <th>9831</th>\n",
       "      <td>W1A03_primer_2_intID1639_probe_3_loc_90_readou...</td>\n",
       "      <td>CCCGCAATGGCTGACAACCGtAGCCGTTCAGGTCGATGCACAGTGG...</td>\n",
       "      <td>30ntIntBC</td>\n",
       "      <td>25</td>\n",
       "      <td>0</td>\n",
       "      <td>14</td>\n",
       "    </tr>\n",
       "    <tr>\n",
       "      <th>10199</th>\n",
       "      <td>W1A03_primer_2_intID1700_probe_5_loc_150_reado...</td>\n",
       "      <td>CCCGCAATGGCTGACAACCGtCACAATCTCCCAGAGCAGGCATGAC...</td>\n",
       "      <td>30ntIntBC</td>\n",
       "      <td>14</td>\n",
       "      <td>0</td>\n",
       "      <td>14</td>\n",
       "    </tr>\n",
       "    <tr>\n",
       "      <th>11343</th>\n",
       "      <td>W1A03_primer_2_intID1891_probe_3_loc_90_readou...</td>\n",
       "      <td>CCCGCAATGGCTGACAACCGtAAACTGATAAGAACAGCGAATTACA...</td>\n",
       "      <td>30ntIntBC</td>\n",
       "      <td>22</td>\n",
       "      <td>0</td>\n",
       "      <td>14</td>\n",
       "    </tr>\n",
       "    <tr>\n",
       "      <th>11819</th>\n",
       "      <td>W1A03_primer_2_intID1970_probe_5_loc_150_reado...</td>\n",
       "      <td>CCCGCAATGGCTGACAACCGtTCTACTATAGTATCATGGCGGAGTG...</td>\n",
       "      <td>30ntIntBC</td>\n",
       "      <td>14</td>\n",
       "      <td>0</td>\n",
       "      <td>16</td>\n",
       "    </tr>\n",
       "  </tbody>\n",
       "</table>\n",
       "</div>"
      ],
      "text/plain": [
       "                                                    Name  \\\n",
       "1854   W1A03_primer_2_intID310_probe_0_loc_0_readout_...   \n",
       "2349   W1A03_primer_2_intID392_probe_3_loc_90_readout...   \n",
       "3808   W1A03_primer_2_intID635_probe_4_loc_120_readou...   \n",
       "7335   W1A03_primer_2_intID1223_probe_3_loc_90_readou...   \n",
       "9831   W1A03_primer_2_intID1639_probe_3_loc_90_readou...   \n",
       "10199  W1A03_primer_2_intID1700_probe_5_loc_150_reado...   \n",
       "11343  W1A03_primer_2_intID1891_probe_3_loc_90_readou...   \n",
       "11819  W1A03_primer_2_intID1970_probe_5_loc_150_reado...   \n",
       "\n",
       "                                                Sequence    Library  \\\n",
       "1854   CCCGCAATGGCTGACAACCGtGTACTCCCGCTGTTCCAAGTAATGA...  30ntIntBC   \n",
       "2349   CCCGCAATGGCTGACAACCGtAGGTGAGGCCAACTCACAGGGAGTG...  30ntIntBC   \n",
       "3808   CCCGCAATGGCTGACAACCGtACAGTGCCCTAAAGTACCGCCAAGG...  30ntIntBC   \n",
       "7335   CCCGCAATGGCTGACAACCGtTATAAGCCACCAGTCTAGACCTCGT...  30ntIntBC   \n",
       "9831   CCCGCAATGGCTGACAACCGtAGCCGTTCAGGTCGATGCACAGTGG...  30ntIntBC   \n",
       "10199  CCCGCAATGGCTGACAACCGtCACAATCTCCCAGAGCAGGCATGAC...  30ntIntBC   \n",
       "11343  CCCGCAATGGCTGACAACCGtAAACTGATAAGAACAGCGAATTACA...  30ntIntBC   \n",
       "11819  CCCGCAATGGCTGACAACCGtTCTACTATAGTATCATGGCGGAGTG...  30ntIntBC   \n",
       "\n",
       "       Transcriptome  r_t_RNA  target_site  \n",
       "1854               0        1           15  \n",
       "2349               0        2           14  \n",
       "3808               0        1           14  \n",
       "7335               0        1           14  \n",
       "9831              25        0           14  \n",
       "10199             14        0           14  \n",
       "11343             22        0           14  \n",
       "11819             14        0           16  "
      ]
     },
     "execution_count": 37,
     "metadata": {},
     "output_type": "execute_result"
    }
   ],
   "source": [
    "skipped_probes"
   ]
  },
  {
   "cell_type": "code",
   "execution_count": 36,
   "id": "b398cb6c",
   "metadata": {},
   "outputs": [
    {
     "data": {
      "image/png": "[encoded data removed]",
      "text/plain": [
       "<Figure size 600x450 with 1 Axes>"
      ]
     },
     "metadata": {},
     "output_type": "display_data"
    }
   ],
   "source": [
    "import matplotlib.pyplot as plt\n",
    "\n",
    "fig, ax = plt.subplots(figsize=(4,3), dpi=150)\n",
    "ax.hist(final_probe_df['Transcriptome'].values, bins=np.arange(new_count_th))\n",
    "ax.set_xlabel(f\"Transcriptome {table_keylen}-mer counts\")\n",
    "fig.savefig(os.path.join(library_folder, 'final_probe_transcriptome_counts.png'), dpi=300, transparent=True)\n",
    "plt.show()"
   ]
  },
  {
   "cell_type": "code",
   "execution_count": 32,
   "id": "ec905359",
   "metadata": {},
   "outputs": [
    {
     "data": {
      "image/png": "[encoded data removed]",
      "text/plain": [
       "<Figure size 600x450 with 1 Axes>"
      ]
     },
     "metadata": {},
     "output_type": "display_data"
    }
   ],
   "source": [
    "import matplotlib.pyplot as plt\n",
    "\n",
    "fig, ax = plt.subplots(figsize=(4,3), dpi=150)\n",
    "ax.hist(final_probe_df['target_site'].values, bins=np.arange(40))\n",
    "ax.set_xlabel(f\"target_site {table_keylen}-mer counts\")\n",
    "fig.savefig(os.path.join(library_folder, 'final_probe_target_site_counts.png'), dpi=300, transparent=True)\n",
    "plt.show()"
   ]
  },
  {
   "cell_type": "markdown",
   "id": "bf65757b",
   "metadata": {},
   "source": [
    "# save both"
   ]
  },
  {
   "cell_type": "code",
   "execution_count": 38,
   "id": "90b0e395",
   "metadata": {},
   "outputs": [
    {
     "name": "stdout",
     "output_type": "stream",
     "text": [
      "saving final probes to file: /lab/solexa_weissman/puzheng/MERFISH_Probes/PE_TS/NewTargetSites/IntBC_MERFISH_v2/2024_2_8_merged_probes.xlsx\n",
      "saving skipped probes to file: /lab/solexa_weissman/puzheng/MERFISH_Probes/PE_TS/NewTargetSites/IntBC_MERFISH_v2/2024_2_8_skipped_probes.xlsx\n"
     ]
    }
   ],
   "source": [
    "import time\n",
    "final_probe_filename = os.path.join(library_folder,\n",
    "    f\"{time.localtime().tm_year}_{time.localtime().tm_mon}_{time.localtime().tm_mday}_merged_probes.xlsx\")\n",
    "skipped_probe_filename = os.path.join(library_folder,\n",
    "    f\"{time.localtime().tm_year}_{time.localtime().tm_mon}_{time.localtime().tm_mday}_skipped_probes.xlsx\")\n",
    "# save\n",
    "print(f\"saving final probes to file: {final_probe_filename}\")\n",
    "final_probe_df.to_excel(final_probe_filename, index=None)\n",
    "print(f\"saving skipped probes to file: {skipped_probe_filename}\")\n",
    "skipped_probes.to_excel(skipped_probe_filename, index=None)"
   ]
  },
  {
   "cell_type": "code",
   "execution_count": 39,
   "id": "319b7225",
   "metadata": {},
   "outputs": [
    {
     "name": "stdout",
     "output_type": "stream",
     "text": [
      "saving twist probes to file: /lab/solexa_weissman/puzheng/MERFISH_Probes/PE_TS/NewTargetSites/IntBC_MERFISH_v2/2024_2_8_twist_merged_probes.xlsx\n"
     ]
    }
   ],
   "source": [
    "# save twist version:\n",
    "twist_final_probes = pd.DataFrame(\n",
    "    {\n",
    "        \"name\": final_probe_df['Name'].values,\n",
    "        \"sequence\": final_probe_df['Sequence'].values,\n",
    "    }\n",
    ")\n",
    "twist_probe_filename = os.path.join(library_folder,\n",
    "    f\"{time.localtime().tm_year}_{time.localtime().tm_mon}_{time.localtime().tm_mday}_twist_merged_probes.xlsx\")\n",
    "print(f\"saving twist probes to file: {twist_probe_filename}\")\n",
    "twist_final_probes.to_excel(twist_probe_filename, index=None)"
   ]
  },
  {
   "cell_type": "code",
   "execution_count": 40,
   "id": "550e1a34",
   "metadata": {},
   "outputs": [
    {
     "data": {
      "text/html": [
       "<div>\n",
       "<style scoped>\n",
       "    .dataframe tbody tr th:only-of-type {\n",
       "        vertical-align: middle;\n",
       "    }\n",
       "\n",
       "    .dataframe tbody tr th {\n",
       "        vertical-align: top;\n",
       "    }\n",
       "\n",
       "    .dataframe thead th {\n",
       "        text-align: right;\n",
       "    }\n",
       "</style>\n",
       "<table border=\"1\" class=\"dataframe\">\n",
       "  <thead>\n",
       "    <tr style=\"text-align: right;\">\n",
       "      <th></th>\n",
       "      <th>Name</th>\n",
       "      <th>Sequence</th>\n",
       "      <th>Transcriptome</th>\n",
       "      <th>r_t_RNA</th>\n",
       "      <th>target_site</th>\n",
       "    </tr>\n",
       "  </thead>\n",
       "  <tbody>\n",
       "    <tr>\n",
       "      <th>0</th>\n",
       "      <td>Library_30ntIntBC_fwd_W1A03_primer_2_intID1_pr...</td>\n",
       "      <td>CCCGCAATGGCTGACAACCGtTTACGTCGTGGTTGGGCCCTCACAA...</td>\n",
       "      <td>0</td>\n",
       "      <td>0</td>\n",
       "      <td>14</td>\n",
       "    </tr>\n",
       "    <tr>\n",
       "      <th>1</th>\n",
       "      <td>Library_30ntIntBC_fwd_W1A03_primer_2_intID1_pr...</td>\n",
       "      <td>CCCGCAATGGCTGACAACCGtATTTACGACTGAACGCAGCAACAAT...</td>\n",
       "      <td>0</td>\n",
       "      <td>0</td>\n",
       "      <td>16</td>\n",
       "    </tr>\n",
       "    <tr>\n",
       "      <th>2</th>\n",
       "      <td>Library_30ntIntBC_fwd_W1A03_primer_2_intID1_pr...</td>\n",
       "      <td>CCCGCAATGGCTGACAACCGtGTGCGCCACAGATATAGGGCGAATC...</td>\n",
       "      <td>0</td>\n",
       "      <td>0</td>\n",
       "      <td>14</td>\n",
       "    </tr>\n",
       "    <tr>\n",
       "      <th>3</th>\n",
       "      <td>Library_30ntIntBC_fwd_W1A03_primer_2_intID1_pr...</td>\n",
       "      <td>CCCGCAATGGCTGACAACCGtTAATACGGAGGAATTACAGCTTCAA...</td>\n",
       "      <td>0</td>\n",
       "      <td>0</td>\n",
       "      <td>14</td>\n",
       "    </tr>\n",
       "    <tr>\n",
       "      <th>4</th>\n",
       "      <td>Library_30ntIntBC_fwd_W1A03_primer_2_intID1_pr...</td>\n",
       "      <td>CCCGCAATGGCTGACAACCGtAGACAGGGCGGCTACCTCAAGTAAC...</td>\n",
       "      <td>0</td>\n",
       "      <td>0</td>\n",
       "      <td>16</td>\n",
       "    </tr>\n",
       "    <tr>\n",
       "      <th>...</th>\n",
       "      <td>...</td>\n",
       "      <td>...</td>\n",
       "      <td>...</td>\n",
       "      <td>...</td>\n",
       "      <td>...</td>\n",
       "    </tr>\n",
       "    <tr>\n",
       "      <th>13013</th>\n",
       "      <td>Library_30ntIntBC_fwd_W1A03_primer_2_intID2171...</td>\n",
       "      <td>CCCGCAATGGCTGACAACCGtGCTCAGGACTCCGATGAGATGACCC...</td>\n",
       "      <td>1</td>\n",
       "      <td>0</td>\n",
       "      <td>14</td>\n",
       "    </tr>\n",
       "    <tr>\n",
       "      <th>13014</th>\n",
       "      <td>Library_30ntIntBC_fwd_W1A03_primer_2_intID2171...</td>\n",
       "      <td>CCCGCAATGGCTGACAACCGtGAGACTCCGCGTTGCACATCCAACG...</td>\n",
       "      <td>0</td>\n",
       "      <td>0</td>\n",
       "      <td>15</td>\n",
       "    </tr>\n",
       "    <tr>\n",
       "      <th>13015</th>\n",
       "      <td>Library_30ntIntBC_fwd_W1A03_primer_2_intID2171...</td>\n",
       "      <td>CCCGCAATGGCTGACAACCGtGAAGAGCATTAAAATGAGCATCGAC...</td>\n",
       "      <td>0</td>\n",
       "      <td>0</td>\n",
       "      <td>14</td>\n",
       "    </tr>\n",
       "    <tr>\n",
       "      <th>13016</th>\n",
       "      <td>Library_30ntIntBC_fwd_W1A03_primer_2_intID2171...</td>\n",
       "      <td>CCCGCAATGGCTGACAACCGtCGACGGAGAGTCTGAGGGTTAAGCA...</td>\n",
       "      <td>0</td>\n",
       "      <td>0</td>\n",
       "      <td>14</td>\n",
       "    </tr>\n",
       "    <tr>\n",
       "      <th>13017</th>\n",
       "      <td>Library_30ntIntBC_fwd_W1A03_primer_2_intID2171...</td>\n",
       "      <td>CCCGCAATGGCTGACAACCGtCAGAAAGTCCAAAGTCGGATGACTG...</td>\n",
       "      <td>0</td>\n",
       "      <td>0</td>\n",
       "      <td>14</td>\n",
       "    </tr>\n",
       "  </tbody>\n",
       "</table>\n",
       "<p>13018 rows × 5 columns</p>\n",
       "</div>"
      ],
      "text/plain": [
       "                                                    Name  \\\n",
       "0      Library_30ntIntBC_fwd_W1A03_primer_2_intID1_pr...   \n",
       "1      Library_30ntIntBC_fwd_W1A03_primer_2_intID1_pr...   \n",
       "2      Library_30ntIntBC_fwd_W1A03_primer_2_intID1_pr...   \n",
       "3      Library_30ntIntBC_fwd_W1A03_primer_2_intID1_pr...   \n",
       "4      Library_30ntIntBC_fwd_W1A03_primer_2_intID1_pr...   \n",
       "...                                                  ...   \n",
       "13013  Library_30ntIntBC_fwd_W1A03_primer_2_intID2171...   \n",
       "13014  Library_30ntIntBC_fwd_W1A03_primer_2_intID2171...   \n",
       "13015  Library_30ntIntBC_fwd_W1A03_primer_2_intID2171...   \n",
       "13016  Library_30ntIntBC_fwd_W1A03_primer_2_intID2171...   \n",
       "13017  Library_30ntIntBC_fwd_W1A03_primer_2_intID2171...   \n",
       "\n",
       "                                                Sequence Transcriptome  \\\n",
       "0      CCCGCAATGGCTGACAACCGtTTACGTCGTGGTTGGGCCCTCACAA...             0   \n",
       "1      CCCGCAATGGCTGACAACCGtATTTACGACTGAACGCAGCAACAAT...             0   \n",
       "2      CCCGCAATGGCTGACAACCGtGTGCGCCACAGATATAGGGCGAATC...             0   \n",
       "3      CCCGCAATGGCTGACAACCGtTAATACGGAGGAATTACAGCTTCAA...             0   \n",
       "4      CCCGCAATGGCTGACAACCGtAGACAGGGCGGCTACCTCAAGTAAC...             0   \n",
       "...                                                  ...           ...   \n",
       "13013  CCCGCAATGGCTGACAACCGtGCTCAGGACTCCGATGAGATGACCC...             1   \n",
       "13014  CCCGCAATGGCTGACAACCGtGAGACTCCGCGTTGCACATCCAACG...             0   \n",
       "13015  CCCGCAATGGCTGACAACCGtGAAGAGCATTAAAATGAGCATCGAC...             0   \n",
       "13016  CCCGCAATGGCTGACAACCGtCGACGGAGAGTCTGAGGGTTAAGCA...             0   \n",
       "13017  CCCGCAATGGCTGACAACCGtCAGAAAGTCCAAAGTCGGATGACTG...             0   \n",
       "\n",
       "      r_t_RNA target_site  \n",
       "0           0          14  \n",
       "1           0          16  \n",
       "2           0          14  \n",
       "3           0          14  \n",
       "4           0          16  \n",
       "...       ...         ...  \n",
       "13013       0          14  \n",
       "13014       0          15  \n",
       "13015       0          14  \n",
       "13016       0          14  \n",
       "13017       0          14  \n",
       "\n",
       "[13018 rows x 5 columns]"
      ]
     },
     "execution_count": 40,
     "metadata": {},
     "output_type": "execute_result"
    }
   ],
   "source": [
    "final_probe_df"
   ]
  },
  {
   "cell_type": "code",
   "execution_count": 41,
   "id": "86787188",
   "metadata": {},
   "outputs": [],
   "source": [
    "## save primers\n",
    "fwd_primer_names, rev_primer_names = [],[]\n",
    "\n",
    "for _n in final_probe_df['Name']:\n",
    "    fwd_primer_names.append(_n.split('fwd_')[1].split('_intID')[0])\n",
    "    rev_primer_names.append('W1'+_n.split('_W1')[-1])\n",
    "fwd_primer_names = np.unique(fwd_primer_names)\n",
    "rev_primer_names = np.unique(rev_primer_names)"
   ]
  },
  {
   "cell_type": "code",
   "execution_count": 42,
   "id": "c81df9be",
   "metadata": {},
   "outputs": [],
   "source": [
    "from ChromAn.src.library_tools.primers import load_fasta_to_DataFrame\n",
    "primer_folder = r'/lab/solexa_weissman/puzheng/References/Primers'\n",
    "\n",
    "# fwd\n",
    "forward_primers = load_fasta_to_DataFrame(os.path.join(primer_folder, 'forward_primers_keep.fasta'))\n",
    "reverse_primers = load_fasta_to_DataFrame(os.path.join(primer_folder, 'reverse_primers_keep.fasta'))"
   ]
  },
  {
   "cell_type": "code",
   "execution_count": 43,
   "id": "91e626e9",
   "metadata": {},
   "outputs": [],
   "source": [
    "used_fwd_primers = pd.DataFrame([_row for _i, _row in forward_primers.iterrows() if _row['Name'] in fwd_primer_names])"
   ]
  },
  {
   "cell_type": "code",
   "execution_count": 44,
   "id": "67b3521f",
   "metadata": {},
   "outputs": [],
   "source": [
    "used_rev_primers = pd.DataFrame([_row for _i, _row in reverse_primers.iterrows() if _row['Name'] in rev_primer_names])"
   ]
  },
  {
   "cell_type": "code",
   "execution_count": 45,
   "id": "28b1c9ec",
   "metadata": {},
   "outputs": [
    {
     "name": "stdout",
     "output_type": "stream",
     "text": [
      "/lab/solexa_weissman/puzheng/MERFISH_Probes/PE_TS/NewTargetSites/IntBC_MERFISH_v2/2024_2_8_primers.xlsx\n"
     ]
    }
   ],
   "source": [
    "primers = pd.concat([used_fwd_primers, used_rev_primers])\n",
    "primers['Scale'] = '25nm'\n",
    "primers['Purification'] = 'STD'\n",
    "# save\n",
    "\n",
    "primer_filename = os.path.join(library_folder, \n",
    "                               f\"{time.localtime().tm_year}_{time.localtime().tm_mon}_{time.localtime().tm_mday}_primers.xlsx\")\n",
    "print(primer_filename)\n",
    "primers.to_excel(primer_filename, index=None)"
   ]
  },
  {
   "cell_type": "code",
   "execution_count": 46,
   "id": "1869a07d",
   "metadata": {},
   "outputs": [
    {
     "data": {
      "text/html": [
       "<div>\n",
       "<style scoped>\n",
       "    .dataframe tbody tr th:only-of-type {\n",
       "        vertical-align: middle;\n",
       "    }\n",
       "\n",
       "    .dataframe tbody tr th {\n",
       "        vertical-align: top;\n",
       "    }\n",
       "\n",
       "    .dataframe thead th {\n",
       "        text-align: right;\n",
       "    }\n",
       "</style>\n",
       "<table border=\"1\" class=\"dataframe\">\n",
       "  <thead>\n",
       "    <tr style=\"text-align: right;\">\n",
       "      <th></th>\n",
       "      <th>Name</th>\n",
       "      <th>Sequence</th>\n",
       "      <th>Scale</th>\n",
       "      <th>Purification</th>\n",
       "    </tr>\n",
       "  </thead>\n",
       "  <tbody>\n",
       "    <tr>\n",
       "      <th>1</th>\n",
       "      <td>W1A03_primer_2</td>\n",
       "      <td>CCCGCAATGGCTGACAACCG</td>\n",
       "      <td>25nm</td>\n",
       "      <td>STD</td>\n",
       "    </tr>\n",
       "    <tr>\n",
       "      <th>4</th>\n",
       "      <td>W1A10_primer_9</td>\n",
       "      <td>TAATACGACTCACTATAGGGATTGCCGCATGGTTTCCG</td>\n",
       "      <td>25nm</td>\n",
       "      <td>STD</td>\n",
       "    </tr>\n",
       "  </tbody>\n",
       "</table>\n",
       "</div>"
      ],
      "text/plain": [
       "             Name                                Sequence Scale Purification\n",
       "1  W1A03_primer_2                    CCCGCAATGGCTGACAACCG  25nm          STD\n",
       "4  W1A10_primer_9  TAATACGACTCACTATAGGGATTGCCGCATGGTTTCCG  25nm          STD"
      ]
     },
     "execution_count": 46,
     "metadata": {},
     "output_type": "execute_result"
    }
   ],
   "source": [
    "primers"
   ]
  },
  {
   "cell_type": "code",
   "execution_count": 47,
   "id": "dc68dbde",
   "metadata": {},
   "outputs": [
    {
     "data": {
      "text/html": [
       "<div>\n",
       "<style scoped>\n",
       "    .dataframe tbody tr th:only-of-type {\n",
       "        vertical-align: middle;\n",
       "    }\n",
       "\n",
       "    .dataframe tbody tr th {\n",
       "        vertical-align: top;\n",
       "    }\n",
       "\n",
       "    .dataframe thead th {\n",
       "        text-align: right;\n",
       "    }\n",
       "</style>\n",
       "<table border=\"1\" class=\"dataframe\">\n",
       "  <thead>\n",
       "    <tr style=\"text-align: right;\">\n",
       "      <th></th>\n",
       "      <th>Name</th>\n",
       "      <th>Sequence</th>\n",
       "    </tr>\n",
       "  </thead>\n",
       "  <tbody>\n",
       "    <tr>\n",
       "      <th>4</th>\n",
       "      <td>W1A10_primer_9</td>\n",
       "      <td>TAATACGACTCACTATAGGGATTGCCGCATGGTTTCCG</td>\n",
       "    </tr>\n",
       "  </tbody>\n",
       "</table>\n",
       "</div>"
      ],
      "text/plain": [
       "             Name                                Sequence\n",
       "4  W1A10_primer_9  TAATACGACTCACTATAGGGATTGCCGCATGGTTTCCG"
      ]
     },
     "execution_count": 47,
     "metadata": {},
     "output_type": "execute_result"
    }
   ],
   "source": [
    "used_rev_primers"
   ]
  },
  {
   "cell_type": "code",
   "execution_count": 49,
   "id": "4192e805",
   "metadata": {},
   "outputs": [
    {
     "data": {
      "text/plain": [
       "2169.6666666666665"
      ]
     },
     "execution_count": 49,
     "metadata": {},
     "output_type": "execute_result"
    }
   ],
   "source": [
    "len(final_probe_df) / 6"
   ]
  },
  {
   "cell_type": "code",
   "execution_count": null,
   "id": "de6c2066",
   "metadata": {},
   "outputs": [],
   "source": []
  }
 ],
 "metadata": {
  "kernelspec": {
   "display_name": "postanalysis",
   "language": "python",
   "name": "postanalysis"
  },
  "language_info": {
   "codemirror_mode": {
    "name": "ipython",
    "version": 3
   },
   "file_extension": ".py",
   "mimetype": "text/x-python",
   "name": "python",
   "nbconvert_exporter": "python",
   "pygments_lexer": "ipython3",
   "version": "3.10.12"
  }
 },
 "nbformat": 4,
 "nbformat_minor": 5
}
