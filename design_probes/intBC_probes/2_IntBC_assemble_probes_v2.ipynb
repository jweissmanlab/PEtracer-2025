{
 "cells": [
  {
   "cell_type": "code",
   "execution_count": 1,
   "id": "e9a45cac",
   "metadata": {},
   "outputs": [
    {
     "name": "stdout",
     "output_type": "stream",
     "text": [
      "1623088\n"
     ]
    }
   ],
   "source": [
    "import os,sys\n",
    "from importlib import reload\n",
    "import numpy as np\n",
    "import pandas as pd\n",
    "from tqdm.notebook import tqdm\n",
    "#import torch\n",
    "print(os.getpid())\n",
    "sys.path.append(r'/lab/weissman_imaging/puzheng/Softwares/') # parent folder of ChromAn"
   ]
  },
  {
   "cell_type": "code",
   "execution_count": 2,
   "id": "63794cc0",
   "metadata": {},
   "outputs": [
    {
     "name": "stdout",
     "output_type": "stream",
     "text": [
      "/lab/solexa_weissman/puzheng/MERFISH_Probes/PE_TS/NewTargetSites\n",
      "/lab/solexa_weissman/puzheng/MERFISH_Probes/PE_TS/NewTargetSites/IntBC_MERFISH_v2\n"
     ]
    }
   ],
   "source": [
    "pool_folder = r'/lab/solexa_weissman/puzheng/MERFISH_Probes/PE_TS/NewTargetSites'\n",
    "print(pool_folder)\n",
    "library_folder = os.path.join(pool_folder, 'IntBC_MERFISH_v2')\n",
    "print(library_folder)\n",
    "if not os.path.exists(library_folder):\n",
    "    os.makedirs(library_folder)"
   ]
  },
  {
   "cell_type": "code",
   "execution_count": 3,
   "id": "08c459a5",
   "metadata": {},
   "outputs": [
    {
     "name": "stdout",
     "output_type": "stream",
     "text": [
      "Number of unique target_sites: 2171\n"
     ]
    }
   ],
   "source": [
    "# check integration barcode designs:\n",
    "target_site_filename = os.path.join(library_folder, 'PETS_orthoSeq_targets.xlsx')\n",
    "# reload target sites:\n",
    "target_df = pd.read_excel(target_site_filename)\n",
    "# determine number\n",
    "num_unique_probes = np.sum(['_rc' not in _n for _n in target_df['name']])\n",
    "print(f\"Number of unique target_sites: {num_unique_probes}\")"
   ]
  },
  {
   "cell_type": "markdown",
   "id": "8a1ec068",
   "metadata": {},
   "source": [
    "## import codebook"
   ]
  },
  {
   "cell_type": "code",
   "execution_count": 4,
   "id": "66f0823d",
   "metadata": {},
   "outputs": [
    {
     "name": "stdout",
     "output_type": "stream",
     "text": [
      "2171\n"
     ]
    }
   ],
   "source": [
    "sel_barcode_filename = os.path.join(library_folder, 'sel_merfish_barcodes.npy')\n",
    "sel_barcodes = np.load(sel_barcode_filename)\n",
    "print(len(sel_barcodes))"
   ]
  },
  {
   "cell_type": "markdown",
   "id": "c0db6115",
   "metadata": {},
   "source": [
    "## import readouts"
   ]
  },
  {
   "cell_type": "code",
   "execution_count": 5,
   "id": "cdd3325d",
   "metadata": {},
   "outputs": [
    {
     "data": {
      "text/html": [
       "<div>\n",
       "<style scoped>\n",
       "    .dataframe tbody tr th:only-of-type {\n",
       "        vertical-align: middle;\n",
       "    }\n",
       "\n",
       "    .dataframe tbody tr th {\n",
       "        vertical-align: top;\n",
       "    }\n",
       "\n",
       "    .dataframe thead th {\n",
       "        text-align: right;\n",
       "    }\n",
       "</style>\n",
       "<table border=\"1\" class=\"dataframe\">\n",
       "  <thead>\n",
       "    <tr style=\"text-align: right;\">\n",
       "      <th></th>\n",
       "      <th>Name</th>\n",
       "      <th>Seq tail</th>\n",
       "      <th>Description</th>\n",
       "      <th>Reverse Complement</th>\n",
       "      <th>short_name</th>\n",
       "      <th>Seq_15mer_Tm45</th>\n",
       "      <th>Seq_15mer_Tm45_RC</th>\n",
       "    </tr>\n",
       "  </thead>\n",
       "  <tbody>\n",
       "    <tr>\n",
       "      <th>0</th>\n",
       "      <td>R1__NDB_784</td>\n",
       "      <td>TAGAAATATCCGAGTGGCAT</td>\n",
       "      <td>MERFISH</td>\n",
       "      <td>ATGCCACTCGGATATTTCTA</td>\n",
       "      <td>R1</td>\n",
       "      <td>AATATCCGAGTGGCA</td>\n",
       "      <td>TGCCACTCGGATATT</td>\n",
       "    </tr>\n",
       "    <tr>\n",
       "      <th>1</th>\n",
       "      <td>R2__NDB_755</td>\n",
       "      <td>TGCGACATGTTATGCTAGGC</td>\n",
       "      <td>MERFISH</td>\n",
       "      <td>GCCTAGCATAACATGTCGCA</td>\n",
       "      <td>R2</td>\n",
       "      <td>TGCGACATGTTATGC</td>\n",
       "      <td>GCATAACATGTCGCA</td>\n",
       "    </tr>\n",
       "    <tr>\n",
       "      <th>2</th>\n",
       "      <td>R3__NDB_759</td>\n",
       "      <td>TGACTGTCGTTGACTCTCGG</td>\n",
       "      <td>MERFISH</td>\n",
       "      <td>CCGAGAGTCAACGACAGTCA</td>\n",
       "      <td>R3</td>\n",
       "      <td>TGTCGTTGACTCTCG</td>\n",
       "      <td>CGAGAGTCAACGACA</td>\n",
       "    </tr>\n",
       "    <tr>\n",
       "      <th>3</th>\n",
       "      <td>R4__NDB_826</td>\n",
       "      <td>ATATGTCGATGTCCTTAGAC</td>\n",
       "      <td>MERFISH</td>\n",
       "      <td>GTCTAAGGACATCGACATAT</td>\n",
       "      <td>R4</td>\n",
       "      <td>TGTCGATGTCCTTAG</td>\n",
       "      <td>CTAAGGACATCGACA</td>\n",
       "    </tr>\n",
       "    <tr>\n",
       "      <th>4</th>\n",
       "      <td>R5__NDB_578</td>\n",
       "      <td>AGGCGATACATGAGAGGCGT</td>\n",
       "      <td>MERFISH</td>\n",
       "      <td>ACGCCTCTCATGTATCGCCT</td>\n",
       "      <td>R5</td>\n",
       "      <td>AGGCGATACATGAGA</td>\n",
       "      <td>TCTCATGTATCGCCT</td>\n",
       "    </tr>\n",
       "    <tr>\n",
       "      <th>...</th>\n",
       "      <td>...</td>\n",
       "      <td>...</td>\n",
       "      <td>...</td>\n",
       "      <td>...</td>\n",
       "      <td>...</td>\n",
       "      <td>...</td>\n",
       "      <td>...</td>\n",
       "    </tr>\n",
       "    <tr>\n",
       "      <th>189</th>\n",
       "      <td>R190__NDB_941</td>\n",
       "      <td>GCAATAGCGGCACCTTTCAC</td>\n",
       "      <td>Extra</td>\n",
       "      <td>GTGAAAGGTGCCGCTATTGC</td>\n",
       "      <td>R190</td>\n",
       "      <td>AATAGCGGCACCTTT</td>\n",
       "      <td>AAAGGTGCCGCTATT</td>\n",
       "    </tr>\n",
       "    <tr>\n",
       "      <th>190</th>\n",
       "      <td>R191__NDB_846</td>\n",
       "      <td>GGCTATTAGTCGGTCTGATA</td>\n",
       "      <td>Extra</td>\n",
       "      <td>TATCAGACCGACTAATAGCC</td>\n",
       "      <td>R191</td>\n",
       "      <td>GGCTATTAGTCGGTC</td>\n",
       "      <td>GACCGACTAATAGCC</td>\n",
       "    </tr>\n",
       "    <tr>\n",
       "      <th>191</th>\n",
       "      <td>R192__NDB_775</td>\n",
       "      <td>GTTACTCGACCCGCGTGCAA</td>\n",
       "      <td>Extra</td>\n",
       "      <td>TTGCACGCGGGTCGAGTAAC</td>\n",
       "      <td>R192</td>\n",
       "      <td>GTTACTCGACCCGCG</td>\n",
       "      <td>CGCGGGTCGAGTAAC</td>\n",
       "    </tr>\n",
       "    <tr>\n",
       "      <th>192</th>\n",
       "      <td>R193__NDB_439</td>\n",
       "      <td>TCTCGTAGAGATCCTCACCG</td>\n",
       "      <td>Extra</td>\n",
       "      <td>CGGTGAGGATCTCTACGAGA</td>\n",
       "      <td>R193</td>\n",
       "      <td>CGTAGAGATCCTCAC</td>\n",
       "      <td>GTGAGGATCTCTACG</td>\n",
       "    </tr>\n",
       "    <tr>\n",
       "      <th>193</th>\n",
       "      <td>R194__NDB_452</td>\n",
       "      <td>GTTAACTCCTGCGATCGGCT</td>\n",
       "      <td>Extra</td>\n",
       "      <td>AGCCGATCGCAGGAGTTAAC</td>\n",
       "      <td>R194</td>\n",
       "      <td>TAACTCCTGCGATCG</td>\n",
       "      <td>CGATCGCAGGAGTTA</td>\n",
       "    </tr>\n",
       "  </tbody>\n",
       "</table>\n",
       "<p>194 rows × 7 columns</p>\n",
       "</div>"
      ],
      "text/plain": [
       "              Name              Seq tail Description    Reverse Complement  \\\n",
       "0      R1__NDB_784  TAGAAATATCCGAGTGGCAT     MERFISH  ATGCCACTCGGATATTTCTA   \n",
       "1      R2__NDB_755  TGCGACATGTTATGCTAGGC     MERFISH  GCCTAGCATAACATGTCGCA   \n",
       "2      R3__NDB_759  TGACTGTCGTTGACTCTCGG     MERFISH  CCGAGAGTCAACGACAGTCA   \n",
       "3      R4__NDB_826  ATATGTCGATGTCCTTAGAC     MERFISH  GTCTAAGGACATCGACATAT   \n",
       "4      R5__NDB_578  AGGCGATACATGAGAGGCGT     MERFISH  ACGCCTCTCATGTATCGCCT   \n",
       "..             ...                   ...         ...                   ...   \n",
       "189  R190__NDB_941  GCAATAGCGGCACCTTTCAC       Extra  GTGAAAGGTGCCGCTATTGC   \n",
       "190  R191__NDB_846  GGCTATTAGTCGGTCTGATA       Extra  TATCAGACCGACTAATAGCC   \n",
       "191  R192__NDB_775  GTTACTCGACCCGCGTGCAA       Extra  TTGCACGCGGGTCGAGTAAC   \n",
       "192  R193__NDB_439  TCTCGTAGAGATCCTCACCG       Extra  CGGTGAGGATCTCTACGAGA   \n",
       "193  R194__NDB_452  GTTAACTCCTGCGATCGGCT       Extra  AGCCGATCGCAGGAGTTAAC   \n",
       "\n",
       "    short_name   Seq_15mer_Tm45 Seq_15mer_Tm45_RC  \n",
       "0           R1  AATATCCGAGTGGCA   TGCCACTCGGATATT  \n",
       "1           R2  TGCGACATGTTATGC   GCATAACATGTCGCA  \n",
       "2           R3  TGTCGTTGACTCTCG   CGAGAGTCAACGACA  \n",
       "3           R4  TGTCGATGTCCTTAG   CTAAGGACATCGACA  \n",
       "4           R5  AGGCGATACATGAGA   TCTCATGTATCGCCT  \n",
       "..         ...              ...               ...  \n",
       "189       R190  AATAGCGGCACCTTT   AAAGGTGCCGCTATT  \n",
       "190       R191  GGCTATTAGTCGGTC   GACCGACTAATAGCC  \n",
       "191       R192  GTTACTCGACCCGCG   CGCGGGTCGAGTAAC  \n",
       "192       R193  CGTAGAGATCCTCAC   GTGAGGATCTCTACG  \n",
       "193       R194  TAACTCCTGCGATCG   CGATCGCAGGAGTTA  \n",
       "\n",
       "[194 rows x 7 columns]"
      ]
     },
     "execution_count": 5,
     "metadata": {},
     "output_type": "execute_result"
    }
   ],
   "source": [
    "readout_folder = r'/lab/solexa_weissman/puzheng/References/Readouts'\n",
    "readout_filename = os.path.join(readout_folder, 'perturbfish_bits_4base_extended.csv')\n",
    "readout_df = pd.read_csv(readout_filename)\n",
    "readout_df"
   ]
  },
  {
   "cell_type": "code",
   "execution_count": 6,
   "id": "f3f15498",
   "metadata": {
    "scrolled": true
   },
   "outputs": [
    {
     "data": {
      "text/html": [
       "<div>\n",
       "<style scoped>\n",
       "    .dataframe tbody tr th:only-of-type {\n",
       "        vertical-align: middle;\n",
       "    }\n",
       "\n",
       "    .dataframe tbody tr th {\n",
       "        vertical-align: top;\n",
       "    }\n",
       "\n",
       "    .dataframe thead th {\n",
       "        text-align: right;\n",
       "    }\n",
       "</style>\n",
       "<table border=\"1\" class=\"dataframe\">\n",
       "  <thead>\n",
       "    <tr style=\"text-align: right;\">\n",
       "      <th></th>\n",
       "      <th>Name</th>\n",
       "      <th>Sequence</th>\n",
       "    </tr>\n",
       "  </thead>\n",
       "  <tbody>\n",
       "    <tr>\n",
       "      <th>0</th>\n",
       "      <td>R1__NDB_784</td>\n",
       "      <td>TAGAAATATCCGAGTGGCAT</td>\n",
       "    </tr>\n",
       "    <tr>\n",
       "      <th>1</th>\n",
       "      <td>R2__NDB_755</td>\n",
       "      <td>TGCGACATGTTATGCTAGGC</td>\n",
       "    </tr>\n",
       "    <tr>\n",
       "      <th>2</th>\n",
       "      <td>R3__NDB_759</td>\n",
       "      <td>TGACTGTCGTTGACTCTCGG</td>\n",
       "    </tr>\n",
       "    <tr>\n",
       "      <th>3</th>\n",
       "      <td>R4__NDB_826</td>\n",
       "      <td>ATATGTCGATGTCCTTAGAC</td>\n",
       "    </tr>\n",
       "    <tr>\n",
       "      <th>4</th>\n",
       "      <td>R5__NDB_578</td>\n",
       "      <td>AGGCGATACATGAGAGGCGT</td>\n",
       "    </tr>\n",
       "    <tr>\n",
       "      <th>5</th>\n",
       "      <td>R6__NDB_795</td>\n",
       "      <td>GGGCGTCTGTTACACGTTTG</td>\n",
       "    </tr>\n",
       "    <tr>\n",
       "      <th>6</th>\n",
       "      <td>R7__NDB_376</td>\n",
       "      <td>GACTTTGTGGGTACGTTGAT</td>\n",
       "    </tr>\n",
       "    <tr>\n",
       "      <th>7</th>\n",
       "      <td>R8__NDB_713</td>\n",
       "      <td>GGTGGTTGTCACTTTCCGAA</td>\n",
       "    </tr>\n",
       "    <tr>\n",
       "      <th>8</th>\n",
       "      <td>R9__NDB_777</td>\n",
       "      <td>CGGCGAATTTGCTTTCGTTA</td>\n",
       "    </tr>\n",
       "    <tr>\n",
       "      <th>9</th>\n",
       "      <td>R10__NDB_865</td>\n",
       "      <td>GATCCCGGTCGGATATGTGA</td>\n",
       "    </tr>\n",
       "    <tr>\n",
       "      <th>10</th>\n",
       "      <td>R11__NDB_533</td>\n",
       "      <td>GTCGGCTGCGTACTGGTACA</td>\n",
       "    </tr>\n",
       "    <tr>\n",
       "      <th>11</th>\n",
       "      <td>R12__NDB_801</td>\n",
       "      <td>GTCGGTGTCCACGATCATTG</td>\n",
       "    </tr>\n",
       "    <tr>\n",
       "      <th>12</th>\n",
       "      <td>R13__NDB_817</td>\n",
       "      <td>GAACTCGTTGACTAAGCATT</td>\n",
       "    </tr>\n",
       "    <tr>\n",
       "      <th>13</th>\n",
       "      <td>R14__NDB_725</td>\n",
       "      <td>CTACCACGGCATCGATTTAG</td>\n",
       "    </tr>\n",
       "    <tr>\n",
       "      <th>14</th>\n",
       "      <td>R15__NDB_807</td>\n",
       "      <td>CGGTATGCTGCTTCGTGAAC</td>\n",
       "    </tr>\n",
       "    <tr>\n",
       "      <th>15</th>\n",
       "      <td>R16__NDB_652</td>\n",
       "      <td>TAGGCGCTTTAGTAGGTACC</td>\n",
       "    </tr>\n",
       "    <tr>\n",
       "      <th>16</th>\n",
       "      <td>R17__NDB_710</td>\n",
       "      <td>TCAACTACTAAGCCGCGGTA</td>\n",
       "    </tr>\n",
       "    <tr>\n",
       "      <th>17</th>\n",
       "      <td>R18__NDB_690</td>\n",
       "      <td>GAACGGCCTCATAAATCGGT</td>\n",
       "    </tr>\n",
       "    <tr>\n",
       "      <th>18</th>\n",
       "      <td>R19__NDB_718</td>\n",
       "      <td>CGTATTGCAGGATCCTTATG</td>\n",
       "    </tr>\n",
       "    <tr>\n",
       "      <th>19</th>\n",
       "      <td>R20__NDB_971</td>\n",
       "      <td>CTTATCGCAAGGTGGCCTTA</td>\n",
       "    </tr>\n",
       "    <tr>\n",
       "      <th>20</th>\n",
       "      <td>R21__NDB_699</td>\n",
       "      <td>ATCGACCCTTTATAGCGTGT</td>\n",
       "    </tr>\n",
       "    <tr>\n",
       "      <th>21</th>\n",
       "      <td>R22__NDB_847</td>\n",
       "      <td>GGTCACGTACGAGACATTGG</td>\n",
       "    </tr>\n",
       "    <tr>\n",
       "      <th>22</th>\n",
       "      <td>R23__NDB_743</td>\n",
       "      <td>CGATCAAGGTGTGCCGCGTC</td>\n",
       "    </tr>\n",
       "    <tr>\n",
       "      <th>23</th>\n",
       "      <td>R24__NDB_936</td>\n",
       "      <td>GTGGTACCGTGGAACGCAAC</td>\n",
       "    </tr>\n",
       "  </tbody>\n",
       "</table>\n",
       "</div>"
      ],
      "text/plain": [
       "            Name              Sequence\n",
       "0    R1__NDB_784  TAGAAATATCCGAGTGGCAT\n",
       "1    R2__NDB_755  TGCGACATGTTATGCTAGGC\n",
       "2    R3__NDB_759  TGACTGTCGTTGACTCTCGG\n",
       "3    R4__NDB_826  ATATGTCGATGTCCTTAGAC\n",
       "4    R5__NDB_578  AGGCGATACATGAGAGGCGT\n",
       "5    R6__NDB_795  GGGCGTCTGTTACACGTTTG\n",
       "6    R7__NDB_376  GACTTTGTGGGTACGTTGAT\n",
       "7    R8__NDB_713  GGTGGTTGTCACTTTCCGAA\n",
       "8    R9__NDB_777  CGGCGAATTTGCTTTCGTTA\n",
       "9   R10__NDB_865  GATCCCGGTCGGATATGTGA\n",
       "10  R11__NDB_533  GTCGGCTGCGTACTGGTACA\n",
       "11  R12__NDB_801  GTCGGTGTCCACGATCATTG\n",
       "12  R13__NDB_817  GAACTCGTTGACTAAGCATT\n",
       "13  R14__NDB_725  CTACCACGGCATCGATTTAG\n",
       "14  R15__NDB_807  CGGTATGCTGCTTCGTGAAC\n",
       "15  R16__NDB_652  TAGGCGCTTTAGTAGGTACC\n",
       "16  R17__NDB_710  TCAACTACTAAGCCGCGGTA\n",
       "17  R18__NDB_690  GAACGGCCTCATAAATCGGT\n",
       "18  R19__NDB_718  CGTATTGCAGGATCCTTATG\n",
       "19  R20__NDB_971  CTTATCGCAAGGTGGCCTTA\n",
       "20  R21__NDB_699  ATCGACCCTTTATAGCGTGT\n",
       "21  R22__NDB_847  GGTCACGTACGAGACATTGG\n",
       "22  R23__NDB_743  CGATCAAGGTGTGCCGCGTC\n",
       "23  R24__NDB_936  GTGGTACCGTGGAACGCAAC"
      ]
     },
     "execution_count": 6,
     "metadata": {},
     "output_type": "execute_result"
    }
   ],
   "source": [
    "# select readouts\n",
    "sel_readouts = pd.DataFrame({'Name':readout_df['Name'].values[0:24], 'Sequence':readout_df['Seq tail'][0:24].values})\n",
    "sel_readouts # these are the sequences in the probes"
   ]
  },
  {
   "cell_type": "markdown",
   "id": "9495d69d",
   "metadata": {},
   "source": [
    "## import primers"
   ]
  },
  {
   "cell_type": "code",
   "execution_count": 7,
   "id": "c6ce0403",
   "metadata": {},
   "outputs": [],
   "source": [
    "from ChromAn.src.library_tools.primers import load_fasta_to_DataFrame\n",
    "import ChromAn\n",
    "from Bio.SeqIO.FastaIO import SimpleFastaParser"
   ]
  },
  {
   "cell_type": "code",
   "execution_count": 8,
   "id": "80b8b505",
   "metadata": {},
   "outputs": [
    {
     "data": {
      "text/plain": [
       "<module 'ChromAn.src.library_tools.primers' from '/lab/weissman_imaging/puzheng/Softwares/ChromAn/src/library_tools/primers.py'>"
      ]
     },
     "execution_count": 8,
     "metadata": {},
     "output_type": "execute_result"
    }
   ],
   "source": [
    "reload(ChromAn.src.library_tools.primers)"
   ]
  },
  {
   "cell_type": "code",
   "execution_count": 9,
   "id": "ed1beb0a",
   "metadata": {},
   "outputs": [],
   "source": [
    "primer_folder = r'/lab/solexa_weissman/puzheng/References/Primers'\n",
    "# fwd\n",
    "forward_primers = load_fasta_to_DataFrame(os.path.join(primer_folder, 'forward_primers_keep.fasta'))\n",
    "reverse_primers = load_fasta_to_DataFrame(os.path.join(primer_folder, 'reverse_primers_keep.fasta'))"
   ]
  },
  {
   "cell_type": "code",
   "execution_count": 10,
   "id": "7c740618",
   "metadata": {},
   "outputs": [
    {
     "data": {
      "text/html": [
       "<div>\n",
       "<style scoped>\n",
       "    .dataframe tbody tr th:only-of-type {\n",
       "        vertical-align: middle;\n",
       "    }\n",
       "\n",
       "    .dataframe tbody tr th {\n",
       "        vertical-align: top;\n",
       "    }\n",
       "\n",
       "    .dataframe thead th {\n",
       "        text-align: right;\n",
       "    }\n",
       "</style>\n",
       "<table border=\"1\" class=\"dataframe\">\n",
       "  <thead>\n",
       "    <tr style=\"text-align: right;\">\n",
       "      <th></th>\n",
       "      <th>Name</th>\n",
       "      <th>Sequence</th>\n",
       "    </tr>\n",
       "  </thead>\n",
       "  <tbody>\n",
       "    <tr>\n",
       "      <th>0</th>\n",
       "      <td>W1A01_primer_0</td>\n",
       "      <td>CGGCTCGCAGCGTGTAAACG</td>\n",
       "    </tr>\n",
       "    <tr>\n",
       "      <th>1</th>\n",
       "      <td>W1A03_primer_2</td>\n",
       "      <td>CCCGCAATGGCTGACAACCG</td>\n",
       "    </tr>\n",
       "    <tr>\n",
       "      <th>2</th>\n",
       "      <td>W1A05_primer_4</td>\n",
       "      <td>CATTCAGCATTGCGCAACGG</td>\n",
       "    </tr>\n",
       "    <tr>\n",
       "      <th>3</th>\n",
       "      <td>W1A07_primer_6</td>\n",
       "      <td>CGCAAACTGGTGCGGAAGGC</td>\n",
       "    </tr>\n",
       "    <tr>\n",
       "      <th>4</th>\n",
       "      <td>W1A09_primer_8</td>\n",
       "      <td>TTGTTGAGGCGGCGGAAGTC</td>\n",
       "    </tr>\n",
       "    <tr>\n",
       "      <th>5</th>\n",
       "      <td>W1A11_primer_10</td>\n",
       "      <td>TTGCTAGCGTGGGCCAATCG</td>\n",
       "    </tr>\n",
       "    <tr>\n",
       "      <th>6</th>\n",
       "      <td>W1B01_primer_12</td>\n",
       "      <td>TTGGGCGTGCACGTCAATTC</td>\n",
       "    </tr>\n",
       "    <tr>\n",
       "      <th>7</th>\n",
       "      <td>W1B03_primer_14</td>\n",
       "      <td>GACATCCAGGCGCGGACAAC</td>\n",
       "    </tr>\n",
       "    <tr>\n",
       "      <th>8</th>\n",
       "      <td>W1B05_primer_16</td>\n",
       "      <td>CGGGTTTCGTTGCGCACACC</td>\n",
       "    </tr>\n",
       "    <tr>\n",
       "      <th>9</th>\n",
       "      <td>W1B07_primer_18</td>\n",
       "      <td>CACGTGGCCTCTCGCACATC</td>\n",
       "    </tr>\n",
       "    <tr>\n",
       "      <th>10</th>\n",
       "      <td>W1B09_primer_20</td>\n",
       "      <td>TAGGCGTGTCGGCCAACCAG</td>\n",
       "    </tr>\n",
       "    <tr>\n",
       "      <th>11</th>\n",
       "      <td>W1B11_primer_22</td>\n",
       "      <td>TTGGACCGAGCCAGTACCGC</td>\n",
       "    </tr>\n",
       "  </tbody>\n",
       "</table>\n",
       "</div>"
      ],
      "text/plain": [
       "               Name              Sequence\n",
       "0    W1A01_primer_0  CGGCTCGCAGCGTGTAAACG\n",
       "1    W1A03_primer_2  CCCGCAATGGCTGACAACCG\n",
       "2    W1A05_primer_4  CATTCAGCATTGCGCAACGG\n",
       "3    W1A07_primer_6  CGCAAACTGGTGCGGAAGGC\n",
       "4    W1A09_primer_8  TTGTTGAGGCGGCGGAAGTC\n",
       "5   W1A11_primer_10  TTGCTAGCGTGGGCCAATCG\n",
       "6   W1B01_primer_12  TTGGGCGTGCACGTCAATTC\n",
       "7   W1B03_primer_14  GACATCCAGGCGCGGACAAC\n",
       "8   W1B05_primer_16  CGGGTTTCGTTGCGCACACC\n",
       "9   W1B07_primer_18  CACGTGGCCTCTCGCACATC\n",
       "10  W1B09_primer_20  TAGGCGTGTCGGCCAACCAG\n",
       "11  W1B11_primer_22  TTGGACCGAGCCAGTACCGC"
      ]
     },
     "execution_count": 10,
     "metadata": {},
     "output_type": "execute_result"
    }
   ],
   "source": [
    "forward_primers"
   ]
  },
  {
   "cell_type": "markdown",
   "id": "ff06a010",
   "metadata": {},
   "source": [
    "## design strategy 1\n",
    "> 30nt design (6+1 non-overlapping probes)\n",
    ">> 135 246 145 236 124 356 + 123,456 compete"
   ]
  },
  {
   "cell_type": "code",
   "execution_count": 11,
   "id": "d420e855",
   "metadata": {},
   "outputs": [],
   "source": [
    "probeLoc_30ntNO_2_bits = {\n",
    "    0:[135], #start from 0, instead of 33\n",
    "    30:[246],\n",
    "    60:[145],\n",
    "    90:[236],\n",
    "    120:[124],\n",
    "    150:[356],\n",
    "    #237:[123,456], Modify: 30nt part don't design merfish\n",
    "}"
   ]
  },
  {
   "cell_type": "code",
   "execution_count": 12,
   "id": "f589f254",
   "metadata": {},
   "outputs": [
    {
     "data": {
      "application/vnd.jupyter.widget-view+json": {
       "model_id": "06bbdf0f010941ec847b71e1b2e849e2",
       "version_major": 2,
       "version_minor": 0
      },
      "text/plain": [
       "0it [00:00, ?it/s]"
      ]
     },
     "metadata": {},
     "output_type": "display_data"
    },
    {
     "data": {
      "text/html": [
       "<div>\n",
       "<style scoped>\n",
       "    .dataframe tbody tr th:only-of-type {\n",
       "        vertical-align: middle;\n",
       "    }\n",
       "\n",
       "    .dataframe tbody tr th {\n",
       "        vertical-align: top;\n",
       "    }\n",
       "\n",
       "    .dataframe thead th {\n",
       "        text-align: right;\n",
       "    }\n",
       "</style>\n",
       "<table border=\"1\" class=\"dataframe\">\n",
       "  <thead>\n",
       "    <tr style=\"text-align: right;\">\n",
       "      <th></th>\n",
       "      <th>Name</th>\n",
       "      <th>Sequence</th>\n",
       "    </tr>\n",
       "  </thead>\n",
       "  <tbody>\n",
       "    <tr>\n",
       "      <th>0</th>\n",
       "      <td>W1A03_primer_2_intID1_probe_0_loc_0_readout_R1...</td>\n",
       "      <td>CCCGCAATGGCTGACAACCGtTTACGTCGTGGTTGGGCCCTCACAA...</td>\n",
       "    </tr>\n",
       "    <tr>\n",
       "      <th>1</th>\n",
       "      <td>W1A03_primer_2_intID1_probe_1_loc_30_readout_R...</td>\n",
       "      <td>CCCGCAATGGCTGACAACCGtATTTACGACTGAACGCAGCAACAAT...</td>\n",
       "    </tr>\n",
       "    <tr>\n",
       "      <th>2</th>\n",
       "      <td>W1A03_primer_2_intID1_probe_2_loc_60_readout_R...</td>\n",
       "      <td>CCCGCAATGGCTGACAACCGtGTGCGCCACAGATATAGGGCGAATC...</td>\n",
       "    </tr>\n",
       "    <tr>\n",
       "      <th>3</th>\n",
       "      <td>W1A03_primer_2_intID1_probe_3_loc_90_readout_R...</td>\n",
       "      <td>CCCGCAATGGCTGACAACCGtTAATACGGAGGAATTACAGCTTCAA...</td>\n",
       "    </tr>\n",
       "    <tr>\n",
       "      <th>4</th>\n",
       "      <td>W1A03_primer_2_intID1_probe_4_loc_120_readout_...</td>\n",
       "      <td>CCCGCAATGGCTGACAACCGtAGACAGGGCGGCTACCTCAAGTAAC...</td>\n",
       "    </tr>\n",
       "    <tr>\n",
       "      <th>...</th>\n",
       "      <td>...</td>\n",
       "      <td>...</td>\n",
       "    </tr>\n",
       "    <tr>\n",
       "      <th>13021</th>\n",
       "      <td>W1A03_primer_2_intID2171_probe_1_loc_30_readou...</td>\n",
       "      <td>CCCGCAATGGCTGACAACCGtGCTCAGGACTCCGATGAGATGACCC...</td>\n",
       "    </tr>\n",
       "    <tr>\n",
       "      <th>13022</th>\n",
       "      <td>W1A03_primer_2_intID2171_probe_2_loc_60_readou...</td>\n",
       "      <td>CCCGCAATGGCTGACAACCGtGAGACTCCGCGTTGCACATCCAACG...</td>\n",
       "    </tr>\n",
       "    <tr>\n",
       "      <th>13023</th>\n",
       "      <td>W1A03_primer_2_intID2171_probe_3_loc_90_readou...</td>\n",
       "      <td>CCCGCAATGGCTGACAACCGtGAAGAGCATTAAAATGAGCATCGAC...</td>\n",
       "    </tr>\n",
       "    <tr>\n",
       "      <th>13024</th>\n",
       "      <td>W1A03_primer_2_intID2171_probe_4_loc_120_reado...</td>\n",
       "      <td>CCCGCAATGGCTGACAACCGtCGACGGAGAGTCTGAGGGTTAAGCA...</td>\n",
       "    </tr>\n",
       "    <tr>\n",
       "      <th>13025</th>\n",
       "      <td>W1A03_primer_2_intID2171_probe_5_loc_150_reado...</td>\n",
       "      <td>CCCGCAATGGCTGACAACCGtCAGAAAGTCCAAAGTCGGATGACTG...</td>\n",
       "    </tr>\n",
       "  </tbody>\n",
       "</table>\n",
       "<p>13026 rows × 2 columns</p>\n",
       "</div>"
      ],
      "text/plain": [
       "                                                    Name  \\\n",
       "0      W1A03_primer_2_intID1_probe_0_loc_0_readout_R1...   \n",
       "1      W1A03_primer_2_intID1_probe_1_loc_30_readout_R...   \n",
       "2      W1A03_primer_2_intID1_probe_2_loc_60_readout_R...   \n",
       "3      W1A03_primer_2_intID1_probe_3_loc_90_readout_R...   \n",
       "4      W1A03_primer_2_intID1_probe_4_loc_120_readout_...   \n",
       "...                                                  ...   \n",
       "13021  W1A03_primer_2_intID2171_probe_1_loc_30_readou...   \n",
       "13022  W1A03_primer_2_intID2171_probe_2_loc_60_readou...   \n",
       "13023  W1A03_primer_2_intID2171_probe_3_loc_90_readou...   \n",
       "13024  W1A03_primer_2_intID2171_probe_4_loc_120_reado...   \n",
       "13025  W1A03_primer_2_intID2171_probe_5_loc_150_reado...   \n",
       "\n",
       "                                                Sequence  \n",
       "0      CCCGCAATGGCTGACAACCGtTTACGTCGTGGTTGGGCCCTCACAA...  \n",
       "1      CCCGCAATGGCTGACAACCGtATTTACGACTGAACGCAGCAACAAT...  \n",
       "2      CCCGCAATGGCTGACAACCGtGTGCGCCACAGATATAGGGCGAATC...  \n",
       "3      CCCGCAATGGCTGACAACCGtTAATACGGAGGAATTACAGCTTCAA...  \n",
       "4      CCCGCAATGGCTGACAACCGtAGACAGGGCGGCTACCTCAAGTAAC...  \n",
       "...                                                  ...  \n",
       "13021  CCCGCAATGGCTGACAACCGtGCTCAGGACTCCGATGAGATGACCC...  \n",
       "13022  CCCGCAATGGCTGACAACCGtGAGACTCCGCGTTGCACATCCAACG...  \n",
       "13023  CCCGCAATGGCTGACAACCGtGAAGAGCATTAAAATGAGCATCGAC...  \n",
       "13024  CCCGCAATGGCTGACAACCGtCGACGGAGAGTCTGAGGGTTAAGCA...  \n",
       "13025  CCCGCAATGGCTGACAACCGtCAGAAAGTCCAAAGTCGGATGACTG...  \n",
       "\n",
       "[13026 rows x 2 columns]"
      ]
     },
     "execution_count": 12,
     "metadata": {},
     "output_type": "execute_result"
    }
   ],
   "source": [
    "import re\n",
    "from Bio.Seq import reverse_complement\n",
    "\n",
    "# internalize\n",
    "probeLoc_2_bits = probeLoc_30ntNO_2_bits\n",
    "\n",
    "probe_len = 30\n",
    "primer_len = 20\n",
    "\n",
    "readout_junction = 't'\n",
    "name_junction = '_'\n",
    "\n",
    "# primers\n",
    "fwd_primer = forward_primers.loc[forward_primers['Name']=='W1A03_primer_2']\n",
    "rev_primer = reverse_primers.loc[reverse_primers['Name']=='W1A10_primer_9']\n",
    "\n",
    "probe_seqs = []\n",
    "probe_names = []\n",
    "\n",
    "for _i, _row in tqdm(target_df.iterrows()):\n",
    "    if _i >= len(sel_barcodes):\n",
    "        break\n",
    "    #print(_i)\n",
    "    _intBC_name = _row['name']\n",
    "    _intBC_seq = _row['seq']\n",
    "    #_intBC_seq = ''.join(re.split('[atcg]+', _intBC_seq, )[1:-1])\n",
    "    _intBC_barcode = sel_barcodes[_i]\n",
    "    _intBC_readouts = sel_readouts.iloc[_intBC_barcode]\n",
    "    for _ip, (_loc, _bits_list) in enumerate(probeLoc_2_bits.items()):\n",
    "        \n",
    "        _targeting_region = reverse_complement(_intBC_seq[_loc:_loc+probe_len])\n",
    "        _target_name = f\"{_intBC_name}_probe_{_ip}_loc_{_loc}\"\n",
    "        #print(_loc, _targeting_region)\n",
    "        for _bits in _bits_list:\n",
    "            _bits = np.array([*str(_bits)], dtype=np.int32) - 1\n",
    "            _probe_readout_seq = readout_junction.join(list(_intBC_readouts['Sequence'].values[_bits]))\n",
    "            _probe_readout_name = 'readout' + name_junction + ','.join(list(_intBC_readouts['Name'].values[_bits]))\n",
    "            # append probe info\n",
    "            probe_seqs.append(fwd_primer['Sequence'].values[0][-primer_len:] + readout_junction \\\n",
    "                              + _targeting_region + readout_junction + _probe_readout_seq\\\n",
    "                              + readout_junction + reverse_complement(rev_primer['Sequence'].values[0][-primer_len:]) )\n",
    "            probe_names.append(fwd_primer['Name'].values[0] + name_junction \\\n",
    "                               + _target_name + name_junction \\\n",
    "                               + _probe_readout_name + name_junction + rev_primer['Name'].values[0])\n",
    "probe_30ntNO = pd.DataFrame({'Name':probe_names, 'Sequence': probe_seqs})\n",
    "probe_30ntNO  "
   ]
  },
  {
   "cell_type": "code",
   "execution_count": 15,
   "id": "84ec9a8a",
   "metadata": {},
   "outputs": [
    {
     "data": {
      "text/plain": [
       "['CCCGCAATGGCTGACAACCG',\n",
       " 'TTACGTCGTGGTTGGGCCCTCACAAATACA',\n",
       " 'TAGAAATATCCGAGTGGCAT',\n",
       " 'TGACTGTCGTTGACTCTCGG',\n",
       " 'AGGCGATACATGAGAGGCGT',\n",
       " 'CGGAAACCATGCGGCAATCC']"
      ]
     },
     "execution_count": 15,
     "metadata": {},
     "output_type": "execute_result"
    }
   ],
   "source": [
    "probe_30ntNO['Sequence'][0].split('t')"
   ]
  },
  {
   "cell_type": "code",
   "execution_count": 19,
   "id": "a4e86586",
   "metadata": {},
   "outputs": [
    {
     "data": {
      "text/plain": [
       "'CAAGTAGGTGCGAAAATTATCCACGTGCTC'"
      ]
     },
     "execution_count": 19,
     "metadata": {},
     "output_type": "execute_result"
    }
   ],
   "source": [
    "probe_30ntNO['Sequence'][1000][21:51]"
   ]
  },
  {
   "cell_type": "code",
   "execution_count": 22,
   "id": "f95410fe",
   "metadata": {},
   "outputs": [
    {
     "data": {
      "text/plain": [
       "(13026, 135)"
      ]
     },
     "execution_count": 22,
     "metadata": {},
     "output_type": "execute_result"
    }
   ],
   "source": [
    "2171 * 6, len(probe_30ntNO['Sequence'][0])"
   ]
  },
  {
   "cell_type": "code",
   "execution_count": 21,
   "id": "e9f36dca",
   "metadata": {},
   "outputs": [
    {
     "name": "stdout",
     "output_type": "stream",
     "text": [
      "/lab/solexa_weissman/puzheng/MERFISH_Probes/PE_TS/NewTargetSites/IntBC_MERFISH_v2/2024_2_7_probe_30ntIntBC.xlsx\n"
     ]
    }
   ],
   "source": [
    "# save probes\n",
    "import time\n",
    "save_probe_30ntNO_filename = os.path.join(library_folder,\n",
    "    f\"{time.localtime().tm_year}_{time.localtime().tm_mon}_{time.localtime().tm_mday}_probe_30ntIntBC.xlsx\")\n",
    "print(save_probe_30ntNO_filename)\n",
    "probe_30ntNO.to_excel(save_probe_30ntNO_filename, index=None)"
   ]
  },
  {
   "cell_type": "code",
   "execution_count": null,
   "id": "0cdb20b0",
   "metadata": {},
   "outputs": [],
   "source": []
  }
 ],
 "metadata": {
  "kernelspec": {
   "display_name": "postanalysis",
   "language": "python",
   "name": "postanalysis"
  },
  "language_info": {
   "codemirror_mode": {
    "name": "ipython",
    "version": 3
   },
   "file_extension": ".py",
   "mimetype": "text/x-python",
   "name": "python",
   "nbconvert_exporter": "python",
   "pygments_lexer": "ipython3",
   "version": "3.10.12"
  }
 },
 "nbformat": 4,
 "nbformat_minor": 5
}
