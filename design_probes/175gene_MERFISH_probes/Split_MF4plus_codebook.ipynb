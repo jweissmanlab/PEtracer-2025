{
 "cells": [
  {
   "cell_type": "markdown",
   "id": "2e7e8afd-674c-4b73-b458-7bb5e572afa6",
   "metadata": {},
   "source": [
    "# Split MF4plus into independent Codebooks"
   ]
  },
  {
   "cell_type": "code",
   "execution_count": 2,
   "id": "deb6d88e-a57b-4773-88ec-756367baa980",
   "metadata": {
    "tags": []
   },
   "outputs": [],
   "source": [
    "import os\n",
    "\n",
    "import numpy as np\n",
    "import pandas as pd\n",
    "\n",
    "from IPython.display import display\n",
    "\n",
    "import MERFISH_probe_design.IO.file_io as fio\n",
    "import MERFISH_probe_design.probe_design.probe_dict as p_d\n",
    "import MERFISH_probe_design.probe_design.OTTable_dict as ot\n",
    "import MERFISH_probe_design.probe_design.readout_sequences as rs\n",
    "import MERFISH_probe_design.probe_design.probe_selection as ps\n",
    "import MERFISH_probe_design.probe_design.quality_check as qc\n",
    "from MERFISH_probe_design.probe_design import filters\n",
    "from MERFISH_probe_design.probe_design import plot\n",
    "from MERFISH_probe_design.probe_design import primer_design\n"
   ]
  },
  {
   "cell_type": "code",
   "execution_count": 5,
   "id": "2a1261c6-26a9-430a-8c94-0d96e9d00e1b",
   "metadata": {
    "tags": []
   },
   "outputs": [
    {
     "name": "stdout",
     "output_type": "stream",
     "text": [
      "- FISH probe libraries stored in folder: /lab/solexa_weissman/puzheng/MERFISH_Probes\n",
      "- library will be saved in: /lab/solexa_weissman/puzheng/MERFISH_Probes/4T1_MERFISH/MF9_4T1Lung_mf4plus\n"
     ]
    },
    {
     "data": {
      "text/html": [
       "<div>\n",
       "<style scoped>\n",
       "    .dataframe tbody tr th:only-of-type {\n",
       "        vertical-align: middle;\n",
       "    }\n",
       "\n",
       "    .dataframe tbody tr th {\n",
       "        vertical-align: top;\n",
       "    }\n",
       "\n",
       "    .dataframe thead th {\n",
       "        text-align: right;\n",
       "    }\n",
       "</style>\n",
       "<table border=\"1\" class=\"dataframe\">\n",
       "  <thead>\n",
       "    <tr style=\"text-align: right;\">\n",
       "      <th></th>\n",
       "      <th>name</th>\n",
       "      <th>id</th>\n",
       "      <th>barcode_str</th>\n",
       "    </tr>\n",
       "  </thead>\n",
       "  <tbody>\n",
       "    <tr>\n",
       "      <th>0</th>\n",
       "      <td>Trdc</td>\n",
       "      <td>ENSMUST00000196323.2</td>\n",
       "      <td>010010000000010010</td>\n",
       "    </tr>\n",
       "    <tr>\n",
       "      <th>1</th>\n",
       "      <td>Ighd</td>\n",
       "      <td>ENSMUST00000194162.6</td>\n",
       "      <td>010000100000000110</td>\n",
       "    </tr>\n",
       "    <tr>\n",
       "      <th>2</th>\n",
       "      <td>Klhl14</td>\n",
       "      <td>ENSMUST00000122333.2</td>\n",
       "      <td>000101101000000000</td>\n",
       "    </tr>\n",
       "    <tr>\n",
       "      <th>3</th>\n",
       "      <td>Tmem252</td>\n",
       "      <td>ENSMUST00000057243.6</td>\n",
       "      <td>001000000001000110</td>\n",
       "    </tr>\n",
       "    <tr>\n",
       "      <th>4</th>\n",
       "      <td>Gpr141</td>\n",
       "      <td>ENSMUST00000065335.3</td>\n",
       "      <td>000000010100100010</td>\n",
       "    </tr>\n",
       "    <tr>\n",
       "      <th>...</th>\n",
       "      <td>...</td>\n",
       "      <td>...</td>\n",
       "      <td>...</td>\n",
       "    </tr>\n",
       "    <tr>\n",
       "      <th>186</th>\n",
       "      <td>Blank-12</td>\n",
       "      <td></td>\n",
       "      <td>010010000101000000</td>\n",
       "    </tr>\n",
       "    <tr>\n",
       "      <th>187</th>\n",
       "      <td>Blank-13</td>\n",
       "      <td></td>\n",
       "      <td>000001000010011000</td>\n",
       "    </tr>\n",
       "    <tr>\n",
       "      <th>188</th>\n",
       "      <td>Blank-14</td>\n",
       "      <td></td>\n",
       "      <td>000010011000000100</td>\n",
       "    </tr>\n",
       "    <tr>\n",
       "      <th>189</th>\n",
       "      <td>Blank-15</td>\n",
       "      <td></td>\n",
       "      <td>100000000010110000</td>\n",
       "    </tr>\n",
       "    <tr>\n",
       "      <th>190</th>\n",
       "      <td>Blank-16</td>\n",
       "      <td></td>\n",
       "      <td>010100000000001001</td>\n",
       "    </tr>\n",
       "  </tbody>\n",
       "</table>\n",
       "<p>191 rows × 3 columns</p>\n",
       "</div>"
      ],
      "text/plain": [
       "         name                    id         barcode_str\n",
       "0        Trdc  ENSMUST00000196323.2  010010000000010010\n",
       "1        Ighd  ENSMUST00000194162.6  010000100000000110\n",
       "2      Klhl14  ENSMUST00000122333.2  000101101000000000\n",
       "3     Tmem252  ENSMUST00000057243.6  001000000001000110\n",
       "4      Gpr141  ENSMUST00000065335.3  000000010100100010\n",
       "..        ...                   ...                 ...\n",
       "186  Blank-12                        010010000101000000\n",
       "187  Blank-13                        000001000010011000\n",
       "188  Blank-14                        000010011000000100\n",
       "189  Blank-15                        100000000010110000\n",
       "190  Blank-16                        010100000000001001\n",
       "\n",
       "[191 rows x 3 columns]"
      ]
     },
     "execution_count": 5,
     "metadata": {},
     "output_type": "execute_result"
    }
   ],
   "source": [
    "library_master_folder = r'/lab/solexa_weissman/puzheng/MERFISH_Probes'\n",
    "print(f\"- FISH probe libraries stored in folder: {library_master_folder}\")\n",
    "library_folder = os.path.join(library_master_folder, '4T1_MERFISH', 'MF9_4T1Lung_mf4plus')\n",
    "print(f\"- library will be saved in: {library_folder}\")\n",
    "\n",
    "\n",
    "# The output codebook filename\n",
    "codebook_file = os.path.join(library_folder, 'codebook.csv')\n",
    "# Load the codebook\n",
    "cb_version, cb_name, bit_names, barcode_table = fio.load_merlin_codebook(codebook_file)\n",
    "#barcode_table.replace({'name':replace_dict}, inplace=True)\n",
    "#gene_ids = list(kept_gene_df.index)\n",
    "transcript_ids = set(barcode_table['id'][barcode_table['id'] != '']) # Get the non-blank transcript ids\n",
    "barcode_table # Let's have a look at the barcode table"
   ]
  },
  {
   "cell_type": "markdown",
   "id": "854261b5-5380-4e48-a777-3e4734a3ef83",
   "metadata": {
    "tags": []
   },
   "source": [
    "## load MF9-mf4plus-base gene list"
   ]
  },
  {
   "cell_type": "code",
   "execution_count": 11,
   "id": "24e21aca-daa7-42bb-b390-c687807bc9aa",
   "metadata": {
    "tags": []
   },
   "outputs": [
    {
     "name": "stdout",
     "output_type": "stream",
     "text": [
      "['Chil1' 'Cxcr2' 'Ly6g' 'Asprv1' 'Cd79a' 'Ebf1' 'Ms4a1' 'Fcmr' 'Pax5'\n",
      " 'Ighd' 'Chst3' 'Cd22' 'Fcer2a' 'Pou2af1' 'Cr2' 'Klhl14' 'C1qb' 'Mrc1'\n",
      " 'Mmp12' 'Slc7a2' 'Ms4a7' 'Dab2' 'C1qa' 'C1qc' 'Enpp1' 'Arg1' 'Ccl24'\n",
      " 'Cxcl14' 'Krt79' 'Arhgef37' 'Rassf4' 'Plcb1' 'Ptpro' 'Vcan' 'Ccr2'\n",
      " 'Tppp3' 'Slc8a1' 'Cxcl3' 'Zbtb7b' 'Ccr4' 'Cd28' 'Cd4' 'Cd247' 'Cpa3'\n",
      " 'Grm6' 'Gata2' 'Ms4a2' 'Fcer1a' 'Cyp11a1' 'Csrp3' 'Alox15' 'Cd200r3'\n",
      " 'Klrk1' 'Klrb1c' 'Prdm1' 'Eomes' 'Ncr1' 'Fasl' 'Foxp3' 'Camk4' 'Wnt7b'\n",
      " 'Fgfbp1' 'Hoxa10' 'Ibsp' 'Fxyd3' 'Fermt1' 'Inava' 'Ankrd1' 'Cldn4'\n",
      " 'Tmprss11e' 'Robo4' 'Prex2' 'Cyp4b1' 'Sox17' 'Ptprb' 'Cldn5' 'Shank3'\n",
      " 'Gpihbp1' 'Clec14a' 'Galnt18' 'Tmem252' 'Tspan7' 'Cd8b1' 'Ifng' 'Cd3g'\n",
      " 'Themis' 'Cd8a' 'Gzmb' 'Ms4a4b' 'Cd96' 'Xcr1' 'Havcr2' 'Batf3' 'Flt3'\n",
      " 'Itgax' 'Cd300e' 'Fzd2' 'Col6a6' 'Col5a2' 'Fscn1' 'Gpr39' 'Sdc1'\n",
      " 'Siglech' 'Ccr9' 'Pacsin1' 'Pld4' 'Nes' 'Bcl11b' 'Trdc' 'Stxbp6' 'Htr1b'\n",
      " 'Myc' 'Msh2' 'Cdca2' 'Rpa2' 'Dscc1' 'Kif2c' 'Nek2' 'Ung' 'Exosc5' 'Foxm1'\n",
      " 'Ncapd2' 'Rad51' 'Cdh1' 'Itgb4' 'Zeb1' 'Trp63' 'Snai1' 'Serpinf1' 'Fgf2'\n",
      " 'Fgf1' 'Cd274' 'Pdcd1' 'Lef1' 'Tcf7' 'Pdgfa' 'Krt19' 'Car4' 'Adgre4'\n",
      " 'Mreg' 'Fcnb' 'Cd226' 'Btla' 'Vegfa' 'Slc2a1' 'Epcam' 'Fgfr2' 'Sox9'\n",
      " 'Twist1' 'Aicda']\n"
     ]
    }
   ],
   "source": [
    "manual_genes = pd.read_csv(os.path.join(library_folder, 'mf4plus_base.csv'))['Gene'].values\n",
    "print(manual_genes)"
   ]
  },
  {
   "cell_type": "code",
   "execution_count": 22,
   "id": "c2c7860d-bd66-4ed1-a349-9928329c6450",
   "metadata": {
    "tags": []
   },
   "outputs": [
    {
     "name": "stdout",
     "output_type": "stream",
     "text": [
      "Saving codebook to file: /lab/solexa_weissman/puzheng/MERFISH_Probes/4T1_MERFISH/MF9_4T1Lung_mf4plus/MF9-mf4plus-base_codebook.csv\n"
     ]
    }
   ],
   "source": [
    "# kept table:\n",
    "kept_barcode_table = barcode_table.loc[[(_g in manual_genes) or ('Blank-' in _g) for _g in barcode_table['name']]]\n",
    "# filename\n",
    "base_codebook_file = os.path.join(library_folder, 'MF9-mf4plus-base_codebook.csv')\n",
    "print(f\"Saving codebook to file: {base_codebook_file}\")\n",
    "\n",
    "fio.write_merlin_codebook(base_codebook_file, cb_version, cb_name, bit_names, \n",
    "                          kept_barcode_table['name'].values, \n",
    "                          kept_barcode_table['id'].values, \n",
    "                          kept_barcode_table['barcode_str'].values)"
   ]
  },
  {
   "cell_type": "code",
   "execution_count": 21,
   "id": "c6dfef44-79ce-4ae0-959a-96ba6eada74b",
   "metadata": {
    "tags": []
   },
   "outputs": [
    {
     "data": {
      "text/html": [
       "<div>\n",
       "<style scoped>\n",
       "    .dataframe tbody tr th:only-of-type {\n",
       "        vertical-align: middle;\n",
       "    }\n",
       "\n",
       "    .dataframe tbody tr th {\n",
       "        vertical-align: top;\n",
       "    }\n",
       "\n",
       "    .dataframe thead th {\n",
       "        text-align: right;\n",
       "    }\n",
       "</style>\n",
       "<table border=\"1\" class=\"dataframe\">\n",
       "  <thead>\n",
       "    <tr style=\"text-align: right;\">\n",
       "      <th></th>\n",
       "      <th>name</th>\n",
       "      <th>id</th>\n",
       "      <th>barcode_str</th>\n",
       "    </tr>\n",
       "  </thead>\n",
       "  <tbody>\n",
       "    <tr>\n",
       "      <th>0</th>\n",
       "      <td>Trdc</td>\n",
       "      <td>ENSMUST00000196323.2</td>\n",
       "      <td>010010000000010010</td>\n",
       "    </tr>\n",
       "    <tr>\n",
       "      <th>1</th>\n",
       "      <td>Ighd</td>\n",
       "      <td>ENSMUST00000194162.6</td>\n",
       "      <td>010000100000000110</td>\n",
       "    </tr>\n",
       "    <tr>\n",
       "      <th>2</th>\n",
       "      <td>Klhl14</td>\n",
       "      <td>ENSMUST00000122333.2</td>\n",
       "      <td>000101101000000000</td>\n",
       "    </tr>\n",
       "    <tr>\n",
       "      <th>3</th>\n",
       "      <td>Tmem252</td>\n",
       "      <td>ENSMUST00000057243.6</td>\n",
       "      <td>001000000001000110</td>\n",
       "    </tr>\n",
       "    <tr>\n",
       "      <th>5</th>\n",
       "      <td>Dab2</td>\n",
       "      <td>ENSMUST00000080880.12</td>\n",
       "      <td>000010000001011000</td>\n",
       "    </tr>\n",
       "    <tr>\n",
       "      <th>...</th>\n",
       "      <td>...</td>\n",
       "      <td>...</td>\n",
       "      <td>...</td>\n",
       "    </tr>\n",
       "    <tr>\n",
       "      <th>186</th>\n",
       "      <td>Blank-12</td>\n",
       "      <td></td>\n",
       "      <td>010010000101000000</td>\n",
       "    </tr>\n",
       "    <tr>\n",
       "      <th>187</th>\n",
       "      <td>Blank-13</td>\n",
       "      <td></td>\n",
       "      <td>000001000010011000</td>\n",
       "    </tr>\n",
       "    <tr>\n",
       "      <th>188</th>\n",
       "      <td>Blank-14</td>\n",
       "      <td></td>\n",
       "      <td>000010011000000100</td>\n",
       "    </tr>\n",
       "    <tr>\n",
       "      <th>189</th>\n",
       "      <td>Blank-15</td>\n",
       "      <td></td>\n",
       "      <td>100000000010110000</td>\n",
       "    </tr>\n",
       "    <tr>\n",
       "      <th>190</th>\n",
       "      <td>Blank-16</td>\n",
       "      <td></td>\n",
       "      <td>010100000000001001</td>\n",
       "    </tr>\n",
       "  </tbody>\n",
       "</table>\n",
       "<p>166 rows × 3 columns</p>\n",
       "</div>"
      ],
      "text/plain": [
       "         name                     id         barcode_str\n",
       "0        Trdc   ENSMUST00000196323.2  010010000000010010\n",
       "1        Ighd   ENSMUST00000194162.6  010000100000000110\n",
       "2      Klhl14   ENSMUST00000122333.2  000101101000000000\n",
       "3     Tmem252   ENSMUST00000057243.6  001000000001000110\n",
       "5        Dab2  ENSMUST00000080880.12  000010000001011000\n",
       "..        ...                    ...                 ...\n",
       "186  Blank-12                         010010000101000000\n",
       "187  Blank-13                         000001000010011000\n",
       "188  Blank-14                         000010011000000100\n",
       "189  Blank-15                         100000000010110000\n",
       "190  Blank-16                         010100000000001001\n",
       "\n",
       "[166 rows x 3 columns]"
      ]
     },
     "execution_count": 21,
     "metadata": {},
     "output_type": "execute_result"
    }
   ],
   "source": [
    "kept_barcode_table"
   ]
  },
  {
   "cell_type": "code",
   "execution_count": 20,
   "id": "d5ba9533-6188-4826-970f-3d6af3325a02",
   "metadata": {
    "tags": []
   },
   "outputs": [
    {
     "data": {
      "text/plain": [
       "array(['Trdc', 'Ighd', 'Klhl14', 'Tmem252', 'Dab2', 'Epcam', 'Msh2',\n",
       "       'Camk4', 'Themis', 'Aicda', 'Cd200r3', 'Gata2', 'Btla', 'Serpinf1',\n",
       "       'Myc', 'Ifng', 'Cdh1', 'Cd96', 'Cd8b1', 'Exosc5', 'Cd8a', 'Adgre4',\n",
       "       'Clec14a', 'Pou2af1', 'Cd274', 'Col5a2', 'Wnt7b', 'Ibsp', 'Htr1b',\n",
       "       'Prex2', 'Ankrd1', 'Itgb4', 'Cdca2', 'Fcnb', 'Robo4', 'Cd4',\n",
       "       'Fgf2', 'Foxp3', 'Prdm1', 'Shank3', 'Twist1', 'Krt19', 'Ly6g',\n",
       "       'Gpihbp1', 'Rpa2', 'Flt3', 'Cyp11a1', 'Cd226', 'Gpr39', 'Stxbp6',\n",
       "       'Lef1', 'Nes', 'Ms4a4b', 'Ms4a2', 'Foxm1', 'Dscc1', 'Cyp4b1',\n",
       "       'Bcl11b', 'Vcan', 'Ebf1', 'Zeb1', 'Arhgef37', 'Havcr2', 'Klrk1',\n",
       "       'Trp63', 'Fgf1', 'Krt79', 'Ptprb', 'Tspan7', 'Sdc1', 'Pacsin1',\n",
       "       'Galnt18', 'Mrc1', 'Slc8a1', 'Pld4', 'Cd3g', 'Fasl', 'Itgax',\n",
       "       'Vegfa', 'Kif2c', 'Grm6', 'C1qb', 'C1qc', 'C1qa', 'Batf3', 'Cpa3',\n",
       "       'Cxcl14', 'Ncr1', 'Enpp1', 'Nek2', 'Ptpro', 'Ms4a1', 'Ms4a7',\n",
       "       'Tcf7', 'Slc2a1', 'Tmprss11e', 'Cldn5', 'Ung', 'Zbtb7b', 'Slc7a2',\n",
       "       'Cd28', 'Gzmb', 'Tppp3', 'Fgfbp1', 'Cr2', 'Col6a6', 'Rassf4',\n",
       "       'Cd247', 'Fcer2a', 'Cd79a', 'Cxcl3', 'Ccr4', 'Fgfr2', 'Eomes',\n",
       "       'Car4', 'Pdcd1', 'Hoxa10', 'Sox17', 'Asprv1', 'Xcr1', 'Ccr2',\n",
       "       'Ccr9', 'Mreg', 'Arg1', 'Klrb1c', 'Mmp12', 'Cxcr2', 'Pax5', 'Cd22',\n",
       "       'Ncapd2', 'Fcer1a', 'Chst3', 'Cldn4', 'Sox9', 'Csrp3', 'Ccl24',\n",
       "       'Fxyd3', 'Pdgfa', 'Siglech', 'Fcmr', 'Fscn1', 'Chil1', 'Inava',\n",
       "       'Alox15', 'Fermt1', 'Plcb1', 'Cd300e', 'Fzd2', 'Rad51', 'Snai1',\n",
       "       'Blank-1', 'Blank-2', 'Blank-3', 'Blank-4', 'Blank-5', 'Blank-6',\n",
       "       'Blank-7', 'Blank-8', 'Blank-9', 'Blank-10', 'Blank-11',\n",
       "       'Blank-12', 'Blank-13', 'Blank-14', 'Blank-15', 'Blank-16'],\n",
       "      dtype=object)"
      ]
     },
     "execution_count": 20,
     "metadata": {},
     "output_type": "execute_result"
    }
   ],
   "source": []
  },
  {
   "cell_type": "code",
   "execution_count": null,
   "id": "0c0c9414-efd5-4ac6-bb8c-37308098aef4",
   "metadata": {},
   "outputs": [],
   "source": []
  }
 ],
 "metadata": {
  "kernelspec": {
   "display_name": "postanalysis",
   "language": "python",
   "name": "postanalysis"
  },
  "language_info": {
   "codemirror_mode": {
    "name": "ipython",
    "version": 3
   },
   "file_extension": ".py",
   "mimetype": "text/x-python",
   "name": "python",
   "nbconvert_exporter": "python",
   "pygments_lexer": "ipython3",
   "version": "3.10.12"
  },
  "widgets": {
   "application/vnd.jupyter.widget-state+json": {
    "state": {},
    "version_major": 2,
    "version_minor": 0
   }
  }
 },
 "nbformat": 4,
 "nbformat_minor": 5
}
