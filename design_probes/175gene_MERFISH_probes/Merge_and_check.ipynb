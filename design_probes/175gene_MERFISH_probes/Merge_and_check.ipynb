{
 "cells": [
  {
   "cell_type": "markdown",
   "id": "6099b5bd-8c48-4c2e-9854-9bbd1a09567a",
   "metadata": {},
   "source": [
    "# Merge and change primer for subset for MF9\n",
    "\n",
    "by Pu Zheng\n",
    "\n",
    "2024.10.05"
   ]
  },
  {
   "cell_type": "code",
   "execution_count": 1,
   "id": "612411fd-1dd5-4a95-8160-4b0cf8aafdce",
   "metadata": {
    "tags": []
   },
   "outputs": [
    {
     "name": "stdout",
     "output_type": "stream",
     "text": [
      "383134\n"
     ]
    }
   ],
   "source": [
    "import os, sys, time\n",
    "import numpy as np\n",
    "import pandas as pd\n",
    "import matplotlib.pyplot as plt\n",
    "#import torch\n",
    "print(os.getpid())\n",
    "sys.path.append(r\"/lab/weissman_imaging/puzheng/Softwares\")"
   ]
  },
  {
   "cell_type": "markdown",
   "id": "49850cbd-251e-4ebb-8cb0-336d673e8559",
   "metadata": {},
   "source": [
    "# Split sublibrary: MF4plus"
   ]
  },
  {
   "cell_type": "code",
   "execution_count": 2,
   "id": "e7ad9638-80d6-434f-92e1-2975bd591389",
   "metadata": {
    "tags": []
   },
   "outputs": [],
   "source": [
    "mf4plus_folder = r'/lab/solexa_weissman/puzheng/MERFISH_Probes/4T1_MERFISH/MF9_4T1Lung_mf4plus'\n",
    "mf4plus_probe_file = os.path.join(mf4plus_folder, '2024_10_4_twist_probes.xlsx')\n",
    "mf4plus_probes = pd.read_excel(mf4plus_probe_file)"
   ]
  },
  {
   "cell_type": "code",
   "execution_count": 3,
   "id": "3076547b-3892-4357-bc25-a0d98d1ef343",
   "metadata": {
    "tags": []
   },
   "outputs": [
    {
     "data": {
      "text/html": [
       "<div>\n",
       "<style scoped>\n",
       "    .dataframe tbody tr th:only-of-type {\n",
       "        vertical-align: middle;\n",
       "    }\n",
       "\n",
       "    .dataframe tbody tr th {\n",
       "        vertical-align: top;\n",
       "    }\n",
       "\n",
       "    .dataframe thead th {\n",
       "        text-align: right;\n",
       "    }\n",
       "</style>\n",
       "<table border=\"1\" class=\"dataframe\">\n",
       "  <thead>\n",
       "    <tr style=\"text-align: right;\">\n",
       "      <th></th>\n",
       "      <th>name</th>\n",
       "      <th>sequence</th>\n",
       "      <th>library</th>\n",
       "    </tr>\n",
       "  </thead>\n",
       "  <tbody>\n",
       "    <tr>\n",
       "      <th>0</th>\n",
       "      <td>Ptprb_ENSMUST00000218553.2_shift:592_GC:56.6_T...</td>\n",
       "      <td>CCCGCAATGGCTGACAACCGGGTGTAGTTCTCCGATTGCGTACGGT...</td>\n",
       "      <td>MF9-mf4plus</td>\n",
       "    </tr>\n",
       "    <tr>\n",
       "      <th>1</th>\n",
       "      <td>Ptprb_ENSMUST00000218553.2_shift:645_GC:60.0_T...</td>\n",
       "      <td>CCCGCAATGGCTGACAACCGACGCACGCTCTCTTGCCGTCTGGTGT...</td>\n",
       "      <td>MF9-mf4plus</td>\n",
       "    </tr>\n",
       "    <tr>\n",
       "      <th>2</th>\n",
       "      <td>Ptprb_ENSMUST00000218553.2_shift:980_GC:56.6_T...</td>\n",
       "      <td>CCCGCAATGGCTGACAACCGACGGTCCACGTCCCACGACGTGGTGT...</td>\n",
       "      <td>MF9-mf4plus</td>\n",
       "    </tr>\n",
       "    <tr>\n",
       "      <th>3</th>\n",
       "      <td>Ptprb_ENSMUST00000218553.2_shift:1087_GC:43.3_...</td>\n",
       "      <td>CCCGCAATGGCTGACAACCGGGTGTAGTTCTCCGATTGCGTACGCA...</td>\n",
       "      <td>MF9-mf4plus</td>\n",
       "    </tr>\n",
       "    <tr>\n",
       "      <th>4</th>\n",
       "      <td>Ptprb_ENSMUST00000218553.2_shift:1800_GC:46.6_...</td>\n",
       "      <td>CCCGCAATGGCTGACAACCGGGTGTAGTTCTCCGATTGCGTACGCA...</td>\n",
       "      <td>MF9-mf4plus</td>\n",
       "    </tr>\n",
       "  </tbody>\n",
       "</table>\n",
       "</div>"
      ],
      "text/plain": [
       "                                                name  \\\n",
       "0  Ptprb_ENSMUST00000218553.2_shift:592_GC:56.6_T...   \n",
       "1  Ptprb_ENSMUST00000218553.2_shift:645_GC:60.0_T...   \n",
       "2  Ptprb_ENSMUST00000218553.2_shift:980_GC:56.6_T...   \n",
       "3  Ptprb_ENSMUST00000218553.2_shift:1087_GC:43.3_...   \n",
       "4  Ptprb_ENSMUST00000218553.2_shift:1800_GC:46.6_...   \n",
       "\n",
       "                                            sequence      library  \n",
       "0  CCCGCAATGGCTGACAACCGGGTGTAGTTCTCCGATTGCGTACGGT...  MF9-mf4plus  \n",
       "1  CCCGCAATGGCTGACAACCGACGCACGCTCTCTTGCCGTCTGGTGT...  MF9-mf4plus  \n",
       "2  CCCGCAATGGCTGACAACCGACGGTCCACGTCCCACGACGTGGTGT...  MF9-mf4plus  \n",
       "3  CCCGCAATGGCTGACAACCGGGTGTAGTTCTCCGATTGCGTACGCA...  MF9-mf4plus  \n",
       "4  CCCGCAATGGCTGACAACCGGGTGTAGTTCTCCGATTGCGTACGCA...  MF9-mf4plus  "
      ]
     },
     "execution_count": 3,
     "metadata": {},
     "output_type": "execute_result"
    }
   ],
   "source": [
    "mf4plus_probes.head()"
   ]
  },
  {
   "cell_type": "code",
   "execution_count": 4,
   "id": "d6a3a79e-cc63-48e5-9450-b993c2f5b2e3",
   "metadata": {},
   "outputs": [],
   "source": [
    "manual_genes = pd.read_csv(os.path.join(mf4plus_folder, 'mf4plus_base.csv'))['Gene'].values\n",
    "lung_genes = pd.read_csv(os.path.join(mf4plus_folder, 'manual_lung_genes.csv'))['Gene'].values\n"
   ]
  },
  {
   "cell_type": "code",
   "execution_count": 5,
   "id": "a72c2916-0898-4101-9a3e-b986b0f5c0ab",
   "metadata": {
    "tags": []
   },
   "outputs": [
    {
     "data": {
      "text/plain": [
       "(150, 25)"
      ]
     },
     "execution_count": 5,
     "metadata": {},
     "output_type": "execute_result"
    }
   ],
   "source": [
    "len(manual_genes), len(lung_genes)"
   ]
  },
  {
   "cell_type": "code",
   "execution_count": 6,
   "id": "e5eb6d98-9f11-4f5a-acf2-a54ff5d9162a",
   "metadata": {
    "tags": []
   },
   "outputs": [],
   "source": [
    "mf4plus_probes['gene'] = [_n.split('_')[0] for _n in mf4plus_probes['name']]"
   ]
  },
  {
   "cell_type": "code",
   "execution_count": 7,
   "id": "f4ea6fff-cae8-4398-90d6-7c2fc82b22c1",
   "metadata": {
    "tags": []
   },
   "outputs": [],
   "source": [
    "mf4plus_base_probes = mf4plus_probes.loc[[_g in manual_genes for _g in mf4plus_probes['gene']]]"
   ]
  },
  {
   "cell_type": "code",
   "execution_count": 8,
   "id": "4ec45c53-ec3a-4a12-a186-9d1bb8b16156",
   "metadata": {},
   "outputs": [],
   "source": [
    "mf4plus_addon_probes = mf4plus_probes.loc[[_g in lung_genes for _g in mf4plus_probes['gene']]]"
   ]
  },
  {
   "cell_type": "code",
   "execution_count": 9,
   "id": "29641b72-0409-44e2-a8f4-1fb0aa1dd6e7",
   "metadata": {
    "tags": []
   },
   "outputs": [
    {
     "data": {
      "text/html": [
       "<div>\n",
       "<style scoped>\n",
       "    .dataframe tbody tr th:only-of-type {\n",
       "        vertical-align: middle;\n",
       "    }\n",
       "\n",
       "    .dataframe tbody tr th {\n",
       "        vertical-align: top;\n",
       "    }\n",
       "\n",
       "    .dataframe thead th {\n",
       "        text-align: right;\n",
       "    }\n",
       "</style>\n",
       "<table border=\"1\" class=\"dataframe\">\n",
       "  <thead>\n",
       "    <tr style=\"text-align: right;\">\n",
       "      <th></th>\n",
       "      <th>id</th>\n",
       "      <th>description</th>\n",
       "      <th>sequence</th>\n",
       "      <th>sequence_rc</th>\n",
       "      <th>sequence_OT</th>\n",
       "      <th>sequence_rc_OT</th>\n",
       "    </tr>\n",
       "  </thead>\n",
       "  <tbody>\n",
       "    <tr>\n",
       "      <th>0</th>\n",
       "      <td>W1A03_primer_2</td>\n",
       "      <td>W1A03_primer_2</td>\n",
       "      <td>CCCGCAATGGCTGACAACCG</td>\n",
       "      <td>CGGTTGTCAGCCATTGCGGG</td>\n",
       "      <td>0</td>\n",
       "      <td>0</td>\n",
       "    </tr>\n",
       "    <tr>\n",
       "      <th>1</th>\n",
       "      <td>W1A10_primer_9</td>\n",
       "      <td>W1A10_primer_9</td>\n",
       "      <td>TAATACGACTCACTATAGGGATTGCCGCATGGTTTCCG</td>\n",
       "      <td>CGGAAACCATGCGGCAATCCCTATAGTGAGTCGTATTA</td>\n",
       "      <td>0</td>\n",
       "      <td>0</td>\n",
       "    </tr>\n",
       "  </tbody>\n",
       "</table>\n",
       "</div>"
      ],
      "text/plain": [
       "               id     description                                sequence  \\\n",
       "0  W1A03_primer_2  W1A03_primer_2                    CCCGCAATGGCTGACAACCG   \n",
       "1  W1A10_primer_9  W1A10_primer_9  TAATACGACTCACTATAGGGATTGCCGCATGGTTTCCG   \n",
       "\n",
       "                              sequence_rc  sequence_OT  sequence_rc_OT  \n",
       "0                    CGGTTGTCAGCCATTGCGGG            0               0  \n",
       "1  CGGAAACCATGCGGCAATCCCTATAGTGAGTCGTATTA            0               0  "
      ]
     },
     "execution_count": 9,
     "metadata": {},
     "output_type": "execute_result"
    }
   ],
   "source": [
    "# swap new primers:\n",
    "primer_len = 20\n",
    "old_primers = pd.read_csv(os.path.join(mf4plus_folder, 'selected_primers.csv'), index_col=0)\n",
    "old_primers\n"
   ]
  },
  {
   "cell_type": "code",
   "execution_count": 10,
   "id": "6e70d769-eb2d-4012-a8b2-6adcac69c1c6",
   "metadata": {
    "tags": []
   },
   "outputs": [
    {
     "data": {
      "text/html": [
       "<div>\n",
       "<style scoped>\n",
       "    .dataframe tbody tr th:only-of-type {\n",
       "        vertical-align: middle;\n",
       "    }\n",
       "\n",
       "    .dataframe tbody tr th {\n",
       "        vertical-align: top;\n",
       "    }\n",
       "\n",
       "    .dataframe thead th {\n",
       "        text-align: right;\n",
       "    }\n",
       "</style>\n",
       "<table border=\"1\" class=\"dataframe\">\n",
       "  <thead>\n",
       "    <tr style=\"text-align: right;\">\n",
       "      <th></th>\n",
       "      <th>id</th>\n",
       "      <th>description</th>\n",
       "      <th>sequence</th>\n",
       "      <th>sequence_rc</th>\n",
       "      <th>sequence_OT</th>\n",
       "      <th>sequence_rc_OT</th>\n",
       "    </tr>\n",
       "  </thead>\n",
       "  <tbody>\n",
       "    <tr>\n",
       "      <th>0</th>\n",
       "      <td>W1B05_primer_16</td>\n",
       "      <td>W1B05_primer_16</td>\n",
       "      <td>CGGGTTTCGTTGCGCACACC</td>\n",
       "      <td>GGTGTGCGCAACGAAACCCG</td>\n",
       "      <td>0</td>\n",
       "      <td>0</td>\n",
       "    </tr>\n",
       "    <tr>\n",
       "      <th>1</th>\n",
       "      <td>W1B04_primer_15</td>\n",
       "      <td>W1B04_primer_15</td>\n",
       "      <td>TAATACGACTCACTATAGGGCTTGTGCATCGCGCCAAAGA</td>\n",
       "      <td>TCTTTGGCGCGATGCACAAGCCCTATAGTGAGTCGTATTA</td>\n",
       "      <td>0</td>\n",
       "      <td>0</td>\n",
       "    </tr>\n",
       "  </tbody>\n",
       "</table>\n",
       "</div>"
      ],
      "text/plain": [
       "                id      description                                  sequence  \\\n",
       "0  W1B05_primer_16  W1B05_primer_16                      CGGGTTTCGTTGCGCACACC   \n",
       "1  W1B04_primer_15  W1B04_primer_15  TAATACGACTCACTATAGGGCTTGTGCATCGCGCCAAAGA   \n",
       "\n",
       "                                sequence_rc  sequence_OT  sequence_rc_OT  \n",
       "0                      GGTGTGCGCAACGAAACCCG            0               0  \n",
       "1  TCTTTGGCGCGATGCACAAGCCCTATAGTGAGTCGTATTA            0               0  "
      ]
     },
     "execution_count": 10,
     "metadata": {},
     "output_type": "execute_result"
    }
   ],
   "source": [
    "mf4plus_addon_folder = r'/lab/solexa_weissman/puzheng/MERFISH_Probes/4T1_MERFISH/MF9_4T1Lung_mf4plus_addon'\n",
    "new_primers = pd.read_csv(os.path.join(mf4plus_addon_folder, 'selected_primers.csv'), index_col=0)\n",
    "new_primers"
   ]
  },
  {
   "cell_type": "code",
   "execution_count": 11,
   "id": "be424b0d-8001-4b8d-b234-67ab3c67758f",
   "metadata": {
    "tags": []
   },
   "outputs": [
    {
     "name": "stdout",
     "output_type": "stream",
     "text": [
      "/lab/solexa_weissman/puzheng/MERFISH_Probes/4T1_MERFISH/MF9_4T1Lung_mf4plus_addon/2024_10_6_mf4plus_addon_twist_probes.xlsx\n"
     ]
    }
   ],
   "source": [
    "new_seqs = [] #, new_names = [], []\n",
    "for _i, _row in mf4plus_addon_probes.iterrows():\n",
    "    _seq, _name = _row['sequence'], _row['name']\n",
    "    if old_primers.loc[0, 'sequence'][-primer_len:] not in _seq:\n",
    "        raise ValueError(\"Fwd primer not found\")\n",
    "    elif old_primers.loc[1, 'sequence_rc'][:primer_len] not in _seq:\n",
    "        raise ValueError(\"Rev primer not found\")\n",
    "    # replace:\n",
    "    new_seqs.append(_seq.replace(old_primers.loc[0, 'sequence'][-primer_len:],\n",
    "                                 new_primers.loc[0, 'sequence'][-primer_len:]).replace(old_primers.loc[1, 'sequence_rc'][:primer_len],\n",
    "                                                                                        new_primers.loc[1, 'sequence_rc'][:primer_len]))\n",
    "# replace this column:\n",
    "mf4plus_addon_probes.loc[:,'sequence'] = new_seqs\n",
    "# change name:\n",
    "mf4plus_addon_probes.loc[:,'library'] = 'MF9-mf4plus-addon'\n",
    "# save:\n",
    "mf4plus_addon_savefile = os.path.join(mf4plus_addon_folder, f\"{time.localtime().tm_year}_{time.localtime().tm_mon}_{time.localtime().tm_mday}_mf4plus_addon_twist_probes.xlsx\")\n",
    "print(mf4plus_addon_savefile)\n",
    "mf4plus_addon_probes.to_excel(mf4plus_addon_savefile, index=False)"
   ]
  },
  {
   "cell_type": "code",
   "execution_count": 12,
   "id": "b3ce7ee5-5af2-48e5-96f3-df10de6bb0e2",
   "metadata": {
    "tags": []
   },
   "outputs": [
    {
     "name": "stdout",
     "output_type": "stream",
     "text": [
      "/lab/solexa_weissman/puzheng/MERFISH_Probes/4T1_MERFISH/MF9_4T1Lung_mf4plus/2024_10_6_mf4plus_base_twist_probes.xlsx\n"
     ]
    }
   ],
   "source": [
    "# Save the mf4_base:\n",
    "mf4plus_base_probes.loc[:,'library'] = 'MF9-mf4plus-base'\n",
    "mf4plus_base_savefile = os.path.join(mf4plus_folder, f\"{time.localtime().tm_year}_{time.localtime().tm_mon}_{time.localtime().tm_mday}_mf4plus_base_twist_probes.xlsx\")\n",
    "print(mf4plus_base_savefile)\n",
    "mf4plus_base_probes.to_excel(mf4plus_base_savefile, index=False)"
   ]
  },
  {
   "cell_type": "markdown",
   "id": "fb94ce88-8c08-4e6e-a380-2d3f39a1181e",
   "metadata": {},
   "source": [
    "# Merge:"
   ]
  },
  {
   "cell_type": "code",
   "execution_count": 13,
   "id": "b79489d0-82a2-4c1c-91d5-95dde112e665",
   "metadata": {
    "tags": []
   },
   "outputs": [
    {
     "name": "stdout",
     "output_type": "stream",
     "text": [
      "/lab/solexa_weissman/puzheng/MERFISH_Probes/4T1_MERFISH/MF9_4T1Lung_mf4plus_addon/2024_10_6_mf4plus_addon_twist_probes.xlsx 2364\n",
      "/lab/solexa_weissman/puzheng/MERFISH_Probes/4T1_MERFISH/MF9_4T1Lung_mf4plus/2024_10_6_mf4plus_base_twist_probes.xlsx 14144\n",
      "/lab/solexa_weissman/puzheng/MERFISH_Probes/4T1_MERFISH/MF9_4T1Lung_mf7minus/2024_10_4_twist_probes.xlsx 24800\n"
     ]
    }
   ],
   "source": [
    "# probes to merge:\n",
    "# Manually pasted this list!\n",
    "subpool_probe_files = [\n",
    "    '/lab/solexa_weissman/puzheng/MERFISH_Probes/4T1_MERFISH/MF9_4T1Lung_mf4plus_addon/2024_10_6_mf4plus_addon_twist_probes.xlsx',\n",
    "    '/lab/solexa_weissman/puzheng/MERFISH_Probes/4T1_MERFISH/MF9_4T1Lung_mf4plus/2024_10_6_mf4plus_base_twist_probes.xlsx',\n",
    "    '/lab/solexa_weissman/puzheng/MERFISH_Probes/4T1_MERFISH/MF9_4T1Lung_mf7minus/2024_10_4_twist_probes.xlsx',\n",
    "]\n",
    "# load\n",
    "probe_list = [pd.read_excel(_f) for _f in subpool_probe_files]\n",
    "for _f, _pbs in zip(subpool_probe_files, probe_list):\n",
    "    print(_f, len(_pbs))"
   ]
  },
  {
   "cell_type": "code",
   "execution_count": 14,
   "id": "96391097-c54b-4135-8ea0-291f5a62c008",
   "metadata": {
    "tags": []
   },
   "outputs": [],
   "source": [
    "#concat:\n",
    "merged_probes = pd.concat(probe_list)"
   ]
  },
  {
   "cell_type": "code",
   "execution_count": 22,
   "id": "dba55bcf-5ce3-4230-b3bc-1f888f99bee5",
   "metadata": {
    "tags": []
   },
   "outputs": [
    {
     "data": {
      "text/plain": [
       "41308"
      ]
     },
     "execution_count": 22,
     "metadata": {},
     "output_type": "execute_result"
    }
   ],
   "source": [
    "len(merged_probes)"
   ]
  },
  {
   "cell_type": "code",
   "execution_count": 17,
   "id": "0b51bcea-969b-4ae1-b201-368963ea70e5",
   "metadata": {
    "tags": []
   },
   "outputs": [
    {
     "name": "stdout",
     "output_type": "stream",
     "text": [
      "(array(['MF9-mf4plus-addon', 'MF9-mf4plus-base', 'MF9-mf7minus'],\n",
      "      dtype=object), array([ 2364, 14144, 24800]))\n"
     ]
    }
   ],
   "source": [
    "# check library tag\n",
    "print(np.unique(merged_probes['library'], return_counts=True))"
   ]
  },
  {
   "cell_type": "code",
   "execution_count": 18,
   "id": "21a298d6-78c2-4446-82e3-87922becc67b",
   "metadata": {
    "tags": []
   },
   "outputs": [],
   "source": [
    "# check primer:\n",
    "merged_probes.loc[:,'fwd_primer'] = [_s[:primer_len] for _s in merged_probes['sequence']]\n",
    "merged_probes.loc[:,'rev_primer'] = [_s[-primer_len:] for _s in merged_probes['sequence']]"
   ]
  },
  {
   "cell_type": "code",
   "execution_count": 19,
   "id": "9c288736-3ea3-4459-b675-dc63809dc1f8",
   "metadata": {
    "tags": []
   },
   "outputs": [
    {
     "name": "stdout",
     "output_type": "stream",
     "text": [
      "(array(['CCCGCAATGGCTGACAACCG', 'CGCAAACTGGTGCGGAAGGC',\n",
      "       'CGGGTTTCGTTGCGCACACC'], dtype=object), array([14144, 24800,  2364]))\n"
     ]
    }
   ],
   "source": [
    "print(np.unique(merged_probes['fwd_primer'], return_counts=True))"
   ]
  },
  {
   "cell_type": "code",
   "execution_count": 20,
   "id": "5bf0251e-0075-4db1-8adb-1f2e40ec1e1b",
   "metadata": {
    "tags": []
   },
   "outputs": [
    {
     "name": "stdout",
     "output_type": "stream",
     "text": [
      "(array(['CGGAAACCATGCGGCAATCC', 'CTCGACCTCGCGGGCAATGG',\n",
      "       'TCTTTGGCGCGATGCACAAG'], dtype=object), array([14144, 24800,  2364]))\n"
     ]
    }
   ],
   "source": [
    "print(np.unique(merged_probes['rev_primer'], return_counts=True))"
   ]
  },
  {
   "cell_type": "markdown",
   "id": "141de673-b104-4029-bdf8-43314f630f1d",
   "metadata": {},
   "source": [
    "## all checks out, save now: "
   ]
  },
  {
   "cell_type": "code",
   "execution_count": 21,
   "id": "eaedf18a-85bf-49b8-82e0-4feb7f45d9b1",
   "metadata": {
    "tags": []
   },
   "outputs": [
    {
     "name": "stdout",
     "output_type": "stream",
     "text": [
      "/lab/solexa_weissman/puzheng/MERFISH_Probes/4T1_MERFISH/MF9_4T1Lung_mf4plus_addon/2024_10_6_mergedMF9_twist_probes.xlsx\n"
     ]
    }
   ],
   "source": [
    "merged_savefile = os.path.join(mf4plus_addon_folder, f\"{time.localtime().tm_year}_{time.localtime().tm_mon}_{time.localtime().tm_mday}_mergedMF9_twist_probes.xlsx\")\n",
    "print(merged_savefile)\n",
    "merged_probes.to_excel(merged_savefile, index=False)"
   ]
  },
  {
   "cell_type": "code",
   "execution_count": null,
   "id": "1ee5d688-aba8-41ce-bbae-cf0f343a3412",
   "metadata": {},
   "outputs": [],
   "source": []
  }
 ],
 "metadata": {
  "kernelspec": {
   "display_name": "postanalysis",
   "language": "python",
   "name": "postanalysis"
  },
  "language_info": {
   "codemirror_mode": {
    "name": "ipython",
    "version": 3
   },
   "file_extension": ".py",
   "mimetype": "text/x-python",
   "name": "python",
   "nbconvert_exporter": "python",
   "pygments_lexer": "ipython3",
   "version": "3.10.12"
  },
  "widgets": {
   "application/vnd.jupyter.widget-state+json": {
    "state": {},
    "version_major": 2,
    "version_minor": 0
   }
  }
 },
 "nbformat": 4,
 "nbformat_minor": 5
}
